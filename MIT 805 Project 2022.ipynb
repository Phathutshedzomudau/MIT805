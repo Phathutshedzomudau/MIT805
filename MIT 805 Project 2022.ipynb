{
 "cells": [
  {
   "cell_type": "markdown",
   "metadata": {},
   "source": [
    " ### --------------------------------------------------------------------\n",
    " ### Name:                     Phathutshedzo Tiny Mudau\n",
    " ### Student No:           22783352\n",
    " ### Module:                  MIT 805 (Big Data Processing) \n",
    " ### Project: Assignment 2\n",
    " ### --------------------------------------------------------------------"
   ]
  },
  {
   "cell_type": "markdown",
   "metadata": {},
   "source": [
    "## Description"
   ]
  },
  {
   "cell_type": "markdown",
   "metadata": {},
   "source": [
    "<p style='text-align: justify;'>  The assignment is to use the Large Data frameworks and techniques that you learned in the course to address a real-world big data problem. Coding the MapReduce algorithm to extract and summarize the data as well as visualizing the dataset are specific tasks. A dataset between 3GB and 20GB in size is needed. Consequently, a dataset of previous loans from Lending Club was chosen. Loans were logged in this open-source dataset from Lending Club between 2007 and the third quarter of 2019. The data is available to download on the following website https://www.kaggle.com/denychaen/lending-club-loans-rejects-data. </p>\n",
    "\n",
    "<p style='text-align: justify;'> According to market share, The Lending Club is one of the major peer-to-peer (P2P) lending platforms in the United States. Since the P2P market's start in 2007, it has expanded dramatically, sparking increased interest from consumers. With billions of dollars in annual loans made, there are large potential to profit from this alternative investment choice; however, it is still the investor's obligation to recognize the risks involved in the lending industry within this market. The goal of this project is to use big data techniques to extract data from extensive records of loans provided over the platform's operational years. The dataset includes 2,650,550 issued loans, each of which comprises 159 attributes. Due to the size of the dataset (3.47GB), processing it on a system with limited processing capability is challenging. The major goal of this project is to visualize numerous borrower characteristics in order to better understand distinct borrower characteristics in this market. Additionally, machine learning models will be used to predict the types of borrowers that are most likely to default on their loans.</p>"
   ]
  },
  {
   "cell_type": "markdown",
   "metadata": {},
   "source": [
    "### Predictive Models using pyspark"
   ]
  },
  {
   "cell_type": "code",
   "execution_count": 1,
   "metadata": {},
   "outputs": [
    {
     "data": {
      "text/html": [
       "        <script type=\"text/javascript\">\n",
       "        window.PlotlyConfig = {MathJaxConfig: 'local'};\n",
       "        if (window.MathJax && window.MathJax.Hub && window.MathJax.Hub.Config) {window.MathJax.Hub.Config({SVG: {font: \"STIX-Web\"}});}\n",
       "        if (typeof require !== 'undefined') {\n",
       "        require.undef(\"plotly\");\n",
       "        requirejs.config({\n",
       "            paths: {\n",
       "                'plotly': ['https://cdn.plot.ly/plotly-2.14.0.min']\n",
       "            }\n",
       "        });\n",
       "        require(['plotly'], function(Plotly) {\n",
       "            window._Plotly = Plotly;\n",
       "        });\n",
       "        }\n",
       "        </script>\n",
       "        "
      ]
     },
     "metadata": {},
     "output_type": "display_data"
    },
    {
     "name": "stderr",
     "output_type": "stream",
     "text": [
      "C:\\Users\\PHATHUTSHEDZO\\anaconda3\\lib\\site-packages\\pyspark\\sql\\context.py:112: FutureWarning:\n",
      "\n",
      "Deprecated in 3.0.0. Use SparkSession.builder.getOrCreate() instead.\n",
      "\n"
     ]
    }
   ],
   "source": [
    "import findspark\n",
    "findspark.init()\n",
    "\n",
    "# Spark session initailiser\n",
    "from pyspark import SparkConf\n",
    "from pyspark.sql import SparkSession\n",
    "from pyspark.sql import SQLContext\n",
    "from pyspark.sql import functions as F\n",
    "from pyspark.sql.functions import isnan, when, count, col, year, quarter, lit, to_date, to_timestamp, concat, avg\n",
    "from pyspark.sql.types import DateType, TimestampType\n",
    "from pyspark import SparkContext\n",
    "from pyspark import SparkConf\n",
    "\n",
    "# Machine Learning Packages\n",
    "from pyspark.ml.feature import Imputer\n",
    "from pyspark.sql import DataFrameStatFunctions as statFunc\n",
    "from pyspark.ml.feature import StringIndexer\n",
    "from pyspark.ml.feature import VectorAssembler\n",
    "from pyspark.ml.feature import IndexToString\n",
    "from pyspark.mllib.tree import RandomForest, RandomForestModel\n",
    "from pyspark.ml.classification import GBTClassifier\n",
    "from pyspark.ml.classification import RandomForestClassifier\n",
    "from pyspark.ml.classification import NaiveBayes\n",
    "from pyspark.ml.classification import LinearSVC\n",
    "from pyspark.ml.evaluation import BinaryClassificationEvaluator\n",
    "from pyspark.mllib.evaluation import BinaryClassificationMetrics\n",
    "from pyspark.ml.evaluation import MulticlassClassificationEvaluator\n",
    "from pyspark.ml.feature import PCA, IndexToString, StringIndexer, VectorIndexer, VectorSlicer\n",
    "from pyspark.ml.classification import LogisticRegression\n",
    "from pyspark.mllib.classification import LogisticRegressionWithLBFGS\n",
    "from pyspark.ml import Pipeline\n",
    "from pyspark.ml.evaluation import MulticlassClassificationEvaluator\n",
    "from pyspark.mllib.classification import SVMWithSGD, SVMModel\n",
    "from pyspark.mllib.regression import LabeledPoint\n",
    "from pyspark.ml.tuning import CrossValidator, ParamGridBuilder\n",
    "from sklearn.metrics import roc_curve, auc\n",
    "\n",
    "%matplotlib inline\n",
    "#%matplotlib notebook \n",
    "\n",
    "import datetime\n",
    "import numpy as np\n",
    "import pandas as pd\n",
    "from pandas import DataFrame as df\n",
    "import matplotlib\n",
    "\n",
    "# Force matplotlib to not use any Xwindows backend.\n",
    "matplotlib.use('Agg')\n",
    "import matplotlib.pyplot as plt\n",
    "import seaborn as sns\n",
    "sns.set(color_codes=True)\n",
    "from scipy import stats\n",
    "\n",
    "import chart_studio.plotly as py #import plotly.plotly as py\n",
    "\n",
    "import plotly.graph_objs as go\n",
    "from plotly.offline import init_notebook_mode,iplot\n",
    "init_notebook_mode(connected=True)\n",
    "\n",
    "import os\n",
    "memory = '8g'\n",
    "pyspark_submit_args = ' --driver-memory ' + memory + ' pyspark-shell'\n",
    "os.environ[\"PYSPARK_SUBMIT_ARGS\"] = pyspark_submit_args\n",
    "#sc = SparkContext()  \n",
    "SparkContext.setSystemProperty('spark.executor.memory', '8g')\n",
    "SparkContext.setSystemProperty('spark.driver.memory', '8g')\n",
    "spark_conf = SparkConf().setAll(pairs = [('spark.executor.memory', '8g'), ('spark.executor.cores', '4'), ('spark.cores.max', '4'), ('spark.driver.memory','4g')])\n",
    "spark = SparkSession.builder.master(\"local[*]\").config(conf = spark_conf).appName(\"Lending-Club Loan Analysis using Pyspark\").getOrCreate()\n",
    "sqlContext = SQLContext(spark)\n",
    "\n",
    "spark.sparkContext.setLogLevel('ERROR')\n",
    "\n",
    "import warnings\n",
    "warnings.filterwarnings('ignore')\n",
    "\n"
   ]
  },
  {
   "cell_type": "markdown",
   "metadata": {},
   "source": [
    "### Load the dataset"
   ]
  },
  {
   "cell_type": "code",
   "execution_count": 2,
   "metadata": {},
   "outputs": [],
   "source": [
    "Loan_Data = spark.read.csv(\"file:///C:/Users/PHATHUTSHEDZO/Downloads/MIT805 ASSIGNMENT/Lending Club Data/Loan_2007-2019.csv\", header=True, mode=\"DROPMALFORMED\", inferSchema =True)"
   ]
  },
  {
   "cell_type": "code",
   "execution_count": 3,
   "metadata": {},
   "outputs": [
    {
     "name": "stdout",
     "output_type": "stream",
     "text": [
      "root\n",
      " |-- id: string (nullable = true)\n",
      " |-- member_id: string (nullable = true)\n",
      " |-- loan_amnt: double (nullable = true)\n",
      " |-- funded_amnt: double (nullable = true)\n",
      " |-- funded_amnt_inv: double (nullable = true)\n",
      " |-- term: string (nullable = true)\n",
      " |-- int_rate: string (nullable = true)\n",
      " |-- installment: double (nullable = true)\n",
      " |-- grade: string (nullable = true)\n",
      " |-- sub_grade: string (nullable = true)\n",
      " |-- emp_title: string (nullable = true)\n",
      " |-- emp_length: string (nullable = true)\n",
      " |-- home_ownership: string (nullable = true)\n",
      " |-- annual_inc: string (nullable = true)\n",
      " |-- verification_status: string (nullable = true)\n",
      " |-- issue_d: string (nullable = true)\n",
      " |-- loan_status: string (nullable = true)\n",
      " |-- pymnt_plan: string (nullable = true)\n",
      " |-- url: string (nullable = true)\n",
      " |-- desc: string (nullable = true)\n",
      " |-- purpose: string (nullable = true)\n",
      " |-- title: string (nullable = true)\n",
      " |-- zip_code: string (nullable = true)\n",
      " |-- addr_state: string (nullable = true)\n",
      " |-- dti: string (nullable = true)\n",
      " |-- delinq_2yrs: string (nullable = true)\n",
      " |-- earliest_cr_line: string (nullable = true)\n",
      " |-- fico_range_low: string (nullable = true)\n",
      " |-- fico_range_high: string (nullable = true)\n",
      " |-- inq_last_6mths: string (nullable = true)\n",
      " |-- mths_since_last_delinq: string (nullable = true)\n",
      " |-- mths_since_last_record: string (nullable = true)\n",
      " |-- open_acc: string (nullable = true)\n",
      " |-- pub_rec: string (nullable = true)\n",
      " |-- revol_bal: string (nullable = true)\n",
      " |-- revol_util: string (nullable = true)\n",
      " |-- total_acc: string (nullable = true)\n",
      " |-- initial_list_status: string (nullable = true)\n",
      " |-- out_prncp: string (nullable = true)\n",
      " |-- out_prncp_inv: string (nullable = true)\n",
      " |-- total_pymnt: string (nullable = true)\n",
      " |-- total_pymnt_inv: string (nullable = true)\n",
      " |-- total_rec_prncp: string (nullable = true)\n",
      " |-- total_rec_int: string (nullable = true)\n",
      " |-- total_rec_late_fee: string (nullable = true)\n",
      " |-- recoveries: string (nullable = true)\n",
      " |-- collection_recovery_fee: string (nullable = true)\n",
      " |-- last_pymnt_d: string (nullable = true)\n",
      " |-- last_pymnt_amnt: string (nullable = true)\n",
      " |-- next_pymnt_d: string (nullable = true)\n",
      " |-- last_credit_pull_d: string (nullable = true)\n",
      " |-- last_fico_range_high: string (nullable = true)\n",
      " |-- last_fico_range_low: string (nullable = true)\n",
      " |-- collections_12_mths_ex_med: string (nullable = true)\n",
      " |-- mths_since_last_major_derog: string (nullable = true)\n",
      " |-- policy_code: string (nullable = true)\n",
      " |-- application_type: string (nullable = true)\n",
      " |-- annual_inc_joint: string (nullable = true)\n",
      " |-- dti_joint: string (nullable = true)\n",
      " |-- verification_status_joint: string (nullable = true)\n",
      " |-- acc_now_delinq: string (nullable = true)\n",
      " |-- tot_coll_amt: string (nullable = true)\n",
      " |-- tot_cur_bal: string (nullable = true)\n",
      " |-- open_acc_6m: string (nullable = true)\n",
      " |-- open_act_il: string (nullable = true)\n",
      " |-- open_il_12m: string (nullable = true)\n",
      " |-- open_il_24m: string (nullable = true)\n",
      " |-- mths_since_rcnt_il: string (nullable = true)\n",
      " |-- total_bal_il: string (nullable = true)\n",
      " |-- il_util: string (nullable = true)\n",
      " |-- open_rv_12m: string (nullable = true)\n",
      " |-- open_rv_24m: string (nullable = true)\n",
      " |-- max_bal_bc: string (nullable = true)\n",
      " |-- all_util: string (nullable = true)\n",
      " |-- total_rev_hi_lim: string (nullable = true)\n",
      " |-- inq_fi: string (nullable = true)\n",
      " |-- total_cu_tl: string (nullable = true)\n",
      " |-- inq_last_12m: double (nullable = true)\n",
      " |-- acc_open_past_24mths: double (nullable = true)\n",
      " |-- avg_cur_bal: string (nullable = true)\n",
      " |-- bc_open_to_buy: double (nullable = true)\n",
      " |-- bc_util: string (nullable = true)\n",
      " |-- chargeoff_within_12_mths: double (nullable = true)\n",
      " |-- delinq_amnt: double (nullable = true)\n",
      " |-- mo_sin_old_il_acct: double (nullable = true)\n",
      " |-- mo_sin_old_rev_tl_op: double (nullable = true)\n",
      " |-- mo_sin_rcnt_rev_tl_op: double (nullable = true)\n",
      " |-- mo_sin_rcnt_tl: double (nullable = true)\n",
      " |-- mort_acc: double (nullable = true)\n",
      " |-- mths_since_recent_bc: double (nullable = true)\n",
      " |-- mths_since_recent_bc_dlq: double (nullable = true)\n",
      " |-- mths_since_recent_inq: double (nullable = true)\n",
      " |-- mths_since_recent_revol_delinq: double (nullable = true)\n",
      " |-- num_accts_ever_120_pd: double (nullable = true)\n",
      " |-- num_actv_bc_tl: double (nullable = true)\n",
      " |-- num_actv_rev_tl: double (nullable = true)\n",
      " |-- num_bc_sats: double (nullable = true)\n",
      " |-- num_bc_tl: double (nullable = true)\n",
      " |-- num_il_tl: double (nullable = true)\n",
      " |-- num_op_rev_tl: double (nullable = true)\n",
      " |-- num_rev_accts: double (nullable = true)\n",
      " |-- num_rev_tl_bal_gt_0: double (nullable = true)\n",
      " |-- num_sats: double (nullable = true)\n",
      " |-- num_tl_120dpd_2m: double (nullable = true)\n",
      " |-- num_tl_30dpd: double (nullable = true)\n",
      " |-- num_tl_90g_dpd_24m: double (nullable = true)\n",
      " |-- num_tl_op_past_12m: double (nullable = true)\n",
      " |-- pct_tl_nvr_dlq: double (nullable = true)\n",
      " |-- percent_bc_gt_75: double (nullable = true)\n",
      " |-- pub_rec_bankruptcies: double (nullable = true)\n",
      " |-- tax_liens: double (nullable = true)\n",
      " |-- tot_hi_cred_lim: double (nullable = true)\n",
      " |-- total_bal_ex_mort: double (nullable = true)\n",
      " |-- total_bc_limit: double (nullable = true)\n",
      " |-- total_il_high_credit_limit: double (nullable = true)\n",
      " |-- revol_bal_joint: double (nullable = true)\n",
      " |-- sec_app_fico_range_low: double (nullable = true)\n",
      " |-- sec_app_fico_range_high: double (nullable = true)\n",
      " |-- sec_app_earliest_cr_line: string (nullable = true)\n",
      " |-- sec_app_inq_last_6mths: double (nullable = true)\n",
      " |-- sec_app_mort_acc: double (nullable = true)\n",
      " |-- sec_app_open_acc: double (nullable = true)\n",
      " |-- sec_app_revol_util: double (nullable = true)\n",
      " |-- sec_app_open_act_il: double (nullable = true)\n",
      " |-- sec_app_num_rev_accts: double (nullable = true)\n",
      " |-- sec_app_chargeoff_within_12_mths: double (nullable = true)\n",
      " |-- sec_app_collections_12_mths_ex_med: double (nullable = true)\n",
      " |-- sec_app_mths_since_last_major_derog: double (nullable = true)\n",
      " |-- hardship_flag: string (nullable = true)\n",
      " |-- hardship_type: string (nullable = true)\n",
      " |-- hardship_reason: string (nullable = true)\n",
      " |-- hardship_status: string (nullable = true)\n",
      " |-- deferral_term: string (nullable = true)\n",
      " |-- hardship_amount: string (nullable = true)\n",
      " |-- hardship_start_date: string (nullable = true)\n",
      " |-- hardship_end_date: string (nullable = true)\n",
      " |-- payment_plan_start_date: string (nullable = true)\n",
      " |-- hardship_length: string (nullable = true)\n",
      " |-- hardship_dpd: string (nullable = true)\n",
      " |-- hardship_loan_status: string (nullable = true)\n",
      " |-- orig_projected_additional_accrued_interest: string (nullable = true)\n",
      " |-- hardship_payoff_balance_amount: string (nullable = true)\n",
      " |-- hardship_last_payment_amount: string (nullable = true)\n",
      " |-- debt_settlement_flag: string (nullable = true)\n",
      " |-- debt_settlement_flag_date: string (nullable = true)\n",
      " |-- settlement_status: string (nullable = true)\n",
      " |-- settlement_date: string (nullable = true)\n",
      " |-- settlement_amount: string (nullable = true)\n",
      " |-- settlement_percentage: string (nullable = true)\n",
      " |-- settlement_term: string (nullable = true)\n",
      "\n"
     ]
    }
   ],
   "source": [
    "Loan_Data.printSchema()"
   ]
  },
  {
   "cell_type": "code",
   "execution_count": 4,
   "metadata": {},
   "outputs": [
    {
     "name": "stdout",
     "output_type": "stream",
     "text": [
      "Number of rows: 2650550 and columns: 150\n"
     ]
    }
   ],
   "source": [
    "print(\"Number of rows: {} and columns: {}\".format(Loan_Data.count(),len(Loan_Data.columns)))"
   ]
  },
  {
   "cell_type": "code",
   "execution_count": 5,
   "metadata": {},
   "outputs": [
    {
     "name": "stdout",
     "output_type": "stream",
     "text": [
      "root\n",
      " |-- id: string (nullable = true)\n",
      " |-- member_id: string (nullable = true)\n",
      " |-- loan_amnt: double (nullable = true)\n",
      " |-- funded_amnt: double (nullable = true)\n",
      " |-- funded_amnt_inv: double (nullable = true)\n",
      " |-- term: string (nullable = true)\n",
      " |-- int_rate: string (nullable = true)\n",
      " |-- installment: double (nullable = true)\n",
      " |-- grade: string (nullable = true)\n",
      " |-- sub_grade: string (nullable = true)\n",
      " |-- emp_title: string (nullable = true)\n",
      " |-- emp_length: string (nullable = true)\n",
      " |-- home_ownership: string (nullable = true)\n",
      " |-- annual_inc: string (nullable = true)\n",
      " |-- verification_status: string (nullable = true)\n",
      " |-- issue_d: string (nullable = true)\n",
      " |-- loan_status: string (nullable = true)\n",
      " |-- pymnt_plan: string (nullable = true)\n",
      " |-- url: string (nullable = true)\n",
      " |-- desc: string (nullable = true)\n",
      " |-- purpose: string (nullable = true)\n",
      " |-- title: string (nullable = true)\n",
      " |-- zip_code: string (nullable = true)\n",
      " |-- addr_state: string (nullable = true)\n",
      " |-- dti: string (nullable = true)\n",
      " |-- delinq_2yrs: string (nullable = true)\n",
      " |-- earliest_cr_line: string (nullable = true)\n",
      " |-- fico_range_low: string (nullable = true)\n",
      " |-- fico_range_high: string (nullable = true)\n",
      " |-- inq_last_6mths: string (nullable = true)\n",
      " |-- mths_since_last_delinq: string (nullable = true)\n",
      " |-- mths_since_last_record: string (nullable = true)\n",
      " |-- open_acc: string (nullable = true)\n",
      " |-- pub_rec: string (nullable = true)\n",
      " |-- revol_bal: string (nullable = true)\n",
      " |-- revol_util: string (nullable = true)\n",
      " |-- total_acc: string (nullable = true)\n",
      " |-- initial_list_status: string (nullable = true)\n",
      " |-- out_prncp: string (nullable = true)\n",
      " |-- out_prncp_inv: string (nullable = true)\n",
      " |-- total_pymnt: string (nullable = true)\n",
      " |-- total_pymnt_inv: string (nullable = true)\n",
      " |-- total_rec_prncp: string (nullable = true)\n",
      " |-- total_rec_int: string (nullable = true)\n",
      " |-- total_rec_late_fee: string (nullable = true)\n",
      " |-- recoveries: string (nullable = true)\n",
      " |-- collection_recovery_fee: string (nullable = true)\n",
      " |-- last_pymnt_d: string (nullable = true)\n",
      " |-- last_pymnt_amnt: string (nullable = true)\n",
      " |-- next_pymnt_d: string (nullable = true)\n",
      " |-- last_credit_pull_d: string (nullable = true)\n",
      " |-- last_fico_range_high: string (nullable = true)\n",
      " |-- last_fico_range_low: string (nullable = true)\n",
      " |-- collections_12_mths_ex_med: string (nullable = true)\n",
      " |-- mths_since_last_major_derog: string (nullable = true)\n",
      " |-- policy_code: string (nullable = true)\n",
      " |-- application_type: string (nullable = true)\n",
      " |-- annual_inc_joint: string (nullable = true)\n",
      " |-- dti_joint: string (nullable = true)\n",
      " |-- verification_status_joint: string (nullable = true)\n",
      " |-- acc_now_delinq: string (nullable = true)\n",
      " |-- tot_coll_amt: string (nullable = true)\n",
      " |-- tot_cur_bal: string (nullable = true)\n",
      " |-- open_acc_6m: string (nullable = true)\n",
      " |-- open_act_il: string (nullable = true)\n",
      " |-- open_il_12m: string (nullable = true)\n",
      " |-- open_il_24m: string (nullable = true)\n",
      " |-- mths_since_rcnt_il: string (nullable = true)\n",
      " |-- total_bal_il: string (nullable = true)\n",
      " |-- il_util: string (nullable = true)\n",
      " |-- open_rv_12m: string (nullable = true)\n",
      " |-- open_rv_24m: string (nullable = true)\n",
      " |-- max_bal_bc: string (nullable = true)\n",
      " |-- all_util: string (nullable = true)\n",
      " |-- total_rev_hi_lim: string (nullable = true)\n",
      " |-- inq_fi: string (nullable = true)\n",
      " |-- total_cu_tl: string (nullable = true)\n",
      " |-- inq_last_12m: double (nullable = true)\n",
      " |-- acc_open_past_24mths: double (nullable = true)\n",
      " |-- avg_cur_bal: string (nullable = true)\n",
      " |-- bc_open_to_buy: double (nullable = true)\n",
      " |-- bc_util: string (nullable = true)\n",
      " |-- chargeoff_within_12_mths: double (nullable = true)\n",
      " |-- delinq_amnt: double (nullable = true)\n",
      " |-- mo_sin_old_il_acct: double (nullable = true)\n",
      " |-- mo_sin_old_rev_tl_op: double (nullable = true)\n",
      " |-- mo_sin_rcnt_rev_tl_op: double (nullable = true)\n",
      " |-- mo_sin_rcnt_tl: double (nullable = true)\n",
      " |-- mort_acc: double (nullable = true)\n",
      " |-- mths_since_recent_bc: double (nullable = true)\n",
      " |-- mths_since_recent_bc_dlq: double (nullable = true)\n",
      " |-- mths_since_recent_inq: double (nullable = true)\n",
      " |-- mths_since_recent_revol_delinq: double (nullable = true)\n",
      " |-- num_accts_ever_120_pd: double (nullable = true)\n",
      " |-- num_actv_bc_tl: double (nullable = true)\n",
      " |-- num_actv_rev_tl: double (nullable = true)\n",
      " |-- num_bc_sats: double (nullable = true)\n",
      " |-- num_bc_tl: double (nullable = true)\n",
      " |-- num_il_tl: double (nullable = true)\n",
      " |-- num_op_rev_tl: double (nullable = true)\n",
      " |-- num_rev_accts: double (nullable = true)\n",
      " |-- num_rev_tl_bal_gt_0: double (nullable = true)\n",
      " |-- num_sats: double (nullable = true)\n",
      " |-- num_tl_120dpd_2m: double (nullable = true)\n",
      " |-- num_tl_30dpd: double (nullable = true)\n",
      " |-- num_tl_90g_dpd_24m: double (nullable = true)\n",
      " |-- num_tl_op_past_12m: double (nullable = true)\n",
      " |-- pct_tl_nvr_dlq: double (nullable = true)\n",
      " |-- percent_bc_gt_75: double (nullable = true)\n",
      " |-- pub_rec_bankruptcies: double (nullable = true)\n",
      " |-- tax_liens: double (nullable = true)\n",
      " |-- tot_hi_cred_lim: double (nullable = true)\n",
      " |-- total_bal_ex_mort: double (nullable = true)\n",
      " |-- total_bc_limit: double (nullable = true)\n",
      " |-- total_il_high_credit_limit: double (nullable = true)\n",
      " |-- revol_bal_joint: double (nullable = true)\n",
      " |-- sec_app_fico_range_low: double (nullable = true)\n",
      " |-- sec_app_fico_range_high: double (nullable = true)\n",
      " |-- sec_app_earliest_cr_line: string (nullable = true)\n",
      " |-- sec_app_inq_last_6mths: double (nullable = true)\n",
      " |-- sec_app_mort_acc: double (nullable = true)\n",
      " |-- sec_app_open_acc: double (nullable = true)\n",
      " |-- sec_app_revol_util: double (nullable = true)\n",
      " |-- sec_app_open_act_il: double (nullable = true)\n",
      " |-- sec_app_num_rev_accts: double (nullable = true)\n",
      " |-- sec_app_chargeoff_within_12_mths: double (nullable = true)\n",
      " |-- sec_app_collections_12_mths_ex_med: double (nullable = true)\n",
      " |-- sec_app_mths_since_last_major_derog: double (nullable = true)\n",
      " |-- hardship_flag: string (nullable = true)\n",
      " |-- hardship_type: string (nullable = true)\n",
      " |-- hardship_reason: string (nullable = true)\n",
      " |-- hardship_status: string (nullable = true)\n",
      " |-- deferral_term: string (nullable = true)\n",
      " |-- hardship_amount: string (nullable = true)\n",
      " |-- hardship_start_date: string (nullable = true)\n",
      " |-- hardship_end_date: string (nullable = true)\n",
      " |-- payment_plan_start_date: string (nullable = true)\n",
      " |-- hardship_length: string (nullable = true)\n",
      " |-- hardship_dpd: string (nullable = true)\n",
      " |-- hardship_loan_status: string (nullable = true)\n",
      " |-- orig_projected_additional_accrued_interest: string (nullable = true)\n",
      " |-- hardship_payoff_balance_amount: string (nullable = true)\n",
      " |-- hardship_last_payment_amount: string (nullable = true)\n",
      " |-- debt_settlement_flag: string (nullable = true)\n",
      " |-- debt_settlement_flag_date: string (nullable = true)\n",
      " |-- settlement_status: string (nullable = true)\n",
      " |-- settlement_date: string (nullable = true)\n",
      " |-- settlement_amount: string (nullable = true)\n",
      " |-- settlement_percentage: string (nullable = true)\n",
      " |-- settlement_term: string (nullable = true)\n",
      "\n"
     ]
    }
   ],
   "source": [
    "Loan_Data.printSchema()"
   ]
  },
  {
   "cell_type": "code",
   "execution_count": 6,
   "metadata": {},
   "outputs": [
    {
     "name": "stdout",
     "output_type": "stream",
     "text": [
      "Number of rows: 2650550 and columns: 150\n"
     ]
    }
   ],
   "source": [
    "print(\"Number of rows: {} and columns: {}\".format(Loan_Data.count(),len(Loan_Data.columns)))"
   ]
  },
  {
   "cell_type": "markdown",
   "metadata": {},
   "source": [
    "### Take into account the number of missing columns"
   ]
  },
  {
   "cell_type": "code",
   "execution_count": 7,
   "metadata": {},
   "outputs": [
    {
     "data": {
      "text/plain": [
       "[('member_id', 2650294),\n",
       " ('desc', 2524482),\n",
       " ('sec_app_open_act_il', 2486519),\n",
       " ('dti', 2658),\n",
       " ('purpose', 33),\n",
       " ('zip_code', 34),\n",
       " ('delinq_amnt', 62),\n",
       " ('mths_since_recent_bc', 77658),\n",
       " ('revol_util', 2319),\n",
       " ('open_rv_12m', 865907),\n",
       " ('pymnt_plan', 33),\n",
       " ('num_bc_tl', 70055),\n",
       " ('num_tl_90g_dpd_24m', 70055),\n",
       " ('tax_liens', 138),\n",
       " ('next_pymnt_d', 1385663),\n",
       " ('hardship_amount', 2639233),\n",
       " ('hardship_end_date', 2639233),\n",
       " ('mths_since_recent_bc_dlq', 2053744),\n",
       " ('title', 23358),\n",
       " ('grade', 33),\n",
       " ('issue_d', 33),\n",
       " ('last_fico_range_low', 33),\n",
       " ('tot_coll_amt', 70055),\n",
       " ('tot_cur_bal', 70055),\n",
       " ('mo_sin_rcnt_rev_tl_op', 70056),\n",
       " ('num_rev_tl_bal_gt_0', 70055),\n",
       " ('num_sats', 58369),\n",
       " ('tot_hi_cred_lim', 70055),\n",
       " ('total_bc_limit', 49809),\n",
       " ('debt_settlement_flag_date', 2615740),\n",
       " ('mths_since_recent_inq', 343053),\n",
       " ('emp_length', 181957),\n",
       " ('mo_sin_old_il_acct', 149639),\n",
       " ('percent_bc_gt_75', 79900),\n",
       " ('num_rev_accts', 70056),\n",
       " ('annual_inc', 37),\n",
       " ('total_rec_int', 33),\n",
       " ('num_actv_rev_tl', 70055),\n",
       " ('term', 33),\n",
       " ('fico_range_low', 33),\n",
       " ('total_pymnt_inv', 33),\n",
       " ('total_rec_late_fee', 33),\n",
       " ('collection_recovery_fee', 33),\n",
       " ('settlement_term', 2615740),\n",
       " ('mths_since_last_major_derog', 1984949),\n",
       " ('mths_since_recent_revol_delinq', 1797701),\n",
       " ('funded_amnt', 33),\n",
       " ('pub_rec_bankruptcies', 1383),\n",
       " ('total_il_high_credit_limit', 70055),\n",
       " ('annual_inc_joint', 2473830),\n",
       " ('sec_app_fico_range_low', 2486519),\n",
       " ('hardship_payoff_balance_amount', 2639233),\n",
       " ('settlement_amount', 2615740),\n",
       " ('bc_open_to_buy', 79423),\n",
       " ('open_acc_6m', 865908),\n",
       " ('open_il_24m', 865907),\n",
       " ('total_bal_il', 865907),\n",
       " ('url', 33),\n",
       " ('fico_range_high', 33),\n",
       " ('open_acc', 62),\n",
       " ('debt_settlement_flag', 33),\n",
       " ('sec_app_earliest_cr_line', 2486519),\n",
       " ('sec_app_mths_since_last_major_derog', 2597441),\n",
       " ('hardship_length', 2639233),\n",
       " ('orig_projected_additional_accrued_interest', 2641511),\n",
       " ('open_il_12m', 865907),\n",
       " ('open_rv_24m', 865907),\n",
       " ('home_ownership', 33),\n",
       " ('total_acc', 62),\n",
       " ('initial_list_status', 33),\n",
       " ('acc_now_delinq', 62),\n",
       " ('num_accts_ever_120_pd', 70055),\n",
       " ('revol_bal_joint', 2486520),\n",
       " ('sec_app_inq_last_6mths', 2486519),\n",
       " ('sec_app_revol_util', 2489254),\n",
       " ('hardship_status', 2639233),\n",
       " ('settlement_date', 2615740),\n",
       " ('inq_fi', 865907),\n",
       " ('installment', 33),\n",
       " ('out_prncp', 33),\n",
       " ('recoveries', 33),\n",
       " ('last_pymnt_amnt', 33),\n",
       " ('mo_sin_rcnt_tl', 70055),\n",
       " ('mort_acc', 49809),\n",
       " ('pct_tl_nvr_dlq', 70210),\n",
       " ('hardship_type', 2639233),\n",
       " ('il_util', 1123872),\n",
       " ('emp_title', 225337),\n",
       " ('funded_amnt_inv', 33),\n",
       " ('verification_status', 33),\n",
       " ('mo_sin_old_rev_tl_op', 70056),\n",
       " ('num_tl_30dpd', 70055),\n",
       " ('mths_since_last_record', 2248990),\n",
       " ('sec_app_fico_range_high', 2486519),\n",
       " ('sec_app_num_rev_accts', 2486519),\n",
       " ('hardship_dpd', 2639233),\n",
       " ('settlement_status', 2615740),\n",
       " ('open_act_il', 865907),\n",
       " ('all_util', 866219),\n",
       " ('sub_grade', 33),\n",
       " ('delinq_2yrs', 62),\n",
       " ('pub_rec', 62),\n",
       " ('total_pymnt', 33),\n",
       " ('application_type', 33),\n",
       " ('total_rev_hi_lim', 70055),\n",
       " ('sec_app_mort_acc', 2486519),\n",
       " ('sec_app_chargeoff_within_12_mths', 2486519),\n",
       " ('hardship_loan_status', 2639233),\n",
       " ('inq_last_12m', 865908),\n",
       " ('addr_state', 33),\n",
       " ('revol_bal', 33),\n",
       " ('out_prncp_inv', 33),\n",
       " ('total_rec_prncp', 33),\n",
       " ('avg_cur_bal', 70150),\n",
       " ('verification_status_joint', 2485146),\n",
       " ('sec_app_open_acc', 2486519),\n",
       " ('hardship_last_payment_amount', 2639233),\n",
       " ('mths_since_last_delinq', 1378811),\n",
       " ('max_bal_bc', 865907),\n",
       " ('earliest_cr_line', 62),\n",
       " ('collections_12_mths_ex_med', 178),\n",
       " ('num_actv_bc_tl', 70055),\n",
       " ('num_bc_sats', 58369),\n",
       " ('num_il_tl', 70055),\n",
       " ('dti_joint', 2473834),\n",
       " ('deferral_term', 2639233),\n",
       " ('payment_plan_start_date', 2639233),\n",
       " ('mths_since_rcnt_il', 920491),\n",
       " ('bc_util', 80747),\n",
       " ('total_cu_tl', 865908),\n",
       " ('int_rate', 33),\n",
       " ('loan_status', 33),\n",
       " ('num_tl_op_past_12m', 70055),\n",
       " ('sec_app_collections_12_mths_ex_med', 2486519),\n",
       " ('hardship_reason', 2639233),\n",
       " ('hardship_start_date', 2639233),\n",
       " ('settlement_percentage', 2615740),\n",
       " ('num_tl_120dpd_2m', 159821),\n",
       " ('last_pymnt_d', 3106),\n",
       " ('last_credit_pull_d', 108),\n",
       " ('loan_amnt', 33),\n",
       " ('inq_last_6mths', 63),\n",
       " ('last_fico_range_high', 33),\n",
       " ('policy_code', 33),\n",
       " ('acc_open_past_24mths', 49809),\n",
       " ('chargeoff_within_12_mths', 178),\n",
       " ('num_op_rev_tl', 70055),\n",
       " ('total_bal_ex_mort', 49809),\n",
       " ('hardship_flag', 33)]"
      ]
     },
     "execution_count": 7,
     "metadata": {},
     "output_type": "execute_result"
    }
   ],
   "source": [
    "# print Missing Values\n",
    "def CheckMissingValues(df):\n",
    "    df = df.rdd.flatMap(lambda r: r.asDict().items())\n",
    "    return df.filter(lambda kv: kv[1] is None).mapValues(lambda x: 1).reduceByKey(lambda x,y: x+y).collect()\n",
    "\n",
    "CheckMissingValues(Loan_Data)"
   ]
  },
  {
   "cell_type": "markdown",
   "metadata": {},
   "source": [
    "### Find the feature columns which has more than 50% empty data"
   ]
  },
  {
   "cell_type": "code",
   "execution_count": 8,
   "metadata": {},
   "outputs": [
    {
     "name": "stdout",
     "output_type": "stream",
     "text": [
      "['member_id', 'desc', 'mths_since_last_delinq', 'mths_since_last_record', 'next_pymnt_d', 'mths_since_last_major_derog', 'annual_inc_joint', 'dti_joint', 'verification_status_joint', 'mths_since_recent_bc_dlq', 'mths_since_recent_revol_delinq', 'revol_bal_joint', 'sec_app_fico_range_low', 'sec_app_fico_range_high', 'sec_app_earliest_cr_line', 'sec_app_inq_last_6mths', 'sec_app_mort_acc', 'sec_app_open_acc', 'sec_app_revol_util', 'sec_app_open_act_il', 'sec_app_num_rev_accts', 'sec_app_chargeoff_within_12_mths', 'sec_app_collections_12_mths_ex_med', 'sec_app_mths_since_last_major_derog', 'hardship_type', 'hardship_reason', 'hardship_status', 'deferral_term', 'hardship_amount', 'hardship_start_date', 'hardship_end_date', 'payment_plan_start_date', 'hardship_length', 'hardship_dpd', 'hardship_loan_status', 'orig_projected_additional_accrued_interest', 'hardship_payoff_balance_amount', 'hardship_last_payment_amount', 'debt_settlement_flag_date', 'settlement_status', 'settlement_date', 'settlement_amount', 'settlement_percentage', 'settlement_term']\n"
     ]
    }
   ],
   "source": [
    "# find list of columns which has more than 50% of data missing.\n",
    "def findMissingValueCols(df):\n",
    "    missingValueColumns = []\n",
    "    for column in df.columns:\n",
    "        nullRows = df.where(col(column).isNull()).count()\n",
    "        #print(column, \"--\", nullRows)\n",
    "        if nullRows > df.count()*0.5 : # i.e. if ALL values are NULL\n",
    "            missingValueColumns.append(column)\n",
    "    return missingValueColumns\n",
    "\n",
    "# columns names which has more than 50% data missing\n",
    "missingValueColList = findMissingValueCols(Loan_Data)\n",
    "print(missingValueColList)"
   ]
  },
  {
   "cell_type": "markdown",
   "metadata": {},
   "source": [
    "### Cleaning up the data"
   ]
  },
  {
   "cell_type": "code",
   "execution_count": null,
   "metadata": {},
   "outputs": [],
   "source": []
  },
  {
   "cell_type": "code",
   "execution_count": 9,
   "metadata": {},
   "outputs": [],
   "source": [
    "######### 1. Removing all the features which has more than 50% of the data empty ##########\n",
    "Loan_Filtered = Loan_Data.drop(*missingValueColList)\n",
    "\n",
    "######### 2. Removing unique ID and url columns ##########\n",
    "Loan_Filtered = Loan_Filtered.drop(\"id\", \"issue_d\",\"url\")\n",
    "\n",
    "\n",
    "######### 3. Removing Other insignificant columns ########## \n",
    "# application_type has only INDIVIDUAL, can be removed. \n",
    "# pymnt_plan & initial_list_status has only one category \"n\" & \"f\". Keeping state feature instead of zip_code.\n",
    "# removing date fileds as well. policy_code has only one category \"1\"\n",
    "Loan_Filtered = Loan_Filtered.drop(\"emp_title\", \"title\", \"zip_code\", \"earliest_cr_line\", \"last_pymnt_d\", \n",
    "                                     \"next_pymnt_d\", \"last_credit_pull_d\", \"policy_code\" )\n",
    "\n",
    "\n",
    "######### 4. Missing data imputation for tot_cur_bal ########## \n",
    "# 90% of the missing data in \"tot_cur_bal\", \"tot_coll_amt\" column can be filled with 0 since their loan status is \"Fully Paid\" OR \"Charged Off\"\n",
    "Loan_Filtered = Loan_Filtered.withColumn(\"tot_cur_bal\", when((col(\"tot_cur_bal\").isNull() & \n",
    "                                                               col(\"loan_status\").isin(\"Fully Paid\", \"Charged Off\")), lit(\"0\"))\n",
    "                                          .otherwise(col(\"tot_cur_bal\")))\n",
    "\n",
    "Loan_Filtered = Loan_Filtered.withColumn(\"tot_coll_amt\", when((col(\"tot_coll_amt\").isNull() & \n",
    "                                                               col(\"loan_status\").isin(\"Fully Paid\", \"Charged Off\")), lit(\"0\"))\n",
    "                                          .otherwise(col(\"tot_coll_amt\")))\n",
    "\n",
    "# Inputing mean value for \"total_rev_hi_lim\"\n",
    "mean = int(Loan_Filtered.select(avg(\"total_rev_hi_lim\")).take(1)[0][0])\n",
    "Loan_Filtered= Loan_Filtered.withColumn(\"total_rev_hi_lim\", when(col(\"total_rev_hi_lim\").isNull(), lit(mean))\n",
    "                                           .otherwise(col(\"total_rev_hi_lim\")))\n",
    "\n",
    "######### 5. Removing loan observations which still have missing data. (~ 0.8% records) ##########\n",
    "#print(\"Total Loan Observations - \", loanDFForModel.count())\n",
    "Loan_Filtered= Loan_Filtered.dropna(how=\"any\") \n",
    "\n",
    "\n",
    "\n",
    "######### 6. Adding the lable column to dataframe. 1- defalut and 0-paid/current ##########\n",
    "Loan_Filtered = Loan_Filtered.withColumn(\"isDefault\", when(col(\"loan_status\").isin(\"Default\",\"Charged Off\", \"Late (31-120 days)\", \"Late (16-30 days)\", \n",
    "                                                                     \"Does not meet the credit policy. Status:Charged Off\"), 1)\n",
    "                           .otherwise(0))\n",
    "\n",
    "######### 7. Changing the feature datatype from string to numeric ########## \n",
    "Loan_Filtered = Loan_Filtered.withColumn(\"loan_amnt\",Loan_Filtered[\"loan_amnt\"].cast('float'))\n",
    "Loan_Filtered = Loan_Filtered.withColumn(\"funded_amnt\",Loan_Filtered[\"funded_amnt\"].cast('float'))\n",
    "Loan_Filtered = Loan_Filtered.withColumn(\"funded_amnt_inv\",Loan_Filtered[\"funded_amnt_inv\"].cast('float'))\n",
    "Loan_Filtered = Loan_Filtered.withColumn(\"int_rate\",Loan_Filtered[\"int_rate\"].cast('float'))\n",
    "Loan_Filtered = Loan_Filtered.withColumn(\"installment\",Loan_Filtered[\"installment\"].cast('float'))\n",
    "Loan_Filtered = Loan_Filtered.withColumn(\"annual_inc\",Loan_Filtered[\"annual_inc\"].cast('float'))\n",
    "Loan_Filtered = Loan_Filtered.withColumn(\"dti\",Loan_Filtered[\"dti\"].cast('float'))\n",
    "Loan_Filtered = Loan_Filtered.withColumn(\"delinq_2yrs\",Loan_Filtered[\"delinq_2yrs\"].cast('float'))\n",
    "Loan_Filtered = Loan_Filtered.withColumn(\"inq_last_6mths\",Loan_Filtered[\"inq_last_6mths\"].cast('float'))\n",
    "Loan_Filtered = Loan_Filtered.withColumn(\"open_acc\",Loan_Filtered[\"open_acc\"].cast('float'))\n",
    "Loan_Filtered = Loan_Filtered.withColumn(\"pub_rec\",Loan_Filtered[\"pub_rec\"].cast('float'))\n",
    "Loan_Filtered = Loan_Filtered.withColumn(\"revol_bal\",Loan_Filtered[\"revol_bal\"].cast('float'))\n",
    "Loan_Filtered = Loan_Filtered.withColumn(\"revol_util\",Loan_Filtered[\"revol_util\"].cast('float'))\n",
    "Loan_Filtered = Loan_Filtered.withColumn(\"total_acc\",Loan_Filtered[\"total_acc\"].cast('float'))\n",
    "Loan_Filtered = Loan_Filtered.withColumn(\"fico_range_high\",Loan_Filtered[\"fico_range_high\"].cast('float').alias(\"fico_range_high\"))\n",
    "Loan_Filtered = Loan_Filtered.withColumn(\"last_fico_range_low\",Loan_Filtered[\"last_fico_range_low\"].cast('float').alias(\"last_fico_range_low\"))\n",
    "Loan_Filtered = Loan_Filtered.withColumn(\"open_acc_6m\",Loan_Filtered[\"open_acc_6m\"].cast('float').alias(\"open_acc_6m\"))\n",
    "Loan_Filtered = Loan_Filtered.withColumn(\"open_act_il\",Loan_Filtered[\"open_act_il\"].cast('float').alias(\"open_act_il\"))\n",
    "Loan_Filtered = Loan_Filtered.withColumn(\"open_il_12m\",Loan_Filtered[\"open_il_12m\"].cast('float').alias(\"open_il_12m\"))\n",
    "Loan_Filtered = Loan_Filtered.withColumn(\"open_il_24m\",Loan_Filtered[\"open_il_24m\"].cast('float').alias(\"open_il_24m\"))\n",
    "Loan_Filtered = Loan_Filtered.withColumn(\"mths_since_rcnt_il\",Loan_Filtered[\"mths_since_rcnt_il\"].cast('float').alias(\"mths_since_rcnt_il\"))\n",
    "Loan_Filtered = Loan_Filtered.withColumn(\"total_bal_il\",Loan_Filtered[\"total_bal_il\"].cast('float').alias(\"total_bal_il\"))\n",
    "Loan_Filtered = Loan_Filtered.withColumn(\"il_util\",Loan_Filtered[\"il_util\"].cast('float').alias(\"il_util\"))\n",
    "Loan_Filtered = Loan_Filtered.withColumn(\"open_rv_12m\",Loan_Filtered[\"open_rv_12m\"].cast('float').alias(\"open_rv_12m\"))\n",
    "Loan_Filtered = Loan_Filtered.withColumn(\"open_rv_24m\",Loan_Filtered[\"open_rv_24m\"].cast('float').alias(\"open_rv_24m\"))\n",
    "Loan_Filtered = Loan_Filtered.withColumn(\"max_bal_bc\",Loan_Filtered[\"max_bal_bc\"].cast('float').alias(\"max_bal_bc\"))\n",
    "Loan_Filtered = Loan_Filtered.withColumn(\"all_util\",Loan_Filtered[\"all_util\"].cast('float').alias(\"all_util\"))\n",
    "Loan_Filtered = Loan_Filtered.withColumn(\"inq_fi\",Loan_Filtered[\"inq_fi\"].cast('float').alias(\"inq_fi\"))\n",
    "Loan_Filtered = Loan_Filtered.withColumn(\"total_cu_tl\",Loan_Filtered[\"total_cu_tl\"].cast('float').alias(\"total_cu_tl\"))\n",
    "Loan_Filtered = Loan_Filtered.withColumn(\"avg_cur_bal\",Loan_Filtered[\"avg_cur_bal\"].cast('float').alias(\"avg_cur_bal\"))\n",
    "Loan_Filtered = Loan_Filtered.withColumn(\"bc_util\",Loan_Filtered[\"bc_util\"].cast('float').alias(\"bc_util\"))\n",
    "\n",
    "\n",
    "######### 8. Removing the fileds which are related to the current loan ########## \n",
    "Loan_Filtered  =Loan_Filtered.drop(\"out_prncp\", \"out_prncp_inv\", \"total_pymnt\", \"total_pymnt_inv\", \"total_rec_prncp\", \n",
    "                                     \"total_rec_int\", \"total_rec_late_fee\", \"recoveries\", \"collection_recovery_fee\",\n",
    "                                    \"last_pymnt_amnt\", \"collections_12_mths_ex_med\", \"acc_now_delinq\", \"tot_coll_amt\",\n",
    "                                    \"tot_cur_bal\", \"total_rev_hi_lim\")"
   ]
  },
  {
   "cell_type": "code",
   "execution_count": 10,
   "metadata": {},
   "outputs": [
    {
     "name": "stdout",
     "output_type": "stream",
     "text": [
      "root\n",
      " |-- loan_amnt: float (nullable = true)\n",
      " |-- funded_amnt: float (nullable = true)\n",
      " |-- funded_amnt_inv: float (nullable = true)\n",
      " |-- term: string (nullable = true)\n",
      " |-- int_rate: float (nullable = true)\n",
      " |-- installment: float (nullable = true)\n",
      " |-- grade: string (nullable = true)\n",
      " |-- sub_grade: string (nullable = true)\n",
      " |-- emp_length: string (nullable = true)\n",
      " |-- home_ownership: string (nullable = true)\n",
      " |-- annual_inc: float (nullable = true)\n",
      " |-- verification_status: string (nullable = true)\n",
      " |-- loan_status: string (nullable = true)\n",
      " |-- pymnt_plan: string (nullable = true)\n",
      " |-- purpose: string (nullable = true)\n",
      " |-- addr_state: string (nullable = true)\n",
      " |-- dti: float (nullable = true)\n",
      " |-- delinq_2yrs: float (nullable = true)\n",
      " |-- fico_range_low: string (nullable = true)\n",
      " |-- fico_range_high: float (nullable = true)\n",
      " |-- inq_last_6mths: float (nullable = true)\n",
      " |-- open_acc: float (nullable = true)\n",
      " |-- pub_rec: float (nullable = true)\n",
      " |-- revol_bal: float (nullable = true)\n",
      " |-- revol_util: float (nullable = true)\n",
      " |-- total_acc: float (nullable = true)\n",
      " |-- initial_list_status: string (nullable = true)\n",
      " |-- last_fico_range_high: string (nullable = true)\n",
      " |-- last_fico_range_low: float (nullable = true)\n",
      " |-- application_type: string (nullable = true)\n",
      " |-- open_acc_6m: float (nullable = true)\n",
      " |-- open_act_il: float (nullable = true)\n",
      " |-- open_il_12m: float (nullable = true)\n",
      " |-- open_il_24m: float (nullable = true)\n",
      " |-- mths_since_rcnt_il: float (nullable = true)\n",
      " |-- total_bal_il: float (nullable = true)\n",
      " |-- il_util: float (nullable = true)\n",
      " |-- open_rv_12m: float (nullable = true)\n",
      " |-- open_rv_24m: float (nullable = true)\n",
      " |-- max_bal_bc: float (nullable = true)\n",
      " |-- all_util: float (nullable = true)\n",
      " |-- inq_fi: float (nullable = true)\n",
      " |-- total_cu_tl: float (nullable = true)\n",
      " |-- inq_last_12m: double (nullable = true)\n",
      " |-- acc_open_past_24mths: double (nullable = true)\n",
      " |-- avg_cur_bal: float (nullable = true)\n",
      " |-- bc_open_to_buy: double (nullable = true)\n",
      " |-- bc_util: float (nullable = true)\n",
      " |-- chargeoff_within_12_mths: double (nullable = true)\n",
      " |-- delinq_amnt: double (nullable = true)\n",
      " |-- mo_sin_old_il_acct: double (nullable = true)\n",
      " |-- mo_sin_old_rev_tl_op: double (nullable = true)\n",
      " |-- mo_sin_rcnt_rev_tl_op: double (nullable = true)\n",
      " |-- mo_sin_rcnt_tl: double (nullable = true)\n",
      " |-- mort_acc: double (nullable = true)\n",
      " |-- mths_since_recent_bc: double (nullable = true)\n",
      " |-- mths_since_recent_inq: double (nullable = true)\n",
      " |-- num_accts_ever_120_pd: double (nullable = true)\n",
      " |-- num_actv_bc_tl: double (nullable = true)\n",
      " |-- num_actv_rev_tl: double (nullable = true)\n",
      " |-- num_bc_sats: double (nullable = true)\n",
      " |-- num_bc_tl: double (nullable = true)\n",
      " |-- num_il_tl: double (nullable = true)\n",
      " |-- num_op_rev_tl: double (nullable = true)\n",
      " |-- num_rev_accts: double (nullable = true)\n",
      " |-- num_rev_tl_bal_gt_0: double (nullable = true)\n",
      " |-- num_sats: double (nullable = true)\n",
      " |-- num_tl_120dpd_2m: double (nullable = true)\n",
      " |-- num_tl_30dpd: double (nullable = true)\n",
      " |-- num_tl_90g_dpd_24m: double (nullable = true)\n",
      " |-- num_tl_op_past_12m: double (nullable = true)\n",
      " |-- pct_tl_nvr_dlq: double (nullable = true)\n",
      " |-- percent_bc_gt_75: double (nullable = true)\n",
      " |-- pub_rec_bankruptcies: double (nullable = true)\n",
      " |-- tax_liens: double (nullable = true)\n",
      " |-- tot_hi_cred_lim: double (nullable = true)\n",
      " |-- total_bal_ex_mort: double (nullable = true)\n",
      " |-- total_bc_limit: double (nullable = true)\n",
      " |-- total_il_high_credit_limit: double (nullable = true)\n",
      " |-- hardship_flag: string (nullable = true)\n",
      " |-- debt_settlement_flag: string (nullable = true)\n",
      " |-- isDefault: integer (nullable = false)\n",
      "\n"
     ]
    }
   ],
   "source": [
    "Loan_Filtered.printSchema()"
   ]
  },
  {
   "cell_type": "markdown",
   "metadata": {},
   "source": [
    "## MapReduce algorithm to count the number of appearance of string features in the dataframe"
   ]
  },
  {
   "cell_type": "code",
   "execution_count": 11,
   "metadata": {},
   "outputs": [],
   "source": [
    "# Mapreduce for counts of columns values in data frame\n",
    "def ValueCounts(df, col):\n",
    "    count = df.rdd.map(lambda row: (row[col], 1)).reduceByKey(lambda x,y: x+y).sortBy(lambda x: -x[1]).collect()\n",
    "    return count"
   ]
  },
  {
   "cell_type": "code",
   "execution_count": 12,
   "metadata": {},
   "outputs": [
    {
     "data": {
      "text/plain": [
       "[('Current', 780353),\n",
       " ('Fully Paid', 317487),\n",
       " ('Charged Off', 85320),\n",
       " ('Late (31-120 days)', 16962),\n",
       " ('In Grace Period', 7333),\n",
       " ('Late (16-30 days)', 3371),\n",
       " ('Default', 27)]"
      ]
     },
     "execution_count": 12,
     "metadata": {},
     "output_type": "execute_result"
    }
   ],
   "source": [
    "ValueCounts(Loan_Filtered, 'loan_status')"
   ]
  },
  {
   "cell_type": "markdown",
   "metadata": {},
   "source": [
    "This results shows that the dominating loans statust are `Fully Paid`, `Current` and `Charged-Off`. It is therefore not neccesary to keep all the loan status when building the model. Only these three loan status are worth keeping however the `current` loans are not interesting to investors as they need to know about the completed loans and those that are written-off. Therefore we filter the data to contain only charged off and paid up loans and encode the statuse with bolean values (`True` for charged off and `False` for paid up). "
   ]
  },
  {
   "cell_type": "code",
   "execution_count": 13,
   "metadata": {},
   "outputs": [],
   "source": [
    "def LoanStatusFilter(df):\n",
    "    # = df.filter(\"loan_status == 'Fully Paid' or loan_status == 'Charged Off' \")\n",
    "    return df.filter(\"loan_status == 'Fully Paid' or loan_status == 'Charged Off' \")\n",
    "\n",
    "Loan_Filtered = LoanStatusFilter(Loan_Filtered)\n"
   ]
  },
  {
   "cell_type": "code",
   "execution_count": 16,
   "metadata": {},
   "outputs": [
    {
     "data": {
      "text/plain": [
       "[('Fully Paid', 317487), ('Charged Off', 85320)]"
      ]
     },
     "execution_count": 16,
     "metadata": {},
     "output_type": "execute_result"
    }
   ],
   "source": [
    "ValueCounts(Loan_Filtered, 'loan_status')"
   ]
  },
  {
   "cell_type": "code",
   "execution_count": 17,
   "metadata": {},
   "outputs": [
    {
     "data": {
      "text/plain": [
       "[('C', 121815),\n",
       " ('B', 114996),\n",
       " ('A', 68449),\n",
       " ('D', 60463),\n",
       " ('E', 24714),\n",
       " ('F', 8914),\n",
       " ('G', 3456)]"
      ]
     },
     "execution_count": 17,
     "metadata": {},
     "output_type": "execute_result"
    }
   ],
   "source": [
    "ValueCounts(Loan_Filtered, 'grade')"
   ]
  },
  {
   "cell_type": "code",
   "execution_count": 18,
   "metadata": {},
   "outputs": [
    {
     "data": {
      "text/plain": [
       "[('B5', 27777),\n",
       " ('C1', 27404),\n",
       " ('B4', 24225),\n",
       " ('C5', 23930),\n",
       " ('C4', 23808),\n",
       " ('C2', 23711),\n",
       " ('C3', 22962),\n",
       " ('B3', 21655),\n",
       " ('B1', 20929),\n",
       " ('B2', 20410),\n",
       " ('A5', 16362),\n",
       " ('A1', 15003),\n",
       " ('D2', 14947),\n",
       " ('A4', 14641),\n",
       " ('D1', 14450),\n",
       " ('D3', 12293),\n",
       " ('A2', 11229),\n",
       " ('A3', 11214),\n",
       " ('D4', 10022),\n",
       " ('D5', 8751),\n",
       " ('E1', 5939),\n",
       " ('E2', 4925),\n",
       " ('E5', 4788),\n",
       " ('E3', 4736),\n",
       " ('E4', 4326),\n",
       " ('F1', 2773),\n",
       " ('F2', 1845),\n",
       " ('F3', 1668),\n",
       " ('F4', 1366),\n",
       " ('F5', 1262),\n",
       " ('G1', 1049),\n",
       " ('G2', 710),\n",
       " ('G3', 600),\n",
       " ('G4', 571),\n",
       " ('G5', 526)]"
      ]
     },
     "execution_count": 18,
     "metadata": {},
     "output_type": "execute_result"
    }
   ],
   "source": [
    "ValueCounts(Loan_Filtered, 'sub_grade')"
   ]
  },
  {
   "cell_type": "markdown",
   "metadata": {},
   "source": [
    "### Binary Encoding for Categorical Feature - \"term\", \"initial_list_status\", \"application_type\", \"pymnt_plan"
   ]
  },
  {
   "cell_type": "code",
   "execution_count": 19,
   "metadata": {},
   "outputs": [],
   "source": [
    "#These features have only two categories\n",
    "\n",
    "indexer = StringIndexer(inputCol=\"term\", outputCol=\"termIndex\", handleInvalid=\"keep\")\n",
    "Loan_Filtered = indexer.fit(Loan_Filtered).transform(Loan_Filtered)\n",
    "\n",
    "indexer = StringIndexer(inputCol=\"initial_list_status\", outputCol=\"initial_list_statusIndex\", handleInvalid=\"keep\")\n",
    "Loan_Filtered = indexer.fit(Loan_Filtered).transform(Loan_Filtered)\n",
    "\n",
    "indexer = StringIndexer(inputCol=\"application_type\", outputCol=\"application_typeIndex\", handleInvalid=\"keep\")\n",
    "Loan_Filtered = indexer.fit(Loan_Filtered).transform(Loan_Filtered)\n",
    "\n",
    "indexer = StringIndexer(inputCol=\"pymnt_plan\", outputCol=\"pymnt_planIndex\", handleInvalid=\"keep\")\n",
    "Loan_Filtered = indexer.fit(Loan_Filtered).transform(Loan_Filtered)\n"
   ]
  },
  {
   "cell_type": "code",
   "execution_count": 20,
   "metadata": {},
   "outputs": [
    {
     "name": "stdout",
     "output_type": "stream",
     "text": [
      "+---------+-----------+---------------+----------+--------+-----------+-----+---------+----------+--------------+----------+-------------------+-----------+----------+------------------+----------+-----+-----------+--------------+---------------+--------------+--------+-------+---------+----------+---------+-------------------+--------------------+-------------------+----------------+-----------+-----------+-----------+-----------+------------------+------------+-------+-----------+-----------+----------+--------+------+-----------+------------+--------------------+-----------+--------------+-------+------------------------+-----------+------------------+--------------------+---------------------+--------------+--------+--------------------+---------------------+---------------------+--------------+---------------+-----------+---------+---------+-------------+-------------+-------------------+--------+----------------+------------+------------------+------------------+--------------+----------------+--------------------+---------+---------------+-----------------+--------------+--------------------------+-------------+--------------------+---------+---------+------------------------+---------------------+---------------+\n",
      "|loan_amnt|funded_amnt|funded_amnt_inv|      term|int_rate|installment|grade|sub_grade|emp_length|home_ownership|annual_inc|verification_status|loan_status|pymnt_plan|           purpose|addr_state|  dti|delinq_2yrs|fico_range_low|fico_range_high|inq_last_6mths|open_acc|pub_rec|revol_bal|revol_util|total_acc|initial_list_status|last_fico_range_high|last_fico_range_low|application_type|open_acc_6m|open_act_il|open_il_12m|open_il_24m|mths_since_rcnt_il|total_bal_il|il_util|open_rv_12m|open_rv_24m|max_bal_bc|all_util|inq_fi|total_cu_tl|inq_last_12m|acc_open_past_24mths|avg_cur_bal|bc_open_to_buy|bc_util|chargeoff_within_12_mths|delinq_amnt|mo_sin_old_il_acct|mo_sin_old_rev_tl_op|mo_sin_rcnt_rev_tl_op|mo_sin_rcnt_tl|mort_acc|mths_since_recent_bc|mths_since_recent_inq|num_accts_ever_120_pd|num_actv_bc_tl|num_actv_rev_tl|num_bc_sats|num_bc_tl|num_il_tl|num_op_rev_tl|num_rev_accts|num_rev_tl_bal_gt_0|num_sats|num_tl_120dpd_2m|num_tl_30dpd|num_tl_90g_dpd_24m|num_tl_op_past_12m|pct_tl_nvr_dlq|percent_bc_gt_75|pub_rec_bankruptcies|tax_liens|tot_hi_cred_lim|total_bal_ex_mort|total_bc_limit|total_il_high_credit_limit|hardship_flag|debt_settlement_flag|isDefault|termIndex|initial_list_statusIndex|application_typeIndex|pymnt_planIndex|\n",
      "+---------+-----------+---------------+----------+--------+-----------+-----+---------+----------+--------------+----------+-------------------+-----------+----------+------------------+----------+-----+-----------+--------------+---------------+--------------+--------+-------+---------+----------+---------+-------------------+--------------------+-------------------+----------------+-----------+-----------+-----------+-----------+------------------+------------+-------+-----------+-----------+----------+--------+------+-----------+------------+--------------------+-----------+--------------+-------+------------------------+-----------+------------------+--------------------+---------------------+--------------+--------+--------------------+---------------------+---------------------+--------------+---------------+-----------+---------+---------+-------------+-------------+-------------------+--------+----------------+------------+------------------+------------------+--------------+----------------+--------------------+---------+---------------+-----------------+--------------+--------------------------+-------------+--------------------+---------+---------+------------------------+---------------------+---------------+\n",
      "|   3600.0|     3600.0|         3600.0| 36 months|   13.99|     123.03|    C|       C4| 10+ years|      MORTGAGE|   55000.0|       Not Verified| Fully Paid|         n|debt_consolidation|        PA| 5.91|        0.0|         675.0|          679.0|           1.0|     7.0|    0.0|   2765.0|      29.7|     13.0|                  w|               564.0|              560.0|      Individual|        2.0|        2.0|        0.0|        1.0|              21.0|      4981.0|   36.0|        3.0|        3.0|     722.0|    34.0|   3.0|        1.0|         4.0|                 4.0|    20701.0|        1506.0|   37.2|                     0.0|        0.0|             148.0|               128.0|                  3.0|           3.0|     1.0|                 4.0|                  4.0|                  2.0|           2.0|            4.0|        2.0|      5.0|      3.0|          4.0|          9.0|                4.0|     7.0|             0.0|         0.0|               0.0|               3.0|          76.9|             0.0|                 0.0|      0.0|       178050.0|           7746.0|        2400.0|                   13734.0|            N|                   N|        0|      0.0|                     0.0|                  0.0|            0.0|\n",
      "|  24700.0|    24700.0|        24700.0| 36 months|   11.99|     820.28|    C|       C1| 10+ years|      MORTGAGE|   65000.0|       Not Verified| Fully Paid|         n|    small_business|        SD|16.06|        1.0|         715.0|          719.0|           4.0|    22.0|    0.0|  21470.0|      19.2|     38.0|                  w|               699.0|              695.0|      Individual|        1.0|        1.0|        0.0|        1.0|              19.0|     18005.0|   73.0|        2.0|        3.0|    6472.0|    29.0|   0.0|        0.0|         6.0|                 4.0|     9733.0|       57830.0|   27.1|                     0.0|        0.0|             113.0|               192.0|                  2.0|           2.0|     4.0|                 2.0|                  0.0|                  0.0|           5.0|            5.0|       13.0|     17.0|      6.0|         20.0|         27.0|                5.0|    22.0|             0.0|         0.0|               0.0|               2.0|          97.4|             7.7|                 0.0|      0.0|       314017.0|          39475.0|       79300.0|                   24667.0|            N|                   N|        0|      0.0|                     0.0|                  0.0|            0.0|\n",
      "|  20000.0|    20000.0|        20000.0| 60 months|   10.78|     432.66|    B|       B4| 10+ years|      MORTGAGE|   63000.0|       Not Verified| Fully Paid|         n|  home_improvement|        IL|10.78|        0.0|         695.0|          699.0|           0.0|     6.0|    0.0|   7869.0|      56.2|     18.0|                  w|               704.0|              700.0|       Joint App|        0.0|        1.0|        0.0|        4.0|              19.0|     10827.0|   73.0|        0.0|        2.0|    2081.0|    65.0|   2.0|        5.0|         1.0|                 6.0|    31617.0|        2737.0|   55.9|                     0.0|        0.0|             125.0|               184.0|                 14.0|          14.0|     5.0|               101.0|                 10.0|                  0.0|           2.0|            3.0|        2.0|      4.0|      6.0|          4.0|          7.0|                3.0|     6.0|             0.0|         0.0|               0.0|               0.0|         100.0|            50.0|                 0.0|      0.0|       218418.0|          18696.0|        6200.0|                   14877.0|            N|                   N|        0|      1.0|                     0.0|                  1.0|            0.0|\n",
      "|  10400.0|    10400.0|        10400.0| 60 months|   22.45|     289.91|    F|       F1|   3 years|      MORTGAGE|  104433.0|    Source Verified| Fully Paid|         n|    major_purchase|        PA|25.37|        1.0|         695.0|          699.0|           3.0|    12.0|    0.0|  21929.0|      64.5|     35.0|                  w|               704.0|              700.0|      Individual|        1.0|        3.0|        0.0|        3.0|              14.0|     73839.0|   84.0|        4.0|        7.0|    9702.0|    78.0|   2.0|        1.0|         3.0|                10.0|    27644.0|        4567.0|   77.5|                     0.0|        0.0|             128.0|               210.0|                  4.0|           4.0|     6.0|                 4.0|                  1.0|                  0.0|           4.0|            6.0|        5.0|      9.0|     10.0|          7.0|         19.0|                6.0|    12.0|             0.0|         0.0|               0.0|               4.0|          96.6|            60.0|                 0.0|      0.0|       439570.0|          95768.0|       20300.0|                   88097.0|            N|                   N|        0|      1.0|                     0.0|                  0.0|            0.0|\n",
      "|  20000.0|    20000.0|        20000.0| 36 months|    9.17|     637.58|    B|       B2| 10+ years|      MORTGAGE|  180000.0|       Not Verified| Fully Paid|         n|debt_consolidation|        MN|14.67|        0.0|         680.0|          684.0|           0.0|    12.0|    0.0|  87329.0|      84.5|     27.0|                  f|               654.0|              650.0|      Individual|        0.0|        2.0|        0.0|        2.0|              18.0|     29433.0|   63.0|        2.0|        3.0|   13048.0|    74.0|   1.0|        0.0|         1.0|                 6.0|    30030.0|           0.0|  102.9|                     0.0|        0.0|             142.0|               306.0|                 10.0|          10.0|     4.0|                12.0|                 10.0|                  0.0|           4.0|            6.0|        4.0|      5.0|      7.0|          9.0|         16.0|                6.0|    12.0|             0.0|         0.0|               0.0|               2.0|          96.3|           100.0|                 0.0|      0.0|       388852.0|         116762.0|       31500.0|                   46452.0|            N|                   N|        0|      0.0|                     1.0|                  0.0|            0.0|\n",
      "|  20000.0|    20000.0|        20000.0| 36 months|    8.49|     631.26|    B|       B1| 10+ years|      MORTGAGE|   85000.0|       Not Verified| Fully Paid|         n|    major_purchase|        SC|17.61|        1.0|         705.0|          709.0|           0.0|     8.0|    0.0|    826.0|       5.7|     15.0|                  w|               674.0|              670.0|      Individual|        0.0|        3.0|        0.0|        4.0|              13.0|     27111.0|   75.0|        0.0|        0.0|     640.0|    55.0|   1.0|        0.0|         2.0|                 4.0|    17700.0|       13674.0|    5.7|                     0.0|        0.0|             149.0|                55.0|                 32.0|          13.0|     3.0|                32.0|                  8.0|                  1.0|           2.0|            2.0|        3.0|      3.0|      9.0|          3.0|          3.0|                2.0|     8.0|             0.0|         0.0|               1.0|               0.0|          93.3|             0.0|                 0.0|      0.0|       193390.0|          27937.0|       14500.0|                   36144.0|            N|                   N|        0|      0.0|                     0.0|                  0.0|            0.0|\n",
      "|  10000.0|    10000.0|        10000.0| 36 months|    6.49|     306.45|    A|       A2|   6 years|          RENT|   85000.0|       Not Verified| Fully Paid|         n|       credit_card|        PA|13.07|        0.0|         685.0|          689.0|           1.0|    14.0|    1.0|  10464.0|      34.5|     23.0|                  w|               719.0|              715.0|      Individual|        2.0|        1.0|        0.0|        0.0|              35.0|     17493.0|   57.0|        2.0|        7.0|    2524.0|    46.0|   2.0|        0.0|         1.0|                 7.0|     1997.0|        8182.0|   50.1|                     0.0|        0.0|             164.0|               129.0|                  1.0|           1.0|     1.0|                 4.0|                  1.0|                  0.0|           6.0|            9.0|        7.0|     10.0|      3.0|         13.0|         19.0|                9.0|    14.0|             0.0|         0.0|               0.0|               2.0|          95.7|            28.6|                 1.0|      0.0|        61099.0|          27957.0|       16400.0|                   30799.0|            N|                   N|        0|      0.0|                     0.0|                  0.0|            0.0|\n",
      "|   8000.0|     8000.0|         8000.0| 36 months|   11.48|     263.74|    B|       B5| 10+ years|      MORTGAGE|   42000.0|       Not Verified| Fully Paid|         n|       credit_card|        RI| 34.8|        0.0|         700.0|          704.0|           0.0|     8.0|    0.0|   7034.0|      39.1|     18.0|                  w|               679.0|              675.0|      Individual|        0.0|        2.0|        2.0|        3.0|              10.0|    106748.0|   72.0|        0.0|        2.0|    4725.0|    49.0|   0.0|        0.0|         1.0|                 5.0|    28528.0|        9966.0|   41.4|                     0.0|        0.0|             155.0|               253.0|                 15.0|          10.0|     1.0|                50.0|                 10.0|                  1.0|           3.0|            3.0|        3.0|      6.0|      5.0|          5.0|         11.0|                3.0|     8.0|             0.0|         0.0|               0.0|               2.0|          94.4|            33.3|                 0.0|      0.0|       256513.0|         113782.0|       17000.0|                  135513.0|            N|                   N|        0|      0.0|                     0.0|                  0.0|            0.0|\n",
      "|   1400.0|     1400.0|         1400.0| 36 months|   12.88|       47.1|    C|       C2|   3 years|      MORTGAGE|   64000.0|       Not Verified| Fully Paid|         n|             other|        NC|34.95|        0.0|         700.0|          704.0|           0.0|    17.0|    0.0|  37828.0|      67.2|     24.0|                  w|               704.0|              700.0|      Individual|        1.0|        3.0|        1.0|        2.0|               2.0|     37430.0|   67.0|        0.0|        2.0|    7386.0|    67.0|   0.0|        2.0|         0.0|                 4.0|    19159.0|        7940.0|   77.0|                     0.0|        0.0|              46.0|               234.0|                 18.0|           2.0|     4.0|                28.0|                 18.0|                  0.0|           7.0|           11.0|        8.0|     11.0|      3.0|         12.0|         17.0|               11.0|    17.0|             0.0|         0.0|               0.0|               1.0|         100.0|            75.0|                 0.0|      0.0|       372109.0|          75258.0|       34500.0|                   55501.0|            N|                   N|        0|      0.0|                     0.0|                  0.0|            0.0|\n",
      "|  18000.0|    18000.0|        18000.0| 60 months|   19.48|      471.7|    E|       E2|   7 years|          RENT|  150000.0|       Not Verified|Charged Off|         n|debt_consolidation|        CA| 9.39|        0.0|         665.0|          669.0|           1.0|    18.0|    1.0|  14052.0|      40.7|     27.0|                  w|               584.0|              580.0|      Individual|        2.0|        2.0|        1.0|        3.0|               2.0|     22195.0|   71.0|        2.0|        4.0|    1271.0|    55.0|   2.0|        1.0|         2.0|                 7.0|     2014.0|        5128.0|   51.3|                     0.0|        0.0|             115.0|               112.0|                  1.0|           1.0|     2.0|                 9.0|                  2.0|                  0.0|           6.0|           13.0|        7.0|      8.0|      6.0|         16.0|         19.0|               13.0|    18.0|             0.0|         0.0|               0.0|               3.0|         100.0|            14.3|                 1.0|      0.0|        65819.0|          36247.0|       10300.0|                   31319.0|            N|                   N|        1|      1.0|                     0.0|                  0.0|            0.0|\n",
      "|   9600.0|     9600.0|         9600.0| 36 months|    7.49|     298.58|    A|       A4|   8 years|      MORTGAGE|   60000.0|       Not Verified| Fully Paid|         n|       credit_card|        SC|22.44|        0.0|         695.0|          699.0|           0.0|     7.0|    0.0|   7722.0|      59.4|      9.0|                  w|               779.0|              775.0|      Individual|        0.0|        3.0|        0.0|        0.0|              47.0|     47665.0|   43.0|        2.0|        2.0|    4744.0|    50.0|   0.0|        0.0|         2.0|                 2.0|     7912.0|        4778.0|   61.8|                     0.0|        0.0|             234.0|                91.0|                  9.0|           9.0|     0.0|                11.0|                  9.0|                  0.0|           3.0|            3.0|        3.0|      3.0|      5.0|          4.0|          4.0|                3.0|     7.0|             0.0|         0.0|               0.0|               2.0|         100.0|            66.7|                 0.0|      0.0|        88635.0|          55387.0|       12500.0|                   75635.0|            N|                   N|        0|      0.0|                     0.0|                  0.0|            0.0|\n",
      "|  25000.0|    25000.0|        25000.0| 36 months|    7.49|     777.55|    A|       A4| 10+ years|      MORTGAGE|  109000.0|       Not Verified| Fully Paid|         n|debt_consolidation|        VA|26.02|        0.0|         745.0|          749.0|           1.0|     9.0|    0.0|  20862.0|      54.3|     19.0|                  w|               724.0|              720.0|      Individual|        0.0|        3.0|        0.0|        1.0|              13.0|     47194.0|   58.0|        0.0|        1.0|    8937.0|    57.0|   1.0|        0.0|         1.0|                 2.0|    33976.0|       17538.0|   54.3|                     0.0|        0.0|             142.0|               168.0|                 13.0|          13.0|     3.0|                13.0|                  0.0|                  0.0|           3.0|            3.0|        5.0|      6.0|      7.0|          5.0|          9.0|                3.0|     9.0|             0.0|         0.0|               0.0|               0.0|         100.0|            20.0|                 0.0|      0.0|       373572.0|          68056.0|       38400.0|                   82117.0|            N|                   N|        0|      0.0|                     0.0|                  0.0|            0.0|\n",
      "|  18000.0|    18000.0|        18000.0| 60 months|   11.99|     400.31|    C|       C1| 10+ years|      MORTGAGE|  112000.0|       Not Verified| Fully Paid|         n|debt_consolidation|        AZ| 8.68|        0.0|         800.0|          804.0|           0.0|    17.0|    0.0|  10711.0|      15.5|     27.0|                  w|               794.0|              790.0|      Individual|        3.0|        1.0|        2.0|        2.0|               3.0|     25416.0|   97.0|        2.0|        3.0|    7672.0|    38.0|   0.0|        1.0|         1.0|                 5.0|    17089.0|       60336.0|   16.7|                     0.0|        0.0|             109.0|               265.0|                  1.0|           1.0|     4.0|                 1.0|                 10.0|                  0.0|           5.0|            6.0|       12.0|     12.0|      6.0|         15.0|         17.0|                6.0|    16.0|             0.0|         0.0|               0.0|               4.0|         100.0|             0.0|                 0.0|      0.0|       309710.0|          36127.0|       69800.0|                   26210.0|            N|                   N|        0|      1.0|                     0.0|                  0.0|            0.0|\n",
      "|  29900.0|    29900.0|        29900.0| 60 months|   12.88|     678.49|    C|       C2| 10+ years|      MORTGAGE|   65000.0|           Verified| Fully Paid|         n|debt_consolidation|        MD|21.77|        0.0|         715.0|          719.0|           0.0|    15.0|    0.0|  31682.0|      46.7|     31.0|                  w|               719.0|              715.0|      Individual|        2.0|        1.0|        1.0|        2.0|               9.0|     10815.0|   69.0|        3.0|        5.0|   12971.0|    51.0|   0.0|        4.0|         1.0|                 7.0|    15732.0|       18383.0|   45.9|                     0.0|        0.0|             114.0|               139.0|                  5.0|           5.0|     2.0|                 5.0|                  9.0|                  0.0|           2.0|            5.0|        4.0|      9.0|      8.0|         13.0|         21.0|                5.0|    15.0|             0.0|         0.0|               0.0|               4.0|         100.0|            25.0|                 0.0|      0.0|       271700.0|          42497.0|       34000.0|                   15574.0|            N|                   N|        0|      1.0|                     0.0|                  0.0|            0.0|\n",
      "|  16000.0|    16000.0|        16000.0| 60 months|   14.85|     379.39|    C|       C5| 10+ years|      MORTGAGE|   48000.0|       Not Verified| Fully Paid|         n|       credit_card|        SC|33.18|        0.0|         685.0|          689.0|           0.0|    11.0|    2.0|  19108.0|      29.6|     19.0|                  w|               664.0|              660.0|      Individual|        1.0|        2.0|        1.0|        2.0|               6.0|     12221.0|   91.0|        1.0|        4.0|   14982.0|    65.0|   0.0|        0.0|         1.0|                 6.0|     2848.0|      263953.0|   17.6|                     0.0|        0.0|             131.0|               294.0|                 11.0|           6.0|     2.0|                11.0|                 11.0|                  2.0|           6.0|            9.0|        6.0|      8.0|      6.0|          9.0|         11.0|                9.0|    11.0|             0.0|         0.0|               0.0|               2.0|          78.9|             0.0|                 0.0|      2.0|       298100.0|          31329.0|      281300.0|                   13400.0|            N|                   N|        0|      1.0|                     0.0|                  0.0|            0.0|\n",
      "|   5000.0|     5000.0|         5000.0| 36 months|   13.44|     169.54|    C|       C3|   2 years|          RENT|   79000.0|           Verified| Fully Paid|         n|       credit_card|        MD| 12.7|        0.0|         665.0|          669.0|           0.0|     3.0|    0.0|   9441.0|     101.5|      5.0|                  w|               659.0|              655.0|      Individual|        0.0|        1.0|        0.0|        1.0|              19.0|     26212.0|   83.0|        0.0|        0.0|    4360.0|    87.0|   2.0|        0.0|         0.0|                 1.0|    11884.0|           0.0|  101.4|                     0.0|        0.0|              50.0|                36.0|                 32.0|          19.0|     0.0|                36.0|                 19.0|                  0.0|           1.0|            2.0|        1.0|      1.0|      3.0|          2.0|          2.0|                2.0|     3.0|             0.0|         0.0|               0.0|               0.0|         100.0|           100.0|                 0.0|      0.0|        41091.0|          35653.0|        4300.0|                   31791.0|            N|                   N|        0|      0.0|                     0.0|                  0.0|            0.0|\n",
      "|   6000.0|     6000.0|         6000.0| 36 months|    7.49|     186.61|    A|       A4| 10+ years|      MORTGAGE|  100000.0|       Not Verified| Fully Paid|         n|debt_consolidation|        TX|13.28|        1.0|         695.0|          699.0|           1.0|     9.0|    0.0|   8563.0|      72.0|     16.0|                  w|               719.0|              715.0|      Individual|        0.0|        2.0|        0.0|        0.0|              28.0|     12525.0|   35.0|        0.0|        1.0|    2260.0|    45.0|   0.0|        1.0|         1.0|                 1.0|    12911.0|         437.0|   88.5|                     0.0|        0.0|             124.0|               259.0|                 18.0|          18.0|     2.0|                36.0|                  6.0|                  0.0|           2.0|            4.0|        2.0|      6.0|      4.0|          5.0|          9.0|                4.0|     9.0|             0.0|         0.0|               0.0|               0.0|          93.7|            50.0|                 0.0|      0.0|       156354.0|          22741.0|        3800.0|                   36083.0|            N|                   N|        0|      0.0|                     0.0|                  0.0|            0.0|\n",
      "|   4225.0|     4225.0|         4225.0| 36 months|   14.85|     146.16|    C|       C5|   5 years|          RENT|   35000.0|    Source Verified|Charged Off|         n|debt_consolidation|        KS|15.22|        2.0|         725.0|          729.0|           0.0|     6.0|    0.0|   1058.0|      24.6|      6.0|                  w|               499.0|                0.0|      Individual|        0.0|        1.0|        0.0|        0.0|              47.0|      3830.0|   22.0|        0.0|        0.0|     367.0|    22.0|   0.0|        0.0|         0.0|                 0.0|      815.0|        2233.0|   14.1|                     0.0|        0.0|              47.0|                53.0|                 26.0|          26.0|     0.0|                26.0|                 14.0|                  0.0|           1.0|            2.0|        3.0|      3.0|      1.0|          5.0|          5.0|                2.0|     6.0|             0.0|         0.0|               0.0|               0.0|          66.7|             0.0|                 0.0|      0.0|        21822.0|           4888.0|        2600.0|                   17522.0|            N|                   N|        1|      0.0|                     0.0|                  0.0|            0.0|\n",
      "|  20000.0|    20000.0|        20000.0| 36 months|    5.32|      602.3|    A|       A1|   9 years|           OWN|   65000.0|       Not Verified| Fully Paid|         n|debt_consolidation|        NY|18.83|        0.0|         835.0|          839.0|           1.0|    12.0|    0.0|   2269.0|       3.0|     17.0|                  w|               809.0|              805.0|      Individual|        0.0|        2.0|        0.0|        1.0|              15.0|     13175.0|   44.0|        0.0|        1.0|    1448.0|    15.0|   2.0|        0.0|         1.0|                 2.0|     1287.0|       73931.0|    3.0|                     0.0|        0.0|              63.0|               295.0|                 19.0|          15.0|     0.0|                19.0|                  4.0|                  0.0|           3.0|            3.0|       10.0|     11.0|      4.0|         10.0|         13.0|                3.0|    12.0|             0.0|         0.0|               0.0|               0.0|         100.0|             0.0|                 0.0|      0.0|       106217.0|          15444.0|       76200.0|                   30017.0|            N|                   N|        0|      0.0|                     0.0|                  0.0|            0.0|\n",
      "|  16000.0|    16000.0|        16000.0| 60 months|   17.97|     406.04|    D|       D4|  < 1 year|      MORTGAGE|  109000.0|    Source Verified| Fully Paid|         n|debt_consolidation|        NM|23.35|        0.0|         680.0|          684.0|           1.0|    11.0|    0.0|  42469.0|      87.6|     33.0|                  w|               679.0|              675.0|      Individual|        2.0|        2.0|        2.0|        2.0|               3.0|     20689.0|   94.0|        1.0|        3.0|    8897.0|    90.0|   0.0|        3.0|         1.0|                 5.0|    16631.0|           0.0|  100.8|                     0.0|        0.0|             149.0|               164.0|                  3.0|           3.0|     1.0|                13.0|                  1.0|                  0.0|           3.0|            6.0|        3.0|     13.0|     10.0|          8.0|         22.0|                6.0|    11.0|             0.0|         0.0|               0.0|               3.0|         100.0|           100.0|                 0.0|      0.0|       228050.0|          63158.0|       15800.0|                   22000.0|            N|                   N|        0|      1.0|                     0.0|                  0.0|            0.0|\n",
      "+---------+-----------+---------------+----------+--------+-----------+-----+---------+----------+--------------+----------+-------------------+-----------+----------+------------------+----------+-----+-----------+--------------+---------------+--------------+--------+-------+---------+----------+---------+-------------------+--------------------+-------------------+----------------+-----------+-----------+-----------+-----------+------------------+------------+-------+-----------+-----------+----------+--------+------+-----------+------------+--------------------+-----------+--------------+-------+------------------------+-----------+------------------+--------------------+---------------------+--------------+--------+--------------------+---------------------+---------------------+--------------+---------------+-----------+---------+---------+-------------+-------------+-------------------+--------+----------------+------------+------------------+------------------+--------------+----------------+--------------------+---------+---------------+-----------------+--------------+--------------------------+-------------+--------------------+---------+---------+------------------------+---------------------+---------------+\n",
      "only showing top 20 rows\n",
      "\n"
     ]
    }
   ],
   "source": [
    "Loan_Filtered.show()"
   ]
  },
  {
   "cell_type": "markdown",
   "metadata": {},
   "source": [
    "### One-Hot Encoding for Categorical Feature - \"grade\"¶"
   ]
  },
  {
   "cell_type": "code",
   "execution_count": 21,
   "metadata": {},
   "outputs": [
    {
     "name": "stdout",
     "output_type": "stream",
     "text": [
      "['grade_F', 'grade_E', 'grade_B', 'grade_D', 'grade_C', 'grade_A', 'grade_G']\n"
     ]
    }
   ],
   "source": [
    "#categories = loanDFForModel.select(\"grade\").distinct().rdd.flatMap(lambda x: x).collect()\n",
    "categories = Loan_Filtered.select(\"grade\").distinct().toPandas().grade.tolist()\n",
    "#print(categories)\n",
    "#print(type(categories))\n",
    "exprs = [F.when(F.col(\"grade\") == category, 1).otherwise(0).alias(category)\n",
    "         for category in categories]\n",
    "\n",
    "Loan_Filtered = Loan_Filtered.select(\"*\", *exprs)\n",
    "\n",
    "newCategories = []\n",
    "for category in categories:\n",
    "    Loan_Filtered = Loan_Filtered.withColumnRenamed(category, \"grade_\"+category)\n",
    "    newCategories.append(\"grade_\"+category)\n",
    "print(newCategories)"
   ]
  },
  {
   "cell_type": "markdown",
   "metadata": {},
   "source": [
    "## One-Hot Encoding for Categorical Feature - \"sub_grade\""
   ]
  },
  {
   "cell_type": "code",
   "execution_count": 22,
   "metadata": {},
   "outputs": [
    {
     "name": "stdout",
     "output_type": "stream",
     "text": [
      "['sub_grade_D5', 'sub_grade_F2', 'sub_grade_B4', 'sub_grade_A2', 'sub_grade_E4', 'sub_grade_B2', 'sub_grade_C3', 'sub_grade_D1', 'sub_grade_C4', 'sub_grade_F1', 'sub_grade_D3', 'sub_grade_F5', 'sub_grade_G2', 'sub_grade_B1', 'sub_grade_B3', 'sub_grade_E5', 'sub_grade_C5', 'sub_grade_G3', 'sub_grade_A4', 'sub_grade_F4', 'sub_grade_B5', 'sub_grade_E3', 'sub_grade_G4', 'sub_grade_D2', 'sub_grade_C1', 'sub_grade_F3', 'sub_grade_A5', 'sub_grade_E1', 'sub_grade_C2', 'sub_grade_D4', 'sub_grade_E2', 'sub_grade_A3', 'sub_grade_G5', 'sub_grade_G1', 'sub_grade_A1']\n"
     ]
    }
   ],
   "source": [
    "categories = Loan_Filtered.select(\"sub_grade\").distinct().toPandas().sub_grade.tolist()\n",
    "exprs = [F.when(F.col(\"sub_grade\") == category, 1).otherwise(0).alias(category)\n",
    "         for category in categories]\n",
    "\n",
    "Loan_Filtered = Loan_Filtered.select(\"*\", *exprs)\n",
    "\n",
    "newCategories = []\n",
    "for category in categories:\n",
    "    Loan_Filtered = Loan_Filtered.withColumnRenamed(category, \"sub_grade_\"+category)\n",
    "    newCategories.append(\"sub_grade_\"+category)\n",
    "print(newCategories)"
   ]
  },
  {
   "cell_type": "markdown",
   "metadata": {},
   "source": [
    "### One-Hot Encoding for Categorical Feature - \"home_ownership\""
   ]
  },
  {
   "cell_type": "code",
   "execution_count": 23,
   "metadata": {},
   "outputs": [
    {
     "name": "stdout",
     "output_type": "stream",
     "text": [
      "['home_ownership_OWN', 'home_ownership_RENT', 'home_ownership_MORTGAGE', 'home_ownership_ANY', 'home_ownership_NONE']\n"
     ]
    }
   ],
   "source": [
    "categories = Loan_Filtered.select(\"home_ownership\").distinct().toPandas().home_ownership.tolist()\n",
    "exprs = [F.when(F.col(\"home_ownership\") == category, 1).otherwise(0).alias(category)\n",
    "         for category in categories]\n",
    "\n",
    "Loan_Filtered = Loan_Filtered.select(\"*\", *exprs)\n",
    "\n",
    "newCategories = []\n",
    "for category in categories:\n",
    "    Loan_Filtered = Loan_Filtered.withColumnRenamed(category, \"home_ownership_\"+category)\n",
    "    newCategories.append(\"home_ownership_\"+category)\n",
    "print(newCategories)"
   ]
  },
  {
   "cell_type": "markdown",
   "metadata": {},
   "source": [
    "### One-Hot Encoding for Categorical Feature - \"verification_status\""
   ]
  },
  {
   "cell_type": "code",
   "execution_count": 24,
   "metadata": {},
   "outputs": [
    {
     "name": "stdout",
     "output_type": "stream",
     "text": [
      "['verification_status_Verified', 'verification_status_Source Verified', 'verification_status_Not Verified']\n"
     ]
    }
   ],
   "source": [
    "categories = Loan_Filtered.select(\"verification_status\").distinct().toPandas().verification_status.tolist()\n",
    "#print(categories)\n",
    "exprs = [F.when(F.col(\"verification_status\") == category, 1).otherwise(0).alias(category)\n",
    "         for category in categories]\n",
    "\n",
    "Loan_Filtered = Loan_Filtered.select(\"*\", *exprs)\n",
    "\n",
    "newCategories = []\n",
    "for category in categories:\n",
    "    Loan_Filtered = Loan_Filtered.withColumnRenamed(category, \"verification_status_\"+category)\n",
    "    newCategories.append(\"verification_status_\"+category)\n",
    "print(newCategories)"
   ]
  },
  {
   "cell_type": "markdown",
   "metadata": {},
   "source": [
    "### One-Hot Encoding for Categorical Feature - \"purpose\""
   ]
  },
  {
   "cell_type": "code",
   "execution_count": 25,
   "metadata": {},
   "outputs": [
    {
     "name": "stdout",
     "output_type": "stream",
     "text": [
      "['purpose_other', 'purpose_small_business', 'purpose_debt_consolidation', 'purpose_credit_card', 'purpose_moving', 'purpose_vacation', 'purpose_renewable_energy', 'purpose_house', 'purpose_car', 'purpose_major_purchase', 'purpose_medical', 'purpose_home_improvement', 'purpose_wedding']\n"
     ]
    }
   ],
   "source": [
    "categories = Loan_Filtered.select(\"purpose\").distinct().toPandas().purpose.tolist()\n",
    "#print(categories)\n",
    "exprs = [F.when(F.col(\"purpose\") == category, 1).otherwise(0).alias(category)\n",
    "         for category in categories]\n",
    "\n",
    "Loan_Filtered = Loan_Filtered.select(\"*\", *exprs)\n",
    "\n",
    "newCategories = []\n",
    "for category in categories:\n",
    "    Loan_Filtered = Loan_Filtered.withColumnRenamed(category, \"purpose_\"+category)\n",
    "    newCategories.append(\"purpose_\"+category)\n",
    "print(newCategories)"
   ]
  },
  {
   "cell_type": "markdown",
   "metadata": {},
   "source": [
    "### One-Hot Encoding for Categorical Feature - \"addr_state\""
   ]
  },
  {
   "cell_type": "code",
   "execution_count": 26,
   "metadata": {},
   "outputs": [
    {
     "name": "stdout",
     "output_type": "stream",
     "text": [
      "['addr_state_SC', 'addr_state_AZ', 'addr_state_LA', 'addr_state_MN', 'addr_state_NJ', 'addr_state_DC', 'addr_state_OR', 'addr_state_VA', 'addr_state_RI', 'addr_state_KY', 'addr_state_WY', 'addr_state_NH', 'addr_state_MI', 'addr_state_NV', 'addr_state_WI', 'addr_state_CA', 'addr_state_NE', 'addr_state_CT', 'addr_state_MT', 'addr_state_NC', 'addr_state_VT', 'addr_state_MD', 'addr_state_DE', 'addr_state_MO', 'addr_state_IL', 'addr_state_ME', 'addr_state_WA', 'addr_state_ND', 'addr_state_MS', 'addr_state_AL', 'addr_state_IN', 'addr_state_OH', 'addr_state_TN', 'addr_state_NM', 'addr_state_PA', 'addr_state_SD', 'addr_state_NY', 'addr_state_TX', 'addr_state_WV', 'addr_state_GA', 'addr_state_MA', 'addr_state_KS', 'addr_state_FL', 'addr_state_CO', 'addr_state_AK', 'addr_state_AR', 'addr_state_OK', 'addr_state_UT', 'addr_state_HI', 'addr_state_ID']\n"
     ]
    }
   ],
   "source": [
    "categories = Loan_Filtered.select(\"addr_state\").distinct().toPandas().addr_state.tolist()\n",
    "#print(categories)\n",
    "exprs = [F.when(F.col(\"addr_state\") == category, 1).otherwise(0).alias(category)\n",
    "         for category in categories]\n",
    "\n",
    "Loan_Filtered = Loan_Filtered.select(\"*\", *exprs)\n",
    "\n",
    "newCategories = []\n",
    "for category in categories:\n",
    "    Loan_Filtered = Loan_Filtered.withColumnRenamed(category, \"addr_state_\"+category)\n",
    "    newCategories.append(\"addr_state_\"+category)\n",
    "print(newCategories)"
   ]
  },
  {
   "cell_type": "code",
   "execution_count": 27,
   "metadata": {},
   "outputs": [
    {
     "name": "stdout",
     "output_type": "stream",
     "text": [
      "root\n",
      " |-- loan_amnt: float (nullable = true)\n",
      " |-- funded_amnt: float (nullable = true)\n",
      " |-- funded_amnt_inv: float (nullable = true)\n",
      " |-- term: string (nullable = true)\n",
      " |-- int_rate: float (nullable = true)\n",
      " |-- installment: float (nullable = true)\n",
      " |-- grade: string (nullable = true)\n",
      " |-- sub_grade: string (nullable = true)\n",
      " |-- emp_length: string (nullable = true)\n",
      " |-- home_ownership: string (nullable = true)\n",
      " |-- annual_inc: float (nullable = true)\n",
      " |-- verification_status: string (nullable = true)\n",
      " |-- loan_status: string (nullable = true)\n",
      " |-- pymnt_plan: string (nullable = true)\n",
      " |-- purpose: string (nullable = true)\n",
      " |-- addr_state: string (nullable = true)\n",
      " |-- dti: float (nullable = true)\n",
      " |-- delinq_2yrs: float (nullable = true)\n",
      " |-- fico_range_low: string (nullable = true)\n",
      " |-- fico_range_high: float (nullable = true)\n",
      " |-- inq_last_6mths: float (nullable = true)\n",
      " |-- open_acc: float (nullable = true)\n",
      " |-- pub_rec: float (nullable = true)\n",
      " |-- revol_bal: float (nullable = true)\n",
      " |-- revol_util: float (nullable = true)\n",
      " |-- total_acc: float (nullable = true)\n",
      " |-- initial_list_status: string (nullable = true)\n",
      " |-- last_fico_range_high: string (nullable = true)\n",
      " |-- last_fico_range_low: float (nullable = true)\n",
      " |-- application_type: string (nullable = true)\n",
      " |-- open_acc_6m: float (nullable = true)\n",
      " |-- open_act_il: float (nullable = true)\n",
      " |-- open_il_12m: float (nullable = true)\n",
      " |-- open_il_24m: float (nullable = true)\n",
      " |-- mths_since_rcnt_il: float (nullable = true)\n",
      " |-- total_bal_il: float (nullable = true)\n",
      " |-- il_util: float (nullable = true)\n",
      " |-- open_rv_12m: float (nullable = true)\n",
      " |-- open_rv_24m: float (nullable = true)\n",
      " |-- max_bal_bc: float (nullable = true)\n",
      " |-- all_util: float (nullable = true)\n",
      " |-- inq_fi: float (nullable = true)\n",
      " |-- total_cu_tl: float (nullable = true)\n",
      " |-- inq_last_12m: double (nullable = true)\n",
      " |-- acc_open_past_24mths: double (nullable = true)\n",
      " |-- avg_cur_bal: float (nullable = true)\n",
      " |-- bc_open_to_buy: double (nullable = true)\n",
      " |-- bc_util: float (nullable = true)\n",
      " |-- chargeoff_within_12_mths: double (nullable = true)\n",
      " |-- delinq_amnt: double (nullable = true)\n",
      " |-- mo_sin_old_il_acct: double (nullable = true)\n",
      " |-- mo_sin_old_rev_tl_op: double (nullable = true)\n",
      " |-- mo_sin_rcnt_rev_tl_op: double (nullable = true)\n",
      " |-- mo_sin_rcnt_tl: double (nullable = true)\n",
      " |-- mort_acc: double (nullable = true)\n",
      " |-- mths_since_recent_bc: double (nullable = true)\n",
      " |-- mths_since_recent_inq: double (nullable = true)\n",
      " |-- num_accts_ever_120_pd: double (nullable = true)\n",
      " |-- num_actv_bc_tl: double (nullable = true)\n",
      " |-- num_actv_rev_tl: double (nullable = true)\n",
      " |-- num_bc_sats: double (nullable = true)\n",
      " |-- num_bc_tl: double (nullable = true)\n",
      " |-- num_il_tl: double (nullable = true)\n",
      " |-- num_op_rev_tl: double (nullable = true)\n",
      " |-- num_rev_accts: double (nullable = true)\n",
      " |-- num_rev_tl_bal_gt_0: double (nullable = true)\n",
      " |-- num_sats: double (nullable = true)\n",
      " |-- num_tl_120dpd_2m: double (nullable = true)\n",
      " |-- num_tl_30dpd: double (nullable = true)\n",
      " |-- num_tl_90g_dpd_24m: double (nullable = true)\n",
      " |-- num_tl_op_past_12m: double (nullable = true)\n",
      " |-- pct_tl_nvr_dlq: double (nullable = true)\n",
      " |-- percent_bc_gt_75: double (nullable = true)\n",
      " |-- pub_rec_bankruptcies: double (nullable = true)\n",
      " |-- tax_liens: double (nullable = true)\n",
      " |-- tot_hi_cred_lim: double (nullable = true)\n",
      " |-- total_bal_ex_mort: double (nullable = true)\n",
      " |-- total_bc_limit: double (nullable = true)\n",
      " |-- total_il_high_credit_limit: double (nullable = true)\n",
      " |-- hardship_flag: string (nullable = true)\n",
      " |-- debt_settlement_flag: string (nullable = true)\n",
      " |-- isDefault: integer (nullable = false)\n",
      " |-- termIndex: double (nullable = false)\n",
      " |-- initial_list_statusIndex: double (nullable = false)\n",
      " |-- application_typeIndex: double (nullable = false)\n",
      " |-- pymnt_planIndex: double (nullable = false)\n",
      " |-- grade_F: integer (nullable = false)\n",
      " |-- grade_E: integer (nullable = false)\n",
      " |-- grade_B: integer (nullable = false)\n",
      " |-- grade_D: integer (nullable = false)\n",
      " |-- grade_C: integer (nullable = false)\n",
      " |-- grade_A: integer (nullable = false)\n",
      " |-- grade_G: integer (nullable = false)\n",
      " |-- sub_grade_D5: integer (nullable = false)\n",
      " |-- sub_grade_F2: integer (nullable = false)\n",
      " |-- sub_grade_B4: integer (nullable = false)\n",
      " |-- sub_grade_A2: integer (nullable = false)\n",
      " |-- sub_grade_E4: integer (nullable = false)\n",
      " |-- sub_grade_B2: integer (nullable = false)\n",
      " |-- sub_grade_C3: integer (nullable = false)\n",
      " |-- sub_grade_D1: integer (nullable = false)\n",
      " |-- sub_grade_C4: integer (nullable = false)\n",
      " |-- sub_grade_F1: integer (nullable = false)\n",
      " |-- sub_grade_D3: integer (nullable = false)\n",
      " |-- sub_grade_F5: integer (nullable = false)\n",
      " |-- sub_grade_G2: integer (nullable = false)\n",
      " |-- sub_grade_B1: integer (nullable = false)\n",
      " |-- sub_grade_B3: integer (nullable = false)\n",
      " |-- sub_grade_E5: integer (nullable = false)\n",
      " |-- sub_grade_C5: integer (nullable = false)\n",
      " |-- sub_grade_G3: integer (nullable = false)\n",
      " |-- sub_grade_A4: integer (nullable = false)\n",
      " |-- sub_grade_F4: integer (nullable = false)\n",
      " |-- sub_grade_B5: integer (nullable = false)\n",
      " |-- sub_grade_E3: integer (nullable = false)\n",
      " |-- sub_grade_G4: integer (nullable = false)\n",
      " |-- sub_grade_D2: integer (nullable = false)\n",
      " |-- sub_grade_C1: integer (nullable = false)\n",
      " |-- sub_grade_F3: integer (nullable = false)\n",
      " |-- sub_grade_A5: integer (nullable = false)\n",
      " |-- sub_grade_E1: integer (nullable = false)\n",
      " |-- sub_grade_C2: integer (nullable = false)\n",
      " |-- sub_grade_D4: integer (nullable = false)\n",
      " |-- sub_grade_E2: integer (nullable = false)\n",
      " |-- sub_grade_A3: integer (nullable = false)\n",
      " |-- sub_grade_G5: integer (nullable = false)\n",
      " |-- sub_grade_G1: integer (nullable = false)\n",
      " |-- sub_grade_A1: integer (nullable = false)\n",
      " |-- home_ownership_OWN: integer (nullable = false)\n",
      " |-- home_ownership_RENT: integer (nullable = false)\n",
      " |-- home_ownership_MORTGAGE: integer (nullable = false)\n",
      " |-- home_ownership_ANY: integer (nullable = false)\n",
      " |-- home_ownership_NONE: integer (nullable = false)\n",
      " |-- verification_status_Verified: integer (nullable = false)\n",
      " |-- verification_status_Source Verified: integer (nullable = false)\n",
      " |-- verification_status_Not Verified: integer (nullable = false)\n",
      " |-- purpose_other: integer (nullable = false)\n",
      " |-- purpose_small_business: integer (nullable = false)\n",
      " |-- purpose_debt_consolidation: integer (nullable = false)\n",
      " |-- purpose_credit_card: integer (nullable = false)\n",
      " |-- purpose_moving: integer (nullable = false)\n",
      " |-- purpose_vacation: integer (nullable = false)\n",
      " |-- purpose_renewable_energy: integer (nullable = false)\n",
      " |-- purpose_house: integer (nullable = false)\n",
      " |-- purpose_car: integer (nullable = false)\n",
      " |-- purpose_major_purchase: integer (nullable = false)\n",
      " |-- purpose_medical: integer (nullable = false)\n",
      " |-- purpose_home_improvement: integer (nullable = false)\n",
      " |-- purpose_wedding: integer (nullable = false)\n",
      " |-- addr_state_SC: integer (nullable = false)\n",
      " |-- addr_state_AZ: integer (nullable = false)\n",
      " |-- addr_state_LA: integer (nullable = false)\n",
      " |-- addr_state_MN: integer (nullable = false)\n",
      " |-- addr_state_NJ: integer (nullable = false)\n",
      " |-- addr_state_DC: integer (nullable = false)\n",
      " |-- addr_state_OR: integer (nullable = false)\n",
      " |-- addr_state_VA: integer (nullable = false)\n",
      " |-- addr_state_RI: integer (nullable = false)\n",
      " |-- addr_state_KY: integer (nullable = false)\n",
      " |-- addr_state_WY: integer (nullable = false)\n",
      " |-- addr_state_NH: integer (nullable = false)\n",
      " |-- addr_state_MI: integer (nullable = false)\n",
      " |-- addr_state_NV: integer (nullable = false)\n",
      " |-- addr_state_WI: integer (nullable = false)\n",
      " |-- addr_state_CA: integer (nullable = false)\n",
      " |-- addr_state_NE: integer (nullable = false)\n",
      " |-- addr_state_CT: integer (nullable = false)\n",
      " |-- addr_state_MT: integer (nullable = false)\n",
      " |-- addr_state_NC: integer (nullable = false)\n",
      " |-- addr_state_VT: integer (nullable = false)\n",
      " |-- addr_state_MD: integer (nullable = false)\n",
      " |-- addr_state_DE: integer (nullable = false)\n",
      " |-- addr_state_MO: integer (nullable = false)\n",
      " |-- addr_state_IL: integer (nullable = false)\n",
      " |-- addr_state_ME: integer (nullable = false)\n",
      " |-- addr_state_WA: integer (nullable = false)\n",
      " |-- addr_state_ND: integer (nullable = false)\n",
      " |-- addr_state_MS: integer (nullable = false)\n",
      " |-- addr_state_AL: integer (nullable = false)\n",
      " |-- addr_state_IN: integer (nullable = false)\n",
      " |-- addr_state_OH: integer (nullable = false)\n",
      " |-- addr_state_TN: integer (nullable = false)\n",
      " |-- addr_state_NM: integer (nullable = false)\n",
      " |-- addr_state_PA: integer (nullable = false)\n",
      " |-- addr_state_SD: integer (nullable = false)\n",
      " |-- addr_state_NY: integer (nullable = false)\n",
      " |-- addr_state_TX: integer (nullable = false)\n",
      " |-- addr_state_WV: integer (nullable = false)\n",
      " |-- addr_state_GA: integer (nullable = false)\n",
      " |-- addr_state_MA: integer (nullable = false)\n",
      " |-- addr_state_KS: integer (nullable = false)\n",
      " |-- addr_state_FL: integer (nullable = false)\n",
      " |-- addr_state_CO: integer (nullable = false)\n",
      " |-- addr_state_AK: integer (nullable = false)\n",
      " |-- addr_state_AR: integer (nullable = false)\n",
      " |-- addr_state_OK: integer (nullable = false)\n",
      " |-- addr_state_UT: integer (nullable = false)\n",
      " |-- addr_state_HI: integer (nullable = false)\n",
      " |-- addr_state_ID: integer (nullable = false)\n",
      "\n"
     ]
    }
   ],
   "source": [
    "Loan_Filtered.printSchema()"
   ]
  },
  {
   "cell_type": "markdown",
   "metadata": {},
   "source": [
    "### Converting Categorical feature \"emp_lenght\" to continous feature"
   ]
  },
  {
   "cell_type": "code",
   "execution_count": 28,
   "metadata": {},
   "outputs": [],
   "source": [
    "Loan_Filtered = Loan_Filtered.withColumn(\"emp_lengthIndex\", when(col(\"emp_length\") == \"< 1 year\", 0)\n",
    "                                           .when(col(\"emp_length\") == \"1 year\", 1)\n",
    "                                           .when(col(\"emp_length\") == \"2 years\", 2)\n",
    "                                           .when(col(\"emp_length\") == \"3 years\", 3)\n",
    "                                           .when(col(\"emp_length\") == \"4 years\", 4)\n",
    "                                           .when(col(\"emp_length\") == \"5 years\", 5)\n",
    "                                           .when(col(\"emp_length\") == \"6 years\", 6)\n",
    "                                           .when(col(\"emp_length\") == \"7 years\", 7)\n",
    "                                           .when(col(\"emp_length\") == \"8 years\", 8)\n",
    "                                           .when(col(\"emp_length\") == \"9 years\", 9)\n",
    "                                           .when(col(\"emp_length\") == \"10+ years\", 10)\n",
    "                                           .otherwise(0))"
   ]
  },
  {
   "cell_type": "markdown",
   "metadata": {},
   "source": [
    "### Dropping categorical features after One-Hot encoding"
   ]
  },
  {
   "cell_type": "code",
   "execution_count": 29,
   "metadata": {},
   "outputs": [
    {
     "name": "stdout",
     "output_type": "stream",
     "text": [
      "root\n",
      " |-- loan_amnt: float (nullable = true)\n",
      " |-- funded_amnt: float (nullable = true)\n",
      " |-- funded_amnt_inv: float (nullable = true)\n",
      " |-- int_rate: float (nullable = true)\n",
      " |-- installment: float (nullable = true)\n",
      " |-- annual_inc: float (nullable = true)\n",
      " |-- loan_status: string (nullable = true)\n",
      " |-- dti: float (nullable = true)\n",
      " |-- delinq_2yrs: float (nullable = true)\n",
      " |-- fico_range_low: string (nullable = true)\n",
      " |-- fico_range_high: float (nullable = true)\n",
      " |-- inq_last_6mths: float (nullable = true)\n",
      " |-- open_acc: float (nullable = true)\n",
      " |-- pub_rec: float (nullable = true)\n",
      " |-- revol_bal: float (nullable = true)\n",
      " |-- revol_util: float (nullable = true)\n",
      " |-- total_acc: float (nullable = true)\n",
      " |-- last_fico_range_high: string (nullable = true)\n",
      " |-- last_fico_range_low: float (nullable = true)\n",
      " |-- open_acc_6m: float (nullable = true)\n",
      " |-- open_act_il: float (nullable = true)\n",
      " |-- open_il_12m: float (nullable = true)\n",
      " |-- open_il_24m: float (nullable = true)\n",
      " |-- mths_since_rcnt_il: float (nullable = true)\n",
      " |-- total_bal_il: float (nullable = true)\n",
      " |-- il_util: float (nullable = true)\n",
      " |-- open_rv_12m: float (nullable = true)\n",
      " |-- open_rv_24m: float (nullable = true)\n",
      " |-- max_bal_bc: float (nullable = true)\n",
      " |-- all_util: float (nullable = true)\n",
      " |-- inq_fi: float (nullable = true)\n",
      " |-- total_cu_tl: float (nullable = true)\n",
      " |-- inq_last_12m: double (nullable = true)\n",
      " |-- acc_open_past_24mths: double (nullable = true)\n",
      " |-- avg_cur_bal: float (nullable = true)\n",
      " |-- bc_open_to_buy: double (nullable = true)\n",
      " |-- bc_util: float (nullable = true)\n",
      " |-- chargeoff_within_12_mths: double (nullable = true)\n",
      " |-- delinq_amnt: double (nullable = true)\n",
      " |-- mo_sin_old_il_acct: double (nullable = true)\n",
      " |-- mo_sin_old_rev_tl_op: double (nullable = true)\n",
      " |-- mo_sin_rcnt_rev_tl_op: double (nullable = true)\n",
      " |-- mo_sin_rcnt_tl: double (nullable = true)\n",
      " |-- mort_acc: double (nullable = true)\n",
      " |-- mths_since_recent_bc: double (nullable = true)\n",
      " |-- mths_since_recent_inq: double (nullable = true)\n",
      " |-- num_accts_ever_120_pd: double (nullable = true)\n",
      " |-- num_actv_bc_tl: double (nullable = true)\n",
      " |-- num_actv_rev_tl: double (nullable = true)\n",
      " |-- num_bc_sats: double (nullable = true)\n",
      " |-- num_bc_tl: double (nullable = true)\n",
      " |-- num_il_tl: double (nullable = true)\n",
      " |-- num_op_rev_tl: double (nullable = true)\n",
      " |-- num_rev_accts: double (nullable = true)\n",
      " |-- num_rev_tl_bal_gt_0: double (nullable = true)\n",
      " |-- num_sats: double (nullable = true)\n",
      " |-- num_tl_120dpd_2m: double (nullable = true)\n",
      " |-- num_tl_30dpd: double (nullable = true)\n",
      " |-- num_tl_90g_dpd_24m: double (nullable = true)\n",
      " |-- num_tl_op_past_12m: double (nullable = true)\n",
      " |-- pct_tl_nvr_dlq: double (nullable = true)\n",
      " |-- percent_bc_gt_75: double (nullable = true)\n",
      " |-- pub_rec_bankruptcies: double (nullable = true)\n",
      " |-- tax_liens: double (nullable = true)\n",
      " |-- tot_hi_cred_lim: double (nullable = true)\n",
      " |-- total_bal_ex_mort: double (nullable = true)\n",
      " |-- total_bc_limit: double (nullable = true)\n",
      " |-- total_il_high_credit_limit: double (nullable = true)\n",
      " |-- hardship_flag: string (nullable = true)\n",
      " |-- debt_settlement_flag: string (nullable = true)\n",
      " |-- termIndex: double (nullable = false)\n",
      " |-- initial_list_statusIndex: double (nullable = false)\n",
      " |-- application_typeIndex: double (nullable = false)\n",
      " |-- pymnt_planIndex: double (nullable = false)\n",
      " |-- grade_F: integer (nullable = false)\n",
      " |-- grade_E: integer (nullable = false)\n",
      " |-- grade_B: integer (nullable = false)\n",
      " |-- grade_D: integer (nullable = false)\n",
      " |-- grade_C: integer (nullable = false)\n",
      " |-- grade_A: integer (nullable = false)\n",
      " |-- grade_G: integer (nullable = false)\n",
      " |-- sub_grade_D5: integer (nullable = false)\n",
      " |-- sub_grade_F2: integer (nullable = false)\n",
      " |-- sub_grade_B4: integer (nullable = false)\n",
      " |-- sub_grade_A2: integer (nullable = false)\n",
      " |-- sub_grade_E4: integer (nullable = false)\n",
      " |-- sub_grade_B2: integer (nullable = false)\n",
      " |-- sub_grade_C3: integer (nullable = false)\n",
      " |-- sub_grade_D1: integer (nullable = false)\n",
      " |-- sub_grade_C4: integer (nullable = false)\n",
      " |-- sub_grade_F1: integer (nullable = false)\n",
      " |-- sub_grade_D3: integer (nullable = false)\n",
      " |-- sub_grade_F5: integer (nullable = false)\n",
      " |-- sub_grade_G2: integer (nullable = false)\n",
      " |-- sub_grade_B1: integer (nullable = false)\n",
      " |-- sub_grade_B3: integer (nullable = false)\n",
      " |-- sub_grade_E5: integer (nullable = false)\n",
      " |-- sub_grade_C5: integer (nullable = false)\n",
      " |-- sub_grade_G3: integer (nullable = false)\n",
      " |-- sub_grade_A4: integer (nullable = false)\n",
      " |-- sub_grade_F4: integer (nullable = false)\n",
      " |-- sub_grade_B5: integer (nullable = false)\n",
      " |-- sub_grade_E3: integer (nullable = false)\n",
      " |-- sub_grade_G4: integer (nullable = false)\n",
      " |-- sub_grade_D2: integer (nullable = false)\n",
      " |-- sub_grade_C1: integer (nullable = false)\n",
      " |-- sub_grade_F3: integer (nullable = false)\n",
      " |-- sub_grade_A5: integer (nullable = false)\n",
      " |-- sub_grade_E1: integer (nullable = false)\n",
      " |-- sub_grade_C2: integer (nullable = false)\n",
      " |-- sub_grade_D4: integer (nullable = false)\n",
      " |-- sub_grade_E2: integer (nullable = false)\n",
      " |-- sub_grade_A3: integer (nullable = false)\n",
      " |-- sub_grade_G5: integer (nullable = false)\n",
      " |-- sub_grade_G1: integer (nullable = false)\n",
      " |-- sub_grade_A1: integer (nullable = false)\n",
      " |-- home_ownership_OWN: integer (nullable = false)\n",
      " |-- home_ownership_RENT: integer (nullable = false)\n",
      " |-- home_ownership_MORTGAGE: integer (nullable = false)\n",
      " |-- home_ownership_ANY: integer (nullable = false)\n",
      " |-- home_ownership_NONE: integer (nullable = false)\n",
      " |-- verification_status_Verified: integer (nullable = false)\n",
      " |-- verification_status_Source Verified: integer (nullable = false)\n",
      " |-- verification_status_Not Verified: integer (nullable = false)\n",
      " |-- purpose_other: integer (nullable = false)\n",
      " |-- purpose_small_business: integer (nullable = false)\n",
      " |-- purpose_debt_consolidation: integer (nullable = false)\n",
      " |-- purpose_credit_card: integer (nullable = false)\n",
      " |-- purpose_moving: integer (nullable = false)\n",
      " |-- purpose_vacation: integer (nullable = false)\n",
      " |-- purpose_renewable_energy: integer (nullable = false)\n",
      " |-- purpose_house: integer (nullable = false)\n",
      " |-- purpose_car: integer (nullable = false)\n",
      " |-- purpose_major_purchase: integer (nullable = false)\n",
      " |-- purpose_medical: integer (nullable = false)\n",
      " |-- purpose_home_improvement: integer (nullable = false)\n",
      " |-- purpose_wedding: integer (nullable = false)\n",
      " |-- addr_state_SC: integer (nullable = false)\n",
      " |-- addr_state_AZ: integer (nullable = false)\n",
      " |-- addr_state_LA: integer (nullable = false)\n",
      " |-- addr_state_MN: integer (nullable = false)\n",
      " |-- addr_state_NJ: integer (nullable = false)\n",
      " |-- addr_state_DC: integer (nullable = false)\n",
      " |-- addr_state_OR: integer (nullable = false)\n",
      " |-- addr_state_VA: integer (nullable = false)\n",
      " |-- addr_state_RI: integer (nullable = false)\n",
      " |-- addr_state_KY: integer (nullable = false)\n",
      " |-- addr_state_WY: integer (nullable = false)\n",
      " |-- addr_state_NH: integer (nullable = false)\n",
      " |-- addr_state_MI: integer (nullable = false)\n",
      " |-- addr_state_NV: integer (nullable = false)\n",
      " |-- addr_state_WI: integer (nullable = false)\n",
      " |-- addr_state_CA: integer (nullable = false)\n",
      " |-- addr_state_NE: integer (nullable = false)\n",
      " |-- addr_state_CT: integer (nullable = false)\n",
      " |-- addr_state_MT: integer (nullable = false)\n",
      " |-- addr_state_NC: integer (nullable = false)\n",
      " |-- addr_state_VT: integer (nullable = false)\n",
      " |-- addr_state_MD: integer (nullable = false)\n",
      " |-- addr_state_DE: integer (nullable = false)\n",
      " |-- addr_state_MO: integer (nullable = false)\n",
      " |-- addr_state_IL: integer (nullable = false)\n",
      " |-- addr_state_ME: integer (nullable = false)\n",
      " |-- addr_state_WA: integer (nullable = false)\n",
      " |-- addr_state_ND: integer (nullable = false)\n",
      " |-- addr_state_MS: integer (nullable = false)\n",
      " |-- addr_state_AL: integer (nullable = false)\n",
      " |-- addr_state_IN: integer (nullable = false)\n",
      " |-- addr_state_OH: integer (nullable = false)\n",
      " |-- addr_state_TN: integer (nullable = false)\n",
      " |-- addr_state_NM: integer (nullable = false)\n",
      " |-- addr_state_PA: integer (nullable = false)\n",
      " |-- addr_state_SD: integer (nullable = false)\n",
      " |-- addr_state_NY: integer (nullable = false)\n",
      " |-- addr_state_TX: integer (nullable = false)\n",
      " |-- addr_state_WV: integer (nullable = false)\n",
      " |-- addr_state_GA: integer (nullable = false)\n",
      " |-- addr_state_MA: integer (nullable = false)\n",
      " |-- addr_state_KS: integer (nullable = false)\n",
      " |-- addr_state_FL: integer (nullable = false)\n",
      " |-- addr_state_CO: integer (nullable = false)\n",
      " |-- addr_state_AK: integer (nullable = false)\n",
      " |-- addr_state_AR: integer (nullable = false)\n",
      " |-- addr_state_OK: integer (nullable = false)\n",
      " |-- addr_state_UT: integer (nullable = false)\n",
      " |-- addr_state_HI: integer (nullable = false)\n",
      " |-- addr_state_ID: integer (nullable = false)\n",
      " |-- emp_lengthIndex: integer (nullable = false)\n",
      " |-- ClassLable: integer (nullable = false)\n",
      "\n"
     ]
    }
   ],
   "source": [
    "# Remove the original categorical columns after encoding.\n",
    "Loan_Filtered= Loan_Filtered.drop(\"term\", \"initial_list_status\", \"application_type\", \"pymnt_plan\", \"grade\", \"sub_grade\", \n",
    "                                     \"home_ownership\", \"verification_status\", \"purpose\", \"addr_state\", \"emp_length\")\n",
    "\n",
    "Loan_Filtered = Loan_Filtered.withColumn(\"ClassLable\", col(\"isDefault\"))\n",
    "Loan_Filtered = Loan_Filtered.drop(\"isDefault\")\n",
    "\n",
    "Loan_Filtered.printSchema()"
   ]
  },
  {
   "cell_type": "code",
   "execution_count": 30,
   "metadata": {},
   "outputs": [
    {
     "name": "stdout",
     "output_type": "stream",
     "text": [
      "+----------+------+\n",
      "|ClassLable| count|\n",
      "+----------+------+\n",
      "|         1| 85320|\n",
      "|         0|317487|\n",
      "+----------+------+\n",
      "\n"
     ]
    }
   ],
   "source": [
    "Loan_Filtered.groupby(\"ClassLable\").count().show()"
   ]
  },
  {
   "cell_type": "code",
   "execution_count": 31,
   "metadata": {},
   "outputs": [],
   "source": [
    "Defualt_Total = Loan_Filtered.groupby(\"ClassLable\").count().toPandas()\n",
    "Number_of_defaults = Defualt_Total['count'][0]\n",
    "Total = Defualt_Total['count'][0] + Defualt_Total['count'][1]"
   ]
  },
  {
   "cell_type": "code",
   "execution_count": 32,
   "metadata": {},
   "outputs": [
    {
     "name": "stdout",
     "output_type": "stream",
     "text": [
      "0.21181359807550515\n",
      "+-------------------+------+\n",
      "|       weightColumn| count|\n",
      "+-------------------+------+\n",
      "| 0.7881864019244949| 85320|\n",
      "|0.21181359807550515|317487|\n",
      "+-------------------+------+\n",
      "\n"
     ]
    }
   ],
   "source": [
    "# Adding a weight columns to the dataset to handel class imbalance (#Default Loans / #Total Loans)\n",
    "balancingRatio  = Number_of_defaults/Total\n",
    "print(balancingRatio)\n",
    "Loan_Filtered = Loan_Filtered.withColumn(\"weightColumn\", when(col(\"ClassLable\") == 0, balancingRatio)\n",
    "                                           .otherwise((1-balancingRatio)))\n",
    "\n",
    "Loan_Filtered.groupby(\"weightColumn\").count().show()"
   ]
  },
  {
   "cell_type": "code",
   "execution_count": 33,
   "metadata": {},
   "outputs": [],
   "source": [
    "Loan_Filtered = Loan_Filtered.drop(\"fico_range_low\", \"last_fico_range_high\", \"hardship_flag\", \"debt_settlement_flag\",\"loan_status\")"
   ]
  },
  {
   "cell_type": "code",
   "execution_count": 34,
   "metadata": {},
   "outputs": [
    {
     "name": "stdout",
     "output_type": "stream",
     "text": [
      "['loan_amnt', 'funded_amnt', 'funded_amnt_inv', 'int_rate', 'installment', 'annual_inc', 'dti', 'delinq_2yrs', 'fico_range_high', 'inq_last_6mths', 'open_acc', 'pub_rec', 'revol_bal', 'revol_util', 'total_acc', 'last_fico_range_low', 'open_acc_6m', 'open_act_il', 'open_il_12m', 'open_il_24m', 'mths_since_rcnt_il', 'total_bal_il', 'il_util', 'open_rv_12m', 'open_rv_24m', 'max_bal_bc', 'all_util', 'inq_fi', 'total_cu_tl', 'inq_last_12m', 'acc_open_past_24mths', 'avg_cur_bal', 'bc_open_to_buy', 'bc_util', 'chargeoff_within_12_mths', 'delinq_amnt', 'mo_sin_old_il_acct', 'mo_sin_old_rev_tl_op', 'mo_sin_rcnt_rev_tl_op', 'mo_sin_rcnt_tl', 'mort_acc', 'mths_since_recent_bc', 'mths_since_recent_inq', 'num_accts_ever_120_pd', 'num_actv_bc_tl', 'num_actv_rev_tl', 'num_bc_sats', 'num_bc_tl', 'num_il_tl', 'num_op_rev_tl', 'num_rev_accts', 'num_rev_tl_bal_gt_0', 'num_sats', 'num_tl_120dpd_2m', 'num_tl_30dpd', 'num_tl_90g_dpd_24m', 'num_tl_op_past_12m', 'pct_tl_nvr_dlq', 'percent_bc_gt_75', 'pub_rec_bankruptcies', 'tax_liens', 'tot_hi_cred_lim', 'total_bal_ex_mort', 'total_bc_limit', 'total_il_high_credit_limit', 'termIndex', 'initial_list_statusIndex', 'application_typeIndex', 'pymnt_planIndex', 'grade_F', 'grade_E', 'grade_B', 'grade_D', 'grade_C', 'grade_A', 'grade_G', 'sub_grade_D5', 'sub_grade_F2', 'sub_grade_B4', 'sub_grade_A2', 'sub_grade_E4', 'sub_grade_B2', 'sub_grade_C3', 'sub_grade_D1', 'sub_grade_C4', 'sub_grade_F1', 'sub_grade_D3', 'sub_grade_F5', 'sub_grade_G2', 'sub_grade_B1', 'sub_grade_B3', 'sub_grade_E5', 'sub_grade_C5', 'sub_grade_G3', 'sub_grade_A4', 'sub_grade_F4', 'sub_grade_B5', 'sub_grade_E3', 'sub_grade_G4', 'sub_grade_D2', 'sub_grade_C1', 'sub_grade_F3', 'sub_grade_A5', 'sub_grade_E1', 'sub_grade_C2', 'sub_grade_D4', 'sub_grade_E2', 'sub_grade_A3', 'sub_grade_G5', 'sub_grade_G1', 'sub_grade_A1', 'home_ownership_OWN', 'home_ownership_RENT', 'home_ownership_MORTGAGE', 'home_ownership_ANY', 'home_ownership_NONE', 'verification_status_Verified', 'verification_status_Source Verified', 'verification_status_Not Verified', 'purpose_other', 'purpose_small_business', 'purpose_debt_consolidation', 'purpose_credit_card', 'purpose_moving', 'purpose_vacation', 'purpose_renewable_energy', 'purpose_house', 'purpose_car', 'purpose_major_purchase', 'purpose_medical', 'purpose_home_improvement', 'purpose_wedding', 'addr_state_SC', 'addr_state_AZ', 'addr_state_LA', 'addr_state_MN', 'addr_state_NJ', 'addr_state_DC', 'addr_state_OR', 'addr_state_VA', 'addr_state_RI', 'addr_state_KY', 'addr_state_WY', 'addr_state_NH', 'addr_state_MI', 'addr_state_NV', 'addr_state_WI', 'addr_state_CA', 'addr_state_NE', 'addr_state_CT', 'addr_state_MT', 'addr_state_NC', 'addr_state_VT', 'addr_state_MD', 'addr_state_DE', 'addr_state_MO', 'addr_state_IL', 'addr_state_ME', 'addr_state_WA', 'addr_state_ND', 'addr_state_MS', 'addr_state_AL', 'addr_state_IN', 'addr_state_OH', 'addr_state_TN', 'addr_state_NM', 'addr_state_PA', 'addr_state_SD', 'addr_state_NY', 'addr_state_TX', 'addr_state_WV', 'addr_state_GA', 'addr_state_MA', 'addr_state_KS', 'addr_state_FL', 'addr_state_CO', 'addr_state_AK', 'addr_state_AR', 'addr_state_OK', 'addr_state_UT', 'addr_state_HI', 'addr_state_ID', 'emp_lengthIndex', 'ClassLable', 'weightColumn']\n",
      "185\n",
      "['loan_amnt', 'funded_amnt', 'funded_amnt_inv', 'int_rate', 'installment', 'annual_inc', 'dti', 'delinq_2yrs', 'fico_range_high', 'inq_last_6mths', 'open_acc', 'pub_rec', 'revol_bal', 'revol_util', 'total_acc', 'last_fico_range_low', 'open_acc_6m', 'open_act_il', 'open_il_12m', 'open_il_24m', 'mths_since_rcnt_il', 'total_bal_il', 'il_util', 'open_rv_12m', 'open_rv_24m', 'max_bal_bc', 'all_util', 'inq_fi', 'total_cu_tl', 'inq_last_12m', 'acc_open_past_24mths', 'avg_cur_bal', 'bc_open_to_buy', 'bc_util', 'chargeoff_within_12_mths', 'delinq_amnt', 'mo_sin_old_il_acct', 'mo_sin_old_rev_tl_op', 'mo_sin_rcnt_rev_tl_op', 'mo_sin_rcnt_tl', 'mort_acc', 'mths_since_recent_bc', 'mths_since_recent_inq', 'num_accts_ever_120_pd', 'num_actv_bc_tl', 'num_actv_rev_tl', 'num_bc_sats', 'num_bc_tl', 'num_il_tl', 'num_op_rev_tl', 'num_rev_accts', 'num_rev_tl_bal_gt_0', 'num_sats', 'num_tl_120dpd_2m', 'num_tl_30dpd', 'num_tl_90g_dpd_24m', 'num_tl_op_past_12m', 'pct_tl_nvr_dlq', 'percent_bc_gt_75', 'pub_rec_bankruptcies', 'tax_liens', 'tot_hi_cred_lim', 'total_bal_ex_mort', 'total_bc_limit', 'total_il_high_credit_limit', 'termIndex', 'initial_list_statusIndex', 'application_typeIndex', 'pymnt_planIndex', 'grade_F', 'grade_E', 'grade_B', 'grade_D', 'grade_C', 'grade_A', 'grade_G', 'sub_grade_D5', 'sub_grade_F2', 'sub_grade_B4', 'sub_grade_A2', 'sub_grade_E4', 'sub_grade_B2', 'sub_grade_C3', 'sub_grade_D1', 'sub_grade_C4', 'sub_grade_F1', 'sub_grade_D3', 'sub_grade_F5', 'sub_grade_G2', 'sub_grade_B1', 'sub_grade_B3', 'sub_grade_E5', 'sub_grade_C5', 'sub_grade_G3', 'sub_grade_A4', 'sub_grade_F4', 'sub_grade_B5', 'sub_grade_E3', 'sub_grade_G4', 'sub_grade_D2', 'sub_grade_C1', 'sub_grade_F3', 'sub_grade_A5', 'sub_grade_E1', 'sub_grade_C2', 'sub_grade_D4', 'sub_grade_E2', 'sub_grade_A3', 'sub_grade_G5', 'sub_grade_G1', 'sub_grade_A1', 'home_ownership_OWN', 'home_ownership_RENT', 'home_ownership_MORTGAGE', 'home_ownership_ANY', 'home_ownership_NONE', 'verification_status_Verified', 'verification_status_Source Verified', 'verification_status_Not Verified', 'purpose_other', 'purpose_small_business', 'purpose_debt_consolidation', 'purpose_credit_card', 'purpose_moving', 'purpose_vacation', 'purpose_renewable_energy', 'purpose_house', 'purpose_car', 'purpose_major_purchase', 'purpose_medical', 'purpose_home_improvement', 'purpose_wedding', 'addr_state_SC', 'addr_state_AZ', 'addr_state_LA', 'addr_state_MN', 'addr_state_NJ', 'addr_state_DC', 'addr_state_OR', 'addr_state_VA', 'addr_state_RI', 'addr_state_KY', 'addr_state_WY', 'addr_state_NH', 'addr_state_MI', 'addr_state_NV', 'addr_state_WI', 'addr_state_CA', 'addr_state_NE', 'addr_state_CT', 'addr_state_MT', 'addr_state_NC', 'addr_state_VT', 'addr_state_MD', 'addr_state_DE', 'addr_state_MO', 'addr_state_IL', 'addr_state_ME', 'addr_state_WA', 'addr_state_ND', 'addr_state_MS', 'addr_state_AL', 'addr_state_IN', 'addr_state_OH', 'addr_state_TN', 'addr_state_NM', 'addr_state_PA', 'addr_state_SD', 'addr_state_NY', 'addr_state_TX', 'addr_state_WV', 'addr_state_GA', 'addr_state_MA', 'addr_state_KS', 'addr_state_FL', 'addr_state_CO', 'addr_state_AK', 'addr_state_AR', 'addr_state_OK', 'addr_state_UT', 'addr_state_HI', 'addr_state_ID', 'emp_lengthIndex', 'weightColumn']\n",
      "184\n"
     ]
    }
   ],
   "source": [
    "colList = Loan_Filtered.columns\n",
    "print(colList)\n",
    "print(len(colList))\n",
    "colList.remove(\"ClassLable\")\n",
    "print(colList)\n",
    "print(len(colList))"
   ]
  },
  {
   "cell_type": "code",
   "execution_count": 35,
   "metadata": {},
   "outputs": [],
   "source": [
    "df = spark.read.csv(\"C:/Users/PHATHUTSHEDZO/Downloads/MIT805 ASSIGNMENT/Lending Club Data/Lending_Club_Clean_New.csv\", header=True, mode=\"DROPMALFORMED\", inferSchema =True)"
   ]
  },
  {
   "cell_type": "code",
   "execution_count": 36,
   "metadata": {},
   "outputs": [
    {
     "name": "stdout",
     "output_type": "stream",
     "text": [
      "+---+---------+-----------+---------------+--------+-----------+----------+-----+-----------+---------------+--------------+--------+-------+---------+----------+---------+-------------------+-----------+-----------+-----------+-----------+------------------+------------+-------+-----------+-----------+----------+--------+------+-----------+------------+--------------------+-----------+--------------+-------+------------------------+-----------+------------------+--------------------+---------------------+--------------+--------+--------------------+---------------------+---------------------+--------------+---------------+-----------+---------+---------+-------------+-------------+-------------------+--------+----------------+------------+------------------+------------------+--------------+----------------+--------------------+---------+---------------+-----------------+--------------+--------------------------+---------+------------------------+---------------------+---------------+-------+-------+-------+-------+-------+-------+-------+------------+------------+------------+------------+------------+------------+------------+------------+------------+------------+------------+------------+------------+------------+------------+------------+------------+------------+------------+------------+------------+------------+------------+------------+------------+------------+------------+------------+------------+------------+------------+------------+------------+------------+------------+------------------+-------------------+-----------------------+------------------+-------------------+----------------------------+-----------------------------------+--------------------------------+---------------+-------------+----------------------+--------------------------+-------------------+--------------+----------------+------------------------+-------------+-----------+----------------------+---------------+------------------------+-------------+-------------+-------------+-------------+-------------+-------------+-------------+-------------+-------------+-------------+-------------+-------------+-------------+-------------+-------------+-------------+-------------+-------------+-------------+-------------+-------------+-------------+-------------+-------------+-------------+-------------+-------------+-------------+-------------+-------------+-------------+-------------+-------------+-------------+-------------+-------------+-------------+-------------+-------------+-------------+-------------+-------------+-------------+-------------+-------------+-------------+-------------+-------------+-------------+-------------+---------------+----------+-------------------+-----+\n",
      "|_c0|loan_amnt|funded_amnt|funded_amnt_inv|int_rate|installment|annual_inc|  dti|delinq_2yrs|fico_range_high|inq_last_6mths|open_acc|pub_rec|revol_bal|revol_util|total_acc|last_fico_range_low|open_acc_6m|open_act_il|open_il_12m|open_il_24m|mths_since_rcnt_il|total_bal_il|il_util|open_rv_12m|open_rv_24m|max_bal_bc|all_util|inq_fi|total_cu_tl|inq_last_12m|acc_open_past_24mths|avg_cur_bal|bc_open_to_buy|bc_util|chargeoff_within_12_mths|delinq_amnt|mo_sin_old_il_acct|mo_sin_old_rev_tl_op|mo_sin_rcnt_rev_tl_op|mo_sin_rcnt_tl|mort_acc|mths_since_recent_bc|mths_since_recent_inq|num_accts_ever_120_pd|num_actv_bc_tl|num_actv_rev_tl|num_bc_sats|num_bc_tl|num_il_tl|num_op_rev_tl|num_rev_accts|num_rev_tl_bal_gt_0|num_sats|num_tl_120dpd_2m|num_tl_30dpd|num_tl_90g_dpd_24m|num_tl_op_past_12m|pct_tl_nvr_dlq|percent_bc_gt_75|pub_rec_bankruptcies|tax_liens|tot_hi_cred_lim|total_bal_ex_mort|total_bc_limit|total_il_high_credit_limit|termIndex|initial_list_statusIndex|application_typeIndex|pymnt_planIndex|grade_F|grade_E|grade_B|grade_D|grade_C|grade_A|grade_G|sub_grade_D5|sub_grade_F2|sub_grade_B4|sub_grade_A2|sub_grade_E4|sub_grade_B2|sub_grade_C3|sub_grade_D1|sub_grade_C4|sub_grade_F1|sub_grade_D3|sub_grade_F5|sub_grade_G2|sub_grade_B1|sub_grade_B3|sub_grade_E5|sub_grade_C5|sub_grade_G3|sub_grade_A4|sub_grade_F4|sub_grade_B5|sub_grade_E3|sub_grade_G4|sub_grade_D2|sub_grade_C1|sub_grade_F3|sub_grade_A5|sub_grade_E1|sub_grade_C2|sub_grade_D4|sub_grade_E2|sub_grade_A3|sub_grade_G5|sub_grade_G1|sub_grade_A1|home_ownership_OWN|home_ownership_RENT|home_ownership_MORTGAGE|home_ownership_ANY|home_ownership_NONE|verification_status_Verified|verification_status_Source Verified|verification_status_Not Verified|purpose_wedding|purpose_other|purpose_small_business|purpose_debt_consolidation|purpose_credit_card|purpose_moving|purpose_vacation|purpose_renewable_energy|purpose_house|purpose_car|purpose_major_purchase|purpose_medical|purpose_home_improvement|addr_state_SC|addr_state_AZ|addr_state_LA|addr_state_MN|addr_state_NJ|addr_state_DC|addr_state_OR|addr_state_VA|addr_state_RI|addr_state_KY|addr_state_WY|addr_state_NH|addr_state_MI|addr_state_NV|addr_state_WI|addr_state_ID|addr_state_CA|addr_state_NE|addr_state_CT|addr_state_MT|addr_state_NC|addr_state_VT|addr_state_MD|addr_state_DE|addr_state_MO|addr_state_IL|addr_state_ME|addr_state_WA|addr_state_ND|addr_state_MS|addr_state_AL|addr_state_IN|addr_state_OH|addr_state_TN|addr_state_NM|addr_state_PA|addr_state_SD|addr_state_NY|addr_state_TX|addr_state_WV|addr_state_GA|addr_state_MA|addr_state_KS|addr_state_FL|addr_state_CO|addr_state_AK|addr_state_AR|addr_state_OK|addr_state_UT|addr_state_HI|emp_lengthIndex|ClassLable|       weightColumn|label|\n",
      "+---+---------+-----------+---------------+--------+-----------+----------+-----+-----------+---------------+--------------+--------+-------+---------+----------+---------+-------------------+-----------+-----------+-----------+-----------+------------------+------------+-------+-----------+-----------+----------+--------+------+-----------+------------+--------------------+-----------+--------------+-------+------------------------+-----------+------------------+--------------------+---------------------+--------------+--------+--------------------+---------------------+---------------------+--------------+---------------+-----------+---------+---------+-------------+-------------+-------------------+--------+----------------+------------+------------------+------------------+--------------+----------------+--------------------+---------+---------------+-----------------+--------------+--------------------------+---------+------------------------+---------------------+---------------+-------+-------+-------+-------+-------+-------+-------+------------+------------+------------+------------+------------+------------+------------+------------+------------+------------+------------+------------+------------+------------+------------+------------+------------+------------+------------+------------+------------+------------+------------+------------+------------+------------+------------+------------+------------+------------+------------+------------+------------+------------+------------+------------------+-------------------+-----------------------+------------------+-------------------+----------------------------+-----------------------------------+--------------------------------+---------------+-------------+----------------------+--------------------------+-------------------+--------------+----------------+------------------------+-------------+-----------+----------------------+---------------+------------------------+-------------+-------------+-------------+-------------+-------------+-------------+-------------+-------------+-------------+-------------+-------------+-------------+-------------+-------------+-------------+-------------+-------------+-------------+-------------+-------------+-------------+-------------+-------------+-------------+-------------+-------------+-------------+-------------+-------------+-------------+-------------+-------------+-------------+-------------+-------------+-------------+-------------+-------------+-------------+-------------+-------------+-------------+-------------+-------------+-------------+-------------+-------------+-------------+-------------+-------------+---------------+----------+-------------------+-----+\n",
      "|  0|   3600.0|     3600.0|         3600.0|   13.99|     123.03|   55000.0| 5.91|        0.0|          679.0|           1.0|     7.0|    0.0|   2765.0|      29.7|     13.0|              560.0|        2.0|        2.0|        0.0|        1.0|              21.0|      4981.0|   36.0|        3.0|        3.0|     722.0|    34.0|   3.0|        1.0|         4.0|                 4.0|    20701.0|        1506.0|   37.2|                     0.0|        0.0|             148.0|               128.0|                  3.0|           3.0|     1.0|                 4.0|                  4.0|                  2.0|           2.0|            4.0|        2.0|      5.0|      3.0|          4.0|          9.0|                4.0|     7.0|             0.0|         0.0|               0.0|               3.0|          76.9|             0.0|                 0.0|      0.0|       178050.0|           7746.0|        2400.0|                   13734.0|      0.0|                     0.0|                  0.0|            0.0|      0|      0|      0|      0|      1|      0|      0|           0|           0|           0|           0|           0|           0|           0|           0|           1|           0|           0|           0|           0|           0|           0|           0|           0|           0|           0|           0|           0|           0|           0|           0|           0|           0|           0|           0|           0|           0|           0|           0|           0|           0|           0|                 0|                  0|                      1|                 0|                  0|                           0|                                  0|                               1|              0|            0|                     0|                         1|                  0|             0|               0|                       0|            0|          0|                     0|              0|                       0|            0|            0|            0|            0|            0|            0|            0|            0|            0|            0|            0|            0|            0|            0|            0|            0|            0|            0|            0|            0|            0|            0|            0|            0|            0|            0|            0|            0|            0|            0|            0|            0|            0|            0|            0|            1|            0|            0|            0|            0|            0|            0|            0|            0|            0|            0|            0|            0|            0|            0|             10|         0|0.21181359807550515|  0.0|\n",
      "|  1|  24700.0|    24700.0|        24700.0|   11.99|     820.28|   65000.0|16.06|        1.0|          719.0|           4.0|    22.0|    0.0|  21470.0|      19.2|     38.0|              695.0|        1.0|        1.0|        0.0|        1.0|              19.0|     18005.0|   73.0|        2.0|        3.0|    6472.0|    29.0|   0.0|        0.0|         6.0|                 4.0|     9733.0|       57830.0|   27.1|                     0.0|        0.0|             113.0|               192.0|                  2.0|           2.0|     4.0|                 2.0|                  0.0|                  0.0|           5.0|            5.0|       13.0|     17.0|      6.0|         20.0|         27.0|                5.0|    22.0|             0.0|         0.0|               0.0|               2.0|          97.4|             7.7|                 0.0|      0.0|       314017.0|          39475.0|       79300.0|                   24667.0|      0.0|                     0.0|                  0.0|            0.0|      0|      0|      0|      0|      1|      0|      0|           0|           0|           0|           0|           0|           0|           0|           0|           0|           0|           0|           0|           0|           0|           0|           0|           0|           0|           0|           0|           0|           0|           0|           0|           1|           0|           0|           0|           0|           0|           0|           0|           0|           0|           0|                 0|                  0|                      1|                 0|                  0|                           0|                                  0|                               1|              0|            0|                     1|                         0|                  0|             0|               0|                       0|            0|          0|                     0|              0|                       0|            0|            0|            0|            0|            0|            0|            0|            0|            0|            0|            0|            0|            0|            0|            0|            0|            0|            0|            0|            0|            0|            0|            0|            0|            0|            0|            0|            0|            0|            0|            0|            0|            0|            0|            0|            0|            1|            0|            0|            0|            0|            0|            0|            0|            0|            0|            0|            0|            0|            0|             10|         0|0.21181359807550515|  0.0|\n",
      "|  2|  20000.0|    20000.0|        20000.0|   10.78|     432.66|   63000.0|10.78|        0.0|          699.0|           0.0|     6.0|    0.0|   7869.0|      56.2|     18.0|              700.0|        0.0|        1.0|        0.0|        4.0|              19.0|     10827.0|   73.0|        0.0|        2.0|    2081.0|    65.0|   2.0|        5.0|         1.0|                 6.0|    31617.0|        2737.0|   55.9|                     0.0|        0.0|             125.0|               184.0|                 14.0|          14.0|     5.0|               101.0|                 10.0|                  0.0|           2.0|            3.0|        2.0|      4.0|      6.0|          4.0|          7.0|                3.0|     6.0|             0.0|         0.0|               0.0|               0.0|         100.0|            50.0|                 0.0|      0.0|       218418.0|          18696.0|        6200.0|                   14877.0|      1.0|                     0.0|                  1.0|            0.0|      0|      0|      1|      0|      0|      0|      0|           0|           0|           1|           0|           0|           0|           0|           0|           0|           0|           0|           0|           0|           0|           0|           0|           0|           0|           0|           0|           0|           0|           0|           0|           0|           0|           0|           0|           0|           0|           0|           0|           0|           0|           0|                 0|                  0|                      1|                 0|                  0|                           0|                                  0|                               1|              0|            0|                     0|                         0|                  0|             0|               0|                       0|            0|          0|                     0|              0|                       1|            0|            0|            0|            0|            0|            0|            0|            0|            0|            0|            0|            0|            0|            0|            0|            0|            0|            0|            0|            0|            0|            0|            0|            0|            0|            1|            0|            0|            0|            0|            0|            0|            0|            0|            0|            0|            0|            0|            0|            0|            0|            0|            0|            0|            0|            0|            0|            0|            0|            0|             10|         0|0.21181359807550515|  0.0|\n",
      "|  3|  10400.0|    10400.0|        10400.0|   22.45|     289.91|  104433.0|25.37|        1.0|          699.0|           3.0|    12.0|    0.0|  21929.0|      64.5|     35.0|              700.0|        1.0|        3.0|        0.0|        3.0|              14.0|     73839.0|   84.0|        4.0|        7.0|    9702.0|    78.0|   2.0|        1.0|         3.0|                10.0|    27644.0|        4567.0|   77.5|                     0.0|        0.0|             128.0|               210.0|                  4.0|           4.0|     6.0|                 4.0|                  1.0|                  0.0|           4.0|            6.0|        5.0|      9.0|     10.0|          7.0|         19.0|                6.0|    12.0|             0.0|         0.0|               0.0|               4.0|          96.6|            60.0|                 0.0|      0.0|       439570.0|          95768.0|       20300.0|                   88097.0|      1.0|                     0.0|                  0.0|            0.0|      1|      0|      0|      0|      0|      0|      0|           0|           0|           0|           0|           0|           0|           0|           0|           0|           1|           0|           0|           0|           0|           0|           0|           0|           0|           0|           0|           0|           0|           0|           0|           0|           0|           0|           0|           0|           0|           0|           0|           0|           0|           0|                 0|                  0|                      1|                 0|                  0|                           0|                                  1|                               0|              0|            0|                     0|                         0|                  0|             0|               0|                       0|            0|          0|                     1|              0|                       0|            0|            0|            0|            0|            0|            0|            0|            0|            0|            0|            0|            0|            0|            0|            0|            0|            0|            0|            0|            0|            0|            0|            0|            0|            0|            0|            0|            0|            0|            0|            0|            0|            0|            0|            0|            1|            0|            0|            0|            0|            0|            0|            0|            0|            0|            0|            0|            0|            0|            0|              3|         0|0.21181359807550515|  0.0|\n",
      "|  4|  20000.0|    20000.0|        20000.0|    9.17|     637.58|  180000.0|14.67|        0.0|          684.0|           0.0|    12.0|    0.0|  87329.0|      84.5|     27.0|              650.0|        0.0|        2.0|        0.0|        2.0|              18.0|     29433.0|   63.0|        2.0|        3.0|   13048.0|    74.0|   1.0|        0.0|         1.0|                 6.0|    30030.0|           0.0|  102.9|                     0.0|        0.0|             142.0|               306.0|                 10.0|          10.0|     4.0|                12.0|                 10.0|                  0.0|           4.0|            6.0|        4.0|      5.0|      7.0|          9.0|         16.0|                6.0|    12.0|             0.0|         0.0|               0.0|               2.0|          96.3|           100.0|                 0.0|      0.0|       388852.0|         116762.0|       31500.0|                   46452.0|      0.0|                     1.0|                  0.0|            0.0|      0|      0|      1|      0|      0|      0|      0|           0|           0|           0|           0|           0|           1|           0|           0|           0|           0|           0|           0|           0|           0|           0|           0|           0|           0|           0|           0|           0|           0|           0|           0|           0|           0|           0|           0|           0|           0|           0|           0|           0|           0|           0|                 0|                  0|                      1|                 0|                  0|                           0|                                  0|                               1|              0|            0|                     0|                         1|                  0|             0|               0|                       0|            0|          0|                     0|              0|                       0|            0|            0|            0|            1|            0|            0|            0|            0|            0|            0|            0|            0|            0|            0|            0|            0|            0|            0|            0|            0|            0|            0|            0|            0|            0|            0|            0|            0|            0|            0|            0|            0|            0|            0|            0|            0|            0|            0|            0|            0|            0|            0|            0|            0|            0|            0|            0|            0|            0|            0|             10|         0|0.21181359807550515|  0.0|\n",
      "|  5|  20000.0|    20000.0|        20000.0|    8.49|     631.26|   85000.0|17.61|        1.0|          709.0|           0.0|     8.0|    0.0|    826.0|       5.7|     15.0|              670.0|        0.0|        3.0|        0.0|        4.0|              13.0|     27111.0|   75.0|        0.0|        0.0|     640.0|    55.0|   1.0|        0.0|         2.0|                 4.0|    17700.0|       13674.0|    5.7|                     0.0|        0.0|             149.0|                55.0|                 32.0|          13.0|     3.0|                32.0|                  8.0|                  1.0|           2.0|            2.0|        3.0|      3.0|      9.0|          3.0|          3.0|                2.0|     8.0|             0.0|         0.0|               1.0|               0.0|          93.3|             0.0|                 0.0|      0.0|       193390.0|          27937.0|       14500.0|                   36144.0|      0.0|                     0.0|                  0.0|            0.0|      0|      0|      1|      0|      0|      0|      0|           0|           0|           0|           0|           0|           0|           0|           0|           0|           0|           0|           0|           0|           1|           0|           0|           0|           0|           0|           0|           0|           0|           0|           0|           0|           0|           0|           0|           0|           0|           0|           0|           0|           0|           0|                 0|                  0|                      1|                 0|                  0|                           0|                                  0|                               1|              0|            0|                     0|                         0|                  0|             0|               0|                       0|            0|          0|                     1|              0|                       0|            1|            0|            0|            0|            0|            0|            0|            0|            0|            0|            0|            0|            0|            0|            0|            0|            0|            0|            0|            0|            0|            0|            0|            0|            0|            0|            0|            0|            0|            0|            0|            0|            0|            0|            0|            0|            0|            0|            0|            0|            0|            0|            0|            0|            0|            0|            0|            0|            0|            0|             10|         0|0.21181359807550515|  0.0|\n",
      "|  6|  10000.0|    10000.0|        10000.0|    6.49|     306.45|   85000.0|13.07|        0.0|          689.0|           1.0|    14.0|    1.0|  10464.0|      34.5|     23.0|              715.0|        2.0|        1.0|        0.0|        0.0|              35.0|     17493.0|   57.0|        2.0|        7.0|    2524.0|    46.0|   2.0|        0.0|         1.0|                 7.0|     1997.0|        8182.0|   50.1|                     0.0|        0.0|             164.0|               129.0|                  1.0|           1.0|     1.0|                 4.0|                  1.0|                  0.0|           6.0|            9.0|        7.0|     10.0|      3.0|         13.0|         19.0|                9.0|    14.0|             0.0|         0.0|               0.0|               2.0|          95.7|            28.6|                 1.0|      0.0|        61099.0|          27957.0|       16400.0|                   30799.0|      0.0|                     0.0|                  0.0|            0.0|      0|      0|      0|      0|      0|      1|      0|           0|           0|           0|           1|           0|           0|           0|           0|           0|           0|           0|           0|           0|           0|           0|           0|           0|           0|           0|           0|           0|           0|           0|           0|           0|           0|           0|           0|           0|           0|           0|           0|           0|           0|           0|                 0|                  1|                      0|                 0|                  0|                           0|                                  0|                               1|              0|            0|                     0|                         0|                  1|             0|               0|                       0|            0|          0|                     0|              0|                       0|            0|            0|            0|            0|            0|            0|            0|            0|            0|            0|            0|            0|            0|            0|            0|            0|            0|            0|            0|            0|            0|            0|            0|            0|            0|            0|            0|            0|            0|            0|            0|            0|            0|            0|            0|            1|            0|            0|            0|            0|            0|            0|            0|            0|            0|            0|            0|            0|            0|            0|              6|         0|0.21181359807550515|  0.0|\n",
      "|  7|   8000.0|     8000.0|         8000.0|   11.48|     263.74|   42000.0| 34.8|        0.0|          704.0|           0.0|     8.0|    0.0|   7034.0|      39.1|     18.0|              675.0|        0.0|        2.0|        2.0|        3.0|              10.0|    106748.0|   72.0|        0.0|        2.0|    4725.0|    49.0|   0.0|        0.0|         1.0|                 5.0|    28528.0|        9966.0|   41.4|                     0.0|        0.0|             155.0|               253.0|                 15.0|          10.0|     1.0|                50.0|                 10.0|                  1.0|           3.0|            3.0|        3.0|      6.0|      5.0|          5.0|         11.0|                3.0|     8.0|             0.0|         0.0|               0.0|               2.0|          94.4|            33.3|                 0.0|      0.0|       256513.0|         113782.0|       17000.0|                  135513.0|      0.0|                     0.0|                  0.0|            0.0|      0|      0|      1|      0|      0|      0|      0|           0|           0|           0|           0|           0|           0|           0|           0|           0|           0|           0|           0|           0|           0|           0|           0|           0|           0|           0|           0|           1|           0|           0|           0|           0|           0|           0|           0|           0|           0|           0|           0|           0|           0|           0|                 0|                  0|                      1|                 0|                  0|                           0|                                  0|                               1|              0|            0|                     0|                         0|                  1|             0|               0|                       0|            0|          0|                     0|              0|                       0|            0|            0|            0|            0|            0|            0|            0|            0|            1|            0|            0|            0|            0|            0|            0|            0|            0|            0|            0|            0|            0|            0|            0|            0|            0|            0|            0|            0|            0|            0|            0|            0|            0|            0|            0|            0|            0|            0|            0|            0|            0|            0|            0|            0|            0|            0|            0|            0|            0|            0|             10|         0|0.21181359807550515|  0.0|\n",
      "|  8|   1400.0|     1400.0|         1400.0|   12.88|       47.1|   64000.0|34.95|        0.0|          704.0|           0.0|    17.0|    0.0|  37828.0|      67.2|     24.0|              700.0|        1.0|        3.0|        1.0|        2.0|               2.0|     37430.0|   67.0|        0.0|        2.0|    7386.0|    67.0|   0.0|        2.0|         0.0|                 4.0|    19159.0|        7940.0|   77.0|                     0.0|        0.0|              46.0|               234.0|                 18.0|           2.0|     4.0|                28.0|                 18.0|                  0.0|           7.0|           11.0|        8.0|     11.0|      3.0|         12.0|         17.0|               11.0|    17.0|             0.0|         0.0|               0.0|               1.0|         100.0|            75.0|                 0.0|      0.0|       372109.0|          75258.0|       34500.0|                   55501.0|      0.0|                     0.0|                  0.0|            0.0|      0|      0|      0|      0|      1|      0|      0|           0|           0|           0|           0|           0|           0|           0|           0|           0|           0|           0|           0|           0|           0|           0|           0|           0|           0|           0|           0|           0|           0|           0|           0|           0|           0|           0|           0|           1|           0|           0|           0|           0|           0|           0|                 0|                  0|                      1|                 0|                  0|                           0|                                  0|                               1|              0|            1|                     0|                         0|                  0|             0|               0|                       0|            0|          0|                     0|              0|                       0|            0|            0|            0|            0|            0|            0|            0|            0|            0|            0|            0|            0|            0|            0|            0|            0|            0|            0|            0|            0|            1|            0|            0|            0|            0|            0|            0|            0|            0|            0|            0|            0|            0|            0|            0|            0|            0|            0|            0|            0|            0|            0|            0|            0|            0|            0|            0|            0|            0|            0|              3|         0|0.21181359807550515|  0.0|\n",
      "|  9|  18000.0|    18000.0|        18000.0|   19.48|      471.7|  150000.0| 9.39|        0.0|          669.0|           1.0|    18.0|    1.0|  14052.0|      40.7|     27.0|              580.0|        2.0|        2.0|        1.0|        3.0|               2.0|     22195.0|   71.0|        2.0|        4.0|    1271.0|    55.0|   2.0|        1.0|         2.0|                 7.0|     2014.0|        5128.0|   51.3|                     0.0|        0.0|             115.0|               112.0|                  1.0|           1.0|     2.0|                 9.0|                  2.0|                  0.0|           6.0|           13.0|        7.0|      8.0|      6.0|         16.0|         19.0|               13.0|    18.0|             0.0|         0.0|               0.0|               3.0|         100.0|            14.3|                 1.0|      0.0|        65819.0|          36247.0|       10300.0|                   31319.0|      1.0|                     0.0|                  0.0|            0.0|      0|      1|      0|      0|      0|      0|      0|           0|           0|           0|           0|           0|           0|           0|           0|           0|           0|           0|           0|           0|           0|           0|           0|           0|           0|           0|           0|           0|           0|           0|           0|           0|           0|           0|           0|           0|           0|           1|           0|           0|           0|           0|                 0|                  1|                      0|                 0|                  0|                           0|                                  0|                               1|              0|            0|                     0|                         1|                  0|             0|               0|                       0|            0|          0|                     0|              0|                       0|            0|            0|            0|            0|            0|            0|            0|            0|            0|            0|            0|            0|            0|            0|            0|            0|            1|            0|            0|            0|            0|            0|            0|            0|            0|            0|            0|            0|            0|            0|            0|            0|            0|            0|            0|            0|            0|            0|            0|            0|            0|            0|            0|            0|            0|            0|            0|            0|            0|            0|              7|         1| 0.7881864019244949|  1.0|\n",
      "| 10|   9600.0|     9600.0|         9600.0|    7.49|     298.58|   60000.0|22.44|        0.0|          699.0|           0.0|     7.0|    0.0|   7722.0|      59.4|      9.0|              775.0|        0.0|        3.0|        0.0|        0.0|              47.0|     47665.0|   43.0|        2.0|        2.0|    4744.0|    50.0|   0.0|        0.0|         2.0|                 2.0|     7912.0|        4778.0|   61.8|                     0.0|        0.0|             234.0|                91.0|                  9.0|           9.0|     0.0|                11.0|                  9.0|                  0.0|           3.0|            3.0|        3.0|      3.0|      5.0|          4.0|          4.0|                3.0|     7.0|             0.0|         0.0|               0.0|               2.0|         100.0|            66.7|                 0.0|      0.0|        88635.0|          55387.0|       12500.0|                   75635.0|      0.0|                     0.0|                  0.0|            0.0|      0|      0|      0|      0|      0|      1|      0|           0|           0|           0|           0|           0|           0|           0|           0|           0|           0|           0|           0|           0|           0|           0|           0|           0|           0|           1|           0|           0|           0|           0|           0|           0|           0|           0|           0|           0|           0|           0|           0|           0|           0|           0|                 0|                  0|                      1|                 0|                  0|                           0|                                  0|                               1|              0|            0|                     0|                         0|                  1|             0|               0|                       0|            0|          0|                     0|              0|                       0|            1|            0|            0|            0|            0|            0|            0|            0|            0|            0|            0|            0|            0|            0|            0|            0|            0|            0|            0|            0|            0|            0|            0|            0|            0|            0|            0|            0|            0|            0|            0|            0|            0|            0|            0|            0|            0|            0|            0|            0|            0|            0|            0|            0|            0|            0|            0|            0|            0|            0|              8|         0|0.21181359807550515|  0.0|\n",
      "| 11|  25000.0|    25000.0|        25000.0|    7.49|     777.55|  109000.0|26.02|        0.0|          749.0|           1.0|     9.0|    0.0|  20862.0|      54.3|     19.0|              720.0|        0.0|        3.0|        0.0|        1.0|              13.0|     47194.0|   58.0|        0.0|        1.0|    8937.0|    57.0|   1.0|        0.0|         1.0|                 2.0|    33976.0|       17538.0|   54.3|                     0.0|        0.0|             142.0|               168.0|                 13.0|          13.0|     3.0|                13.0|                  0.0|                  0.0|           3.0|            3.0|        5.0|      6.0|      7.0|          5.0|          9.0|                3.0|     9.0|             0.0|         0.0|               0.0|               0.0|         100.0|            20.0|                 0.0|      0.0|       373572.0|          68056.0|       38400.0|                   82117.0|      0.0|                     0.0|                  0.0|            0.0|      0|      0|      0|      0|      0|      1|      0|           0|           0|           0|           0|           0|           0|           0|           0|           0|           0|           0|           0|           0|           0|           0|           0|           0|           0|           1|           0|           0|           0|           0|           0|           0|           0|           0|           0|           0|           0|           0|           0|           0|           0|           0|                 0|                  0|                      1|                 0|                  0|                           0|                                  0|                               1|              0|            0|                     0|                         1|                  0|             0|               0|                       0|            0|          0|                     0|              0|                       0|            0|            0|            0|            0|            0|            0|            0|            1|            0|            0|            0|            0|            0|            0|            0|            0|            0|            0|            0|            0|            0|            0|            0|            0|            0|            0|            0|            0|            0|            0|            0|            0|            0|            0|            0|            0|            0|            0|            0|            0|            0|            0|            0|            0|            0|            0|            0|            0|            0|            0|             10|         0|0.21181359807550515|  0.0|\n",
      "| 12|  18000.0|    18000.0|        18000.0|   11.99|     400.31|  112000.0| 8.68|        0.0|          804.0|           0.0|    17.0|    0.0|  10711.0|      15.5|     27.0|              790.0|        3.0|        1.0|        2.0|        2.0|               3.0|     25416.0|   97.0|        2.0|        3.0|    7672.0|    38.0|   0.0|        1.0|         1.0|                 5.0|    17089.0|       60336.0|   16.7|                     0.0|        0.0|             109.0|               265.0|                  1.0|           1.0|     4.0|                 1.0|                 10.0|                  0.0|           5.0|            6.0|       12.0|     12.0|      6.0|         15.0|         17.0|                6.0|    16.0|             0.0|         0.0|               0.0|               4.0|         100.0|             0.0|                 0.0|      0.0|       309710.0|          36127.0|       69800.0|                   26210.0|      1.0|                     0.0|                  0.0|            0.0|      0|      0|      0|      0|      1|      0|      0|           0|           0|           0|           0|           0|           0|           0|           0|           0|           0|           0|           0|           0|           0|           0|           0|           0|           0|           0|           0|           0|           0|           0|           0|           1|           0|           0|           0|           0|           0|           0|           0|           0|           0|           0|                 0|                  0|                      1|                 0|                  0|                           0|                                  0|                               1|              0|            0|                     0|                         1|                  0|             0|               0|                       0|            0|          0|                     0|              0|                       0|            0|            1|            0|            0|            0|            0|            0|            0|            0|            0|            0|            0|            0|            0|            0|            0|            0|            0|            0|            0|            0|            0|            0|            0|            0|            0|            0|            0|            0|            0|            0|            0|            0|            0|            0|            0|            0|            0|            0|            0|            0|            0|            0|            0|            0|            0|            0|            0|            0|            0|             10|         0|0.21181359807550515|  0.0|\n",
      "| 13|  29900.0|    29900.0|        29900.0|   12.88|     678.49|   65000.0|21.77|        0.0|          719.0|           0.0|    15.0|    0.0|  31682.0|      46.7|     31.0|              715.0|        2.0|        1.0|        1.0|        2.0|               9.0|     10815.0|   69.0|        3.0|        5.0|   12971.0|    51.0|   0.0|        4.0|         1.0|                 7.0|    15732.0|       18383.0|   45.9|                     0.0|        0.0|             114.0|               139.0|                  5.0|           5.0|     2.0|                 5.0|                  9.0|                  0.0|           2.0|            5.0|        4.0|      9.0|      8.0|         13.0|         21.0|                5.0|    15.0|             0.0|         0.0|               0.0|               4.0|         100.0|            25.0|                 0.0|      0.0|       271700.0|          42497.0|       34000.0|                   15574.0|      1.0|                     0.0|                  0.0|            0.0|      0|      0|      0|      0|      1|      0|      0|           0|           0|           0|           0|           0|           0|           0|           0|           0|           0|           0|           0|           0|           0|           0|           0|           0|           0|           0|           0|           0|           0|           0|           0|           0|           0|           0|           0|           1|           0|           0|           0|           0|           0|           0|                 0|                  0|                      1|                 0|                  0|                           1|                                  0|                               0|              0|            0|                     0|                         1|                  0|             0|               0|                       0|            0|          0|                     0|              0|                       0|            0|            0|            0|            0|            0|            0|            0|            0|            0|            0|            0|            0|            0|            0|            0|            0|            0|            0|            0|            0|            0|            0|            1|            0|            0|            0|            0|            0|            0|            0|            0|            0|            0|            0|            0|            0|            0|            0|            0|            0|            0|            0|            0|            0|            0|            0|            0|            0|            0|            0|             10|         0|0.21181359807550515|  0.0|\n",
      "| 14|  16000.0|    16000.0|        16000.0|   14.85|     379.39|   48000.0|33.18|        0.0|          689.0|           0.0|    11.0|    2.0|  19108.0|      29.6|     19.0|              660.0|        1.0|        2.0|        1.0|        2.0|               6.0|     12221.0|   91.0|        1.0|        4.0|   14982.0|    65.0|   0.0|        0.0|         1.0|                 6.0|     2848.0|      263953.0|   17.6|                     0.0|        0.0|             131.0|               294.0|                 11.0|           6.0|     2.0|                11.0|                 11.0|                  2.0|           6.0|            9.0|        6.0|      8.0|      6.0|          9.0|         11.0|                9.0|    11.0|             0.0|         0.0|               0.0|               2.0|          78.9|             0.0|                 0.0|      2.0|       298100.0|          31329.0|      281300.0|                   13400.0|      1.0|                     0.0|                  0.0|            0.0|      0|      0|      0|      0|      1|      0|      0|           0|           0|           0|           0|           0|           0|           0|           0|           0|           0|           0|           0|           0|           0|           0|           0|           1|           0|           0|           0|           0|           0|           0|           0|           0|           0|           0|           0|           0|           0|           0|           0|           0|           0|           0|                 0|                  0|                      1|                 0|                  0|                           0|                                  0|                               1|              0|            0|                     0|                         0|                  1|             0|               0|                       0|            0|          0|                     0|              0|                       0|            1|            0|            0|            0|            0|            0|            0|            0|            0|            0|            0|            0|            0|            0|            0|            0|            0|            0|            0|            0|            0|            0|            0|            0|            0|            0|            0|            0|            0|            0|            0|            0|            0|            0|            0|            0|            0|            0|            0|            0|            0|            0|            0|            0|            0|            0|            0|            0|            0|            0|             10|         0|0.21181359807550515|  0.0|\n",
      "| 15|   5000.0|     5000.0|         5000.0|   13.44|     169.54|   79000.0| 12.7|        0.0|          669.0|           0.0|     3.0|    0.0|   9441.0|     101.5|      5.0|              655.0|        0.0|        1.0|        0.0|        1.0|              19.0|     26212.0|   83.0|        0.0|        0.0|    4360.0|    87.0|   2.0|        0.0|         0.0|                 1.0|    11884.0|           0.0|  101.4|                     0.0|        0.0|              50.0|                36.0|                 32.0|          19.0|     0.0|                36.0|                 19.0|                  0.0|           1.0|            2.0|        1.0|      1.0|      3.0|          2.0|          2.0|                2.0|     3.0|             0.0|         0.0|               0.0|               0.0|         100.0|           100.0|                 0.0|      0.0|        41091.0|          35653.0|        4300.0|                   31791.0|      0.0|                     0.0|                  0.0|            0.0|      0|      0|      0|      0|      1|      0|      0|           0|           0|           0|           0|           0|           0|           1|           0|           0|           0|           0|           0|           0|           0|           0|           0|           0|           0|           0|           0|           0|           0|           0|           0|           0|           0|           0|           0|           0|           0|           0|           0|           0|           0|           0|                 0|                  1|                      0|                 0|                  0|                           1|                                  0|                               0|              0|            0|                     0|                         0|                  1|             0|               0|                       0|            0|          0|                     0|              0|                       0|            0|            0|            0|            0|            0|            0|            0|            0|            0|            0|            0|            0|            0|            0|            0|            0|            0|            0|            0|            0|            0|            0|            1|            0|            0|            0|            0|            0|            0|            0|            0|            0|            0|            0|            0|            0|            0|            0|            0|            0|            0|            0|            0|            0|            0|            0|            0|            0|            0|            0|              2|         0|0.21181359807550515|  0.0|\n",
      "| 16|   6000.0|     6000.0|         6000.0|    7.49|     186.61|  100000.0|13.28|        1.0|          699.0|           1.0|     9.0|    0.0|   8563.0|      72.0|     16.0|              715.0|        0.0|        2.0|        0.0|        0.0|              28.0|     12525.0|   35.0|        0.0|        1.0|    2260.0|    45.0|   0.0|        1.0|         1.0|                 1.0|    12911.0|         437.0|   88.5|                     0.0|        0.0|             124.0|               259.0|                 18.0|          18.0|     2.0|                36.0|                  6.0|                  0.0|           2.0|            4.0|        2.0|      6.0|      4.0|          5.0|          9.0|                4.0|     9.0|             0.0|         0.0|               0.0|               0.0|          93.7|            50.0|                 0.0|      0.0|       156354.0|          22741.0|        3800.0|                   36083.0|      0.0|                     0.0|                  0.0|            0.0|      0|      0|      0|      0|      0|      1|      0|           0|           0|           0|           0|           0|           0|           0|           0|           0|           0|           0|           0|           0|           0|           0|           0|           0|           0|           1|           0|           0|           0|           0|           0|           0|           0|           0|           0|           0|           0|           0|           0|           0|           0|           0|                 0|                  0|                      1|                 0|                  0|                           0|                                  0|                               1|              0|            0|                     0|                         1|                  0|             0|               0|                       0|            0|          0|                     0|              0|                       0|            0|            0|            0|            0|            0|            0|            0|            0|            0|            0|            0|            0|            0|            0|            0|            0|            0|            0|            0|            0|            0|            0|            0|            0|            0|            0|            0|            0|            0|            0|            0|            0|            0|            0|            0|            0|            0|            0|            1|            0|            0|            0|            0|            0|            0|            0|            0|            0|            0|            0|             10|         0|0.21181359807550515|  0.0|\n",
      "| 17|   4225.0|     4225.0|         4225.0|   14.85|     146.16|   35000.0|15.22|        2.0|          729.0|           0.0|     6.0|    0.0|   1058.0|      24.6|      6.0|                0.0|        0.0|        1.0|        0.0|        0.0|              47.0|      3830.0|   22.0|        0.0|        0.0|     367.0|    22.0|   0.0|        0.0|         0.0|                 0.0|      815.0|        2233.0|   14.1|                     0.0|        0.0|              47.0|                53.0|                 26.0|          26.0|     0.0|                26.0|                 14.0|                  0.0|           1.0|            2.0|        3.0|      3.0|      1.0|          5.0|          5.0|                2.0|     6.0|             0.0|         0.0|               0.0|               0.0|          66.7|             0.0|                 0.0|      0.0|        21822.0|           4888.0|        2600.0|                   17522.0|      0.0|                     0.0|                  0.0|            0.0|      0|      0|      0|      0|      1|      0|      0|           0|           0|           0|           0|           0|           0|           0|           0|           0|           0|           0|           0|           0|           0|           0|           0|           1|           0|           0|           0|           0|           0|           0|           0|           0|           0|           0|           0|           0|           0|           0|           0|           0|           0|           0|                 0|                  1|                      0|                 0|                  0|                           0|                                  1|                               0|              0|            0|                     0|                         1|                  0|             0|               0|                       0|            0|          0|                     0|              0|                       0|            0|            0|            0|            0|            0|            0|            0|            0|            0|            0|            0|            0|            0|            0|            0|            0|            0|            0|            0|            0|            0|            0|            0|            0|            0|            0|            0|            0|            0|            0|            0|            0|            0|            0|            0|            0|            0|            0|            0|            0|            0|            0|            1|            0|            0|            0|            0|            0|            0|            0|              5|         1| 0.7881864019244949|  1.0|\n",
      "| 18|  20000.0|    20000.0|        20000.0|    5.32|      602.3|   65000.0|18.83|        0.0|          839.0|           1.0|    12.0|    0.0|   2269.0|       3.0|     17.0|              805.0|        0.0|        2.0|        0.0|        1.0|              15.0|     13175.0|   44.0|        0.0|        1.0|    1448.0|    15.0|   2.0|        0.0|         1.0|                 2.0|     1287.0|       73931.0|    3.0|                     0.0|        0.0|              63.0|               295.0|                 19.0|          15.0|     0.0|                19.0|                  4.0|                  0.0|           3.0|            3.0|       10.0|     11.0|      4.0|         10.0|         13.0|                3.0|    12.0|             0.0|         0.0|               0.0|               0.0|         100.0|             0.0|                 0.0|      0.0|       106217.0|          15444.0|       76200.0|                   30017.0|      0.0|                     0.0|                  0.0|            0.0|      0|      0|      0|      0|      0|      1|      0|           0|           0|           0|           0|           0|           0|           0|           0|           0|           0|           0|           0|           0|           0|           0|           0|           0|           0|           0|           0|           0|           0|           0|           0|           0|           0|           0|           0|           0|           0|           0|           0|           0|           0|           1|                 1|                  0|                      0|                 0|                  0|                           0|                                  0|                               1|              0|            0|                     0|                         1|                  0|             0|               0|                       0|            0|          0|                     0|              0|                       0|            0|            0|            0|            0|            0|            0|            0|            0|            0|            0|            0|            0|            0|            0|            0|            0|            0|            0|            0|            0|            0|            0|            0|            0|            0|            0|            0|            0|            0|            0|            0|            0|            0|            0|            0|            0|            0|            1|            0|            0|            0|            0|            0|            0|            0|            0|            0|            0|            0|            0|              9|         0|0.21181359807550515|  0.0|\n",
      "| 19|  16000.0|    16000.0|        16000.0|   17.97|     406.04|  109000.0|23.35|        0.0|          684.0|           1.0|    11.0|    0.0|  42469.0|      87.6|     33.0|              675.0|        2.0|        2.0|        2.0|        2.0|               3.0|     20689.0|   94.0|        1.0|        3.0|    8897.0|    90.0|   0.0|        3.0|         1.0|                 5.0|    16631.0|           0.0|  100.8|                     0.0|        0.0|             149.0|               164.0|                  3.0|           3.0|     1.0|                13.0|                  1.0|                  0.0|           3.0|            6.0|        3.0|     13.0|     10.0|          8.0|         22.0|                6.0|    11.0|             0.0|         0.0|               0.0|               3.0|         100.0|           100.0|                 0.0|      0.0|       228050.0|          63158.0|       15800.0|                   22000.0|      1.0|                     0.0|                  0.0|            0.0|      0|      0|      0|      1|      0|      0|      0|           0|           0|           0|           0|           0|           0|           0|           0|           0|           0|           0|           0|           0|           0|           0|           0|           0|           0|           0|           0|           0|           0|           0|           0|           0|           0|           0|           0|           0|           1|           0|           0|           0|           0|           0|                 0|                  0|                      1|                 0|                  0|                           0|                                  1|                               0|              0|            0|                     0|                         1|                  0|             0|               0|                       0|            0|          0|                     0|              0|                       0|            0|            0|            0|            0|            0|            0|            0|            0|            0|            0|            0|            0|            0|            0|            0|            0|            0|            0|            0|            0|            0|            0|            0|            0|            0|            0|            0|            0|            0|            0|            0|            0|            0|            0|            1|            0|            0|            0|            0|            0|            0|            0|            0|            0|            0|            0|            0|            0|            0|            0|              0|         0|0.21181359807550515|  0.0|\n",
      "+---+---------+-----------+---------------+--------+-----------+----------+-----+-----------+---------------+--------------+--------+-------+---------+----------+---------+-------------------+-----------+-----------+-----------+-----------+------------------+------------+-------+-----------+-----------+----------+--------+------+-----------+------------+--------------------+-----------+--------------+-------+------------------------+-----------+------------------+--------------------+---------------------+--------------+--------+--------------------+---------------------+---------------------+--------------+---------------+-----------+---------+---------+-------------+-------------+-------------------+--------+----------------+------------+------------------+------------------+--------------+----------------+--------------------+---------+---------------+-----------------+--------------+--------------------------+---------+------------------------+---------------------+---------------+-------+-------+-------+-------+-------+-------+-------+------------+------------+------------+------------+------------+------------+------------+------------+------------+------------+------------+------------+------------+------------+------------+------------+------------+------------+------------+------------+------------+------------+------------+------------+------------+------------+------------+------------+------------+------------+------------+------------+------------+------------+------------+------------------+-------------------+-----------------------+------------------+-------------------+----------------------------+-----------------------------------+--------------------------------+---------------+-------------+----------------------+--------------------------+-------------------+--------------+----------------+------------------------+-------------+-----------+----------------------+---------------+------------------------+-------------+-------------+-------------+-------------+-------------+-------------+-------------+-------------+-------------+-------------+-------------+-------------+-------------+-------------+-------------+-------------+-------------+-------------+-------------+-------------+-------------+-------------+-------------+-------------+-------------+-------------+-------------+-------------+-------------+-------------+-------------+-------------+-------------+-------------+-------------+-------------+-------------+-------------+-------------+-------------+-------------+-------------+-------------+-------------+-------------+-------------+-------------+-------------+-------------+-------------+---------------+----------+-------------------+-----+\n",
      "only showing top 20 rows\n",
      "\n"
     ]
    }
   ],
   "source": [
    "#### Drop rows with conditions – where clause\n",
    "data_2=df.where(\"ClassLable!=100\")\n",
    "data_2.show()"
   ]
  },
  {
   "cell_type": "code",
   "execution_count": 37,
   "metadata": {},
   "outputs": [
    {
     "name": "stdout",
     "output_type": "stream",
     "text": [
      "+---+---------+-----------+---------------+--------+-----------+----------+-----+-----------+---------------+--------------+--------+-------+---------+----------+---------+-------------------+-----------+-----------+-----------+-----------+------------------+------------+-------+-----------+-----------+----------+--------+------+-----------+------------+--------------------+-----------+--------------+-------+------------------------+-----------+------------------+--------------------+---------------------+--------------+--------+--------------------+---------------------+---------------------+--------------+---------------+-----------+---------+---------+-------------+-------------+-------------------+--------+----------------+------------+------------------+------------------+--------------+----------------+--------------------+---------+---------------+-----------------+--------------+--------------------------+---------+------------------------+---------------------+---------------+-------+-------+-------+-------+-------+-------+-------+------------+------------+------------+------------+------------+------------+------------+------------+------------+------------+------------+------------+------------+------------+------------+------------+------------+------------+------------+------------+------------+------------+------------+------------+------------+------------+------------+------------+------------+------------+------------+------------+------------+------------+------------+------------------+-------------------+-----------------------+------------------+-------------------+----------------------------+-----------------------------------+--------------------------------+---------------+-------------+----------------------+--------------------------+-------------------+--------------+----------------+------------------------+-------------+-----------+----------------------+---------------+------------------------+-------------+-------------+-------------+-------------+-------------+-------------+-------------+-------------+-------------+-------------+-------------+-------------+-------------+-------------+-------------+-------------+-------------+-------------+-------------+-------------+-------------+-------------+-------------+-------------+-------------+-------------+-------------+-------------+-------------+-------------+-------------+-------------+-------------+-------------+-------------+-------------+-------------+-------------+-------------+-------------+-------------+-------------+-------------+-------------+-------------+-------------+-------------+-------------+-------------+-------------+---------------+----------+-------------------+-----+\n",
      "|_c0|loan_amnt|funded_amnt|funded_amnt_inv|int_rate|installment|annual_inc|  dti|delinq_2yrs|fico_range_high|inq_last_6mths|open_acc|pub_rec|revol_bal|revol_util|total_acc|last_fico_range_low|open_acc_6m|open_act_il|open_il_12m|open_il_24m|mths_since_rcnt_il|total_bal_il|il_util|open_rv_12m|open_rv_24m|max_bal_bc|all_util|inq_fi|total_cu_tl|inq_last_12m|acc_open_past_24mths|avg_cur_bal|bc_open_to_buy|bc_util|chargeoff_within_12_mths|delinq_amnt|mo_sin_old_il_acct|mo_sin_old_rev_tl_op|mo_sin_rcnt_rev_tl_op|mo_sin_rcnt_tl|mort_acc|mths_since_recent_bc|mths_since_recent_inq|num_accts_ever_120_pd|num_actv_bc_tl|num_actv_rev_tl|num_bc_sats|num_bc_tl|num_il_tl|num_op_rev_tl|num_rev_accts|num_rev_tl_bal_gt_0|num_sats|num_tl_120dpd_2m|num_tl_30dpd|num_tl_90g_dpd_24m|num_tl_op_past_12m|pct_tl_nvr_dlq|percent_bc_gt_75|pub_rec_bankruptcies|tax_liens|tot_hi_cred_lim|total_bal_ex_mort|total_bc_limit|total_il_high_credit_limit|termIndex|initial_list_statusIndex|application_typeIndex|pymnt_planIndex|grade_F|grade_E|grade_B|grade_D|grade_C|grade_A|grade_G|sub_grade_D5|sub_grade_F2|sub_grade_B4|sub_grade_A2|sub_grade_E4|sub_grade_B2|sub_grade_C3|sub_grade_D1|sub_grade_C4|sub_grade_F1|sub_grade_D3|sub_grade_F5|sub_grade_G2|sub_grade_B1|sub_grade_B3|sub_grade_E5|sub_grade_C5|sub_grade_G3|sub_grade_A4|sub_grade_F4|sub_grade_B5|sub_grade_E3|sub_grade_G4|sub_grade_D2|sub_grade_C1|sub_grade_F3|sub_grade_A5|sub_grade_E1|sub_grade_C2|sub_grade_D4|sub_grade_E2|sub_grade_A3|sub_grade_G5|sub_grade_G1|sub_grade_A1|home_ownership_OWN|home_ownership_RENT|home_ownership_MORTGAGE|home_ownership_ANY|home_ownership_NONE|verification_status_Verified|verification_status_Source Verified|verification_status_Not Verified|purpose_wedding|purpose_other|purpose_small_business|purpose_debt_consolidation|purpose_credit_card|purpose_moving|purpose_vacation|purpose_renewable_energy|purpose_house|purpose_car|purpose_major_purchase|purpose_medical|purpose_home_improvement|addr_state_SC|addr_state_AZ|addr_state_LA|addr_state_MN|addr_state_NJ|addr_state_DC|addr_state_OR|addr_state_VA|addr_state_RI|addr_state_KY|addr_state_WY|addr_state_NH|addr_state_MI|addr_state_NV|addr_state_WI|addr_state_ID|addr_state_CA|addr_state_NE|addr_state_CT|addr_state_MT|addr_state_NC|addr_state_VT|addr_state_MD|addr_state_DE|addr_state_MO|addr_state_IL|addr_state_ME|addr_state_WA|addr_state_ND|addr_state_MS|addr_state_AL|addr_state_IN|addr_state_OH|addr_state_TN|addr_state_NM|addr_state_PA|addr_state_SD|addr_state_NY|addr_state_TX|addr_state_WV|addr_state_GA|addr_state_MA|addr_state_KS|addr_state_FL|addr_state_CO|addr_state_AK|addr_state_AR|addr_state_OK|addr_state_UT|addr_state_HI|emp_lengthIndex|ClassLable|       weightColumn|label|\n",
      "+---+---------+-----------+---------------+--------+-----------+----------+-----+-----------+---------------+--------------+--------+-------+---------+----------+---------+-------------------+-----------+-----------+-----------+-----------+------------------+------------+-------+-----------+-----------+----------+--------+------+-----------+------------+--------------------+-----------+--------------+-------+------------------------+-----------+------------------+--------------------+---------------------+--------------+--------+--------------------+---------------------+---------------------+--------------+---------------+-----------+---------+---------+-------------+-------------+-------------------+--------+----------------+------------+------------------+------------------+--------------+----------------+--------------------+---------+---------------+-----------------+--------------+--------------------------+---------+------------------------+---------------------+---------------+-------+-------+-------+-------+-------+-------+-------+------------+------------+------------+------------+------------+------------+------------+------------+------------+------------+------------+------------+------------+------------+------------+------------+------------+------------+------------+------------+------------+------------+------------+------------+------------+------------+------------+------------+------------+------------+------------+------------+------------+------------+------------+------------------+-------------------+-----------------------+------------------+-------------------+----------------------------+-----------------------------------+--------------------------------+---------------+-------------+----------------------+--------------------------+-------------------+--------------+----------------+------------------------+-------------+-----------+----------------------+---------------+------------------------+-------------+-------------+-------------+-------------+-------------+-------------+-------------+-------------+-------------+-------------+-------------+-------------+-------------+-------------+-------------+-------------+-------------+-------------+-------------+-------------+-------------+-------------+-------------+-------------+-------------+-------------+-------------+-------------+-------------+-------------+-------------+-------------+-------------+-------------+-------------+-------------+-------------+-------------+-------------+-------------+-------------+-------------+-------------+-------------+-------------+-------------+-------------+-------------+-------------+-------------+---------------+----------+-------------------+-----+\n",
      "|  0|   3600.0|     3600.0|         3600.0|   13.99|     123.03|   55000.0| 5.91|        0.0|          679.0|           1.0|     7.0|    0.0|   2765.0|      29.7|     13.0|              560.0|        2.0|        2.0|        0.0|        1.0|              21.0|      4981.0|   36.0|        3.0|        3.0|     722.0|    34.0|   3.0|        1.0|         4.0|                 4.0|    20701.0|        1506.0|   37.2|                     0.0|        0.0|             148.0|               128.0|                  3.0|           3.0|     1.0|                 4.0|                  4.0|                  2.0|           2.0|            4.0|        2.0|      5.0|      3.0|          4.0|          9.0|                4.0|     7.0|             0.0|         0.0|               0.0|               3.0|          76.9|             0.0|                 0.0|      0.0|       178050.0|           7746.0|        2400.0|                   13734.0|      0.0|                     0.0|                  0.0|            0.0|      0|      0|      0|      0|      1|      0|      0|           0|           0|           0|           0|           0|           0|           0|           0|           1|           0|           0|           0|           0|           0|           0|           0|           0|           0|           0|           0|           0|           0|           0|           0|           0|           0|           0|           0|           0|           0|           0|           0|           0|           0|           0|                 0|                  0|                      1|                 0|                  0|                           0|                                  0|                               1|              0|            0|                     0|                         1|                  0|             0|               0|                       0|            0|          0|                     0|              0|                       0|            0|            0|            0|            0|            0|            0|            0|            0|            0|            0|            0|            0|            0|            0|            0|            0|            0|            0|            0|            0|            0|            0|            0|            0|            0|            0|            0|            0|            0|            0|            0|            0|            0|            0|            0|            1|            0|            0|            0|            0|            0|            0|            0|            0|            0|            0|            0|            0|            0|            0|             10|         0|0.21181359807550515|  0.0|\n",
      "|  1|  24700.0|    24700.0|        24700.0|   11.99|     820.28|   65000.0|16.06|        1.0|          719.0|           4.0|    22.0|    0.0|  21470.0|      19.2|     38.0|              695.0|        1.0|        1.0|        0.0|        1.0|              19.0|     18005.0|   73.0|        2.0|        3.0|    6472.0|    29.0|   0.0|        0.0|         6.0|                 4.0|     9733.0|       57830.0|   27.1|                     0.0|        0.0|             113.0|               192.0|                  2.0|           2.0|     4.0|                 2.0|                  0.0|                  0.0|           5.0|            5.0|       13.0|     17.0|      6.0|         20.0|         27.0|                5.0|    22.0|             0.0|         0.0|               0.0|               2.0|          97.4|             7.7|                 0.0|      0.0|       314017.0|          39475.0|       79300.0|                   24667.0|      0.0|                     0.0|                  0.0|            0.0|      0|      0|      0|      0|      1|      0|      0|           0|           0|           0|           0|           0|           0|           0|           0|           0|           0|           0|           0|           0|           0|           0|           0|           0|           0|           0|           0|           0|           0|           0|           0|           1|           0|           0|           0|           0|           0|           0|           0|           0|           0|           0|                 0|                  0|                      1|                 0|                  0|                           0|                                  0|                               1|              0|            0|                     1|                         0|                  0|             0|               0|                       0|            0|          0|                     0|              0|                       0|            0|            0|            0|            0|            0|            0|            0|            0|            0|            0|            0|            0|            0|            0|            0|            0|            0|            0|            0|            0|            0|            0|            0|            0|            0|            0|            0|            0|            0|            0|            0|            0|            0|            0|            0|            0|            1|            0|            0|            0|            0|            0|            0|            0|            0|            0|            0|            0|            0|            0|             10|         0|0.21181359807550515|  0.0|\n",
      "|  2|  20000.0|    20000.0|        20000.0|   10.78|     432.66|   63000.0|10.78|        0.0|          699.0|           0.0|     6.0|    0.0|   7869.0|      56.2|     18.0|              700.0|        0.0|        1.0|        0.0|        4.0|              19.0|     10827.0|   73.0|        0.0|        2.0|    2081.0|    65.0|   2.0|        5.0|         1.0|                 6.0|    31617.0|        2737.0|   55.9|                     0.0|        0.0|             125.0|               184.0|                 14.0|          14.0|     5.0|               101.0|                 10.0|                  0.0|           2.0|            3.0|        2.0|      4.0|      6.0|          4.0|          7.0|                3.0|     6.0|             0.0|         0.0|               0.0|               0.0|         100.0|            50.0|                 0.0|      0.0|       218418.0|          18696.0|        6200.0|                   14877.0|      1.0|                     0.0|                  1.0|            0.0|      0|      0|      1|      0|      0|      0|      0|           0|           0|           1|           0|           0|           0|           0|           0|           0|           0|           0|           0|           0|           0|           0|           0|           0|           0|           0|           0|           0|           0|           0|           0|           0|           0|           0|           0|           0|           0|           0|           0|           0|           0|           0|                 0|                  0|                      1|                 0|                  0|                           0|                                  0|                               1|              0|            0|                     0|                         0|                  0|             0|               0|                       0|            0|          0|                     0|              0|                       1|            0|            0|            0|            0|            0|            0|            0|            0|            0|            0|            0|            0|            0|            0|            0|            0|            0|            0|            0|            0|            0|            0|            0|            0|            0|            1|            0|            0|            0|            0|            0|            0|            0|            0|            0|            0|            0|            0|            0|            0|            0|            0|            0|            0|            0|            0|            0|            0|            0|            0|             10|         0|0.21181359807550515|  0.0|\n",
      "|  3|  10400.0|    10400.0|        10400.0|   22.45|     289.91|  104433.0|25.37|        1.0|          699.0|           3.0|    12.0|    0.0|  21929.0|      64.5|     35.0|              700.0|        1.0|        3.0|        0.0|        3.0|              14.0|     73839.0|   84.0|        4.0|        7.0|    9702.0|    78.0|   2.0|        1.0|         3.0|                10.0|    27644.0|        4567.0|   77.5|                     0.0|        0.0|             128.0|               210.0|                  4.0|           4.0|     6.0|                 4.0|                  1.0|                  0.0|           4.0|            6.0|        5.0|      9.0|     10.0|          7.0|         19.0|                6.0|    12.0|             0.0|         0.0|               0.0|               4.0|          96.6|            60.0|                 0.0|      0.0|       439570.0|          95768.0|       20300.0|                   88097.0|      1.0|                     0.0|                  0.0|            0.0|      1|      0|      0|      0|      0|      0|      0|           0|           0|           0|           0|           0|           0|           0|           0|           0|           1|           0|           0|           0|           0|           0|           0|           0|           0|           0|           0|           0|           0|           0|           0|           0|           0|           0|           0|           0|           0|           0|           0|           0|           0|           0|                 0|                  0|                      1|                 0|                  0|                           0|                                  1|                               0|              0|            0|                     0|                         0|                  0|             0|               0|                       0|            0|          0|                     1|              0|                       0|            0|            0|            0|            0|            0|            0|            0|            0|            0|            0|            0|            0|            0|            0|            0|            0|            0|            0|            0|            0|            0|            0|            0|            0|            0|            0|            0|            0|            0|            0|            0|            0|            0|            0|            0|            1|            0|            0|            0|            0|            0|            0|            0|            0|            0|            0|            0|            0|            0|            0|              3|         0|0.21181359807550515|  0.0|\n",
      "|  4|  20000.0|    20000.0|        20000.0|    9.17|     637.58|  180000.0|14.67|        0.0|          684.0|           0.0|    12.0|    0.0|  87329.0|      84.5|     27.0|              650.0|        0.0|        2.0|        0.0|        2.0|              18.0|     29433.0|   63.0|        2.0|        3.0|   13048.0|    74.0|   1.0|        0.0|         1.0|                 6.0|    30030.0|           0.0|  102.9|                     0.0|        0.0|             142.0|               306.0|                 10.0|          10.0|     4.0|                12.0|                 10.0|                  0.0|           4.0|            6.0|        4.0|      5.0|      7.0|          9.0|         16.0|                6.0|    12.0|             0.0|         0.0|               0.0|               2.0|          96.3|           100.0|                 0.0|      0.0|       388852.0|         116762.0|       31500.0|                   46452.0|      0.0|                     1.0|                  0.0|            0.0|      0|      0|      1|      0|      0|      0|      0|           0|           0|           0|           0|           0|           1|           0|           0|           0|           0|           0|           0|           0|           0|           0|           0|           0|           0|           0|           0|           0|           0|           0|           0|           0|           0|           0|           0|           0|           0|           0|           0|           0|           0|           0|                 0|                  0|                      1|                 0|                  0|                           0|                                  0|                               1|              0|            0|                     0|                         1|                  0|             0|               0|                       0|            0|          0|                     0|              0|                       0|            0|            0|            0|            1|            0|            0|            0|            0|            0|            0|            0|            0|            0|            0|            0|            0|            0|            0|            0|            0|            0|            0|            0|            0|            0|            0|            0|            0|            0|            0|            0|            0|            0|            0|            0|            0|            0|            0|            0|            0|            0|            0|            0|            0|            0|            0|            0|            0|            0|            0|             10|         0|0.21181359807550515|  0.0|\n",
      "|  5|  20000.0|    20000.0|        20000.0|    8.49|     631.26|   85000.0|17.61|        1.0|          709.0|           0.0|     8.0|    0.0|    826.0|       5.7|     15.0|              670.0|        0.0|        3.0|        0.0|        4.0|              13.0|     27111.0|   75.0|        0.0|        0.0|     640.0|    55.0|   1.0|        0.0|         2.0|                 4.0|    17700.0|       13674.0|    5.7|                     0.0|        0.0|             149.0|                55.0|                 32.0|          13.0|     3.0|                32.0|                  8.0|                  1.0|           2.0|            2.0|        3.0|      3.0|      9.0|          3.0|          3.0|                2.0|     8.0|             0.0|         0.0|               1.0|               0.0|          93.3|             0.0|                 0.0|      0.0|       193390.0|          27937.0|       14500.0|                   36144.0|      0.0|                     0.0|                  0.0|            0.0|      0|      0|      1|      0|      0|      0|      0|           0|           0|           0|           0|           0|           0|           0|           0|           0|           0|           0|           0|           0|           1|           0|           0|           0|           0|           0|           0|           0|           0|           0|           0|           0|           0|           0|           0|           0|           0|           0|           0|           0|           0|           0|                 0|                  0|                      1|                 0|                  0|                           0|                                  0|                               1|              0|            0|                     0|                         0|                  0|             0|               0|                       0|            0|          0|                     1|              0|                       0|            1|            0|            0|            0|            0|            0|            0|            0|            0|            0|            0|            0|            0|            0|            0|            0|            0|            0|            0|            0|            0|            0|            0|            0|            0|            0|            0|            0|            0|            0|            0|            0|            0|            0|            0|            0|            0|            0|            0|            0|            0|            0|            0|            0|            0|            0|            0|            0|            0|            0|             10|         0|0.21181359807550515|  0.0|\n",
      "|  6|  10000.0|    10000.0|        10000.0|    6.49|     306.45|   85000.0|13.07|        0.0|          689.0|           1.0|    14.0|    1.0|  10464.0|      34.5|     23.0|              715.0|        2.0|        1.0|        0.0|        0.0|              35.0|     17493.0|   57.0|        2.0|        7.0|    2524.0|    46.0|   2.0|        0.0|         1.0|                 7.0|     1997.0|        8182.0|   50.1|                     0.0|        0.0|             164.0|               129.0|                  1.0|           1.0|     1.0|                 4.0|                  1.0|                  0.0|           6.0|            9.0|        7.0|     10.0|      3.0|         13.0|         19.0|                9.0|    14.0|             0.0|         0.0|               0.0|               2.0|          95.7|            28.6|                 1.0|      0.0|        61099.0|          27957.0|       16400.0|                   30799.0|      0.0|                     0.0|                  0.0|            0.0|      0|      0|      0|      0|      0|      1|      0|           0|           0|           0|           1|           0|           0|           0|           0|           0|           0|           0|           0|           0|           0|           0|           0|           0|           0|           0|           0|           0|           0|           0|           0|           0|           0|           0|           0|           0|           0|           0|           0|           0|           0|           0|                 0|                  1|                      0|                 0|                  0|                           0|                                  0|                               1|              0|            0|                     0|                         0|                  1|             0|               0|                       0|            0|          0|                     0|              0|                       0|            0|            0|            0|            0|            0|            0|            0|            0|            0|            0|            0|            0|            0|            0|            0|            0|            0|            0|            0|            0|            0|            0|            0|            0|            0|            0|            0|            0|            0|            0|            0|            0|            0|            0|            0|            1|            0|            0|            0|            0|            0|            0|            0|            0|            0|            0|            0|            0|            0|            0|              6|         0|0.21181359807550515|  0.0|\n",
      "|  7|   8000.0|     8000.0|         8000.0|   11.48|     263.74|   42000.0| 34.8|        0.0|          704.0|           0.0|     8.0|    0.0|   7034.0|      39.1|     18.0|              675.0|        0.0|        2.0|        2.0|        3.0|              10.0|    106748.0|   72.0|        0.0|        2.0|    4725.0|    49.0|   0.0|        0.0|         1.0|                 5.0|    28528.0|        9966.0|   41.4|                     0.0|        0.0|             155.0|               253.0|                 15.0|          10.0|     1.0|                50.0|                 10.0|                  1.0|           3.0|            3.0|        3.0|      6.0|      5.0|          5.0|         11.0|                3.0|     8.0|             0.0|         0.0|               0.0|               2.0|          94.4|            33.3|                 0.0|      0.0|       256513.0|         113782.0|       17000.0|                  135513.0|      0.0|                     0.0|                  0.0|            0.0|      0|      0|      1|      0|      0|      0|      0|           0|           0|           0|           0|           0|           0|           0|           0|           0|           0|           0|           0|           0|           0|           0|           0|           0|           0|           0|           0|           1|           0|           0|           0|           0|           0|           0|           0|           0|           0|           0|           0|           0|           0|           0|                 0|                  0|                      1|                 0|                  0|                           0|                                  0|                               1|              0|            0|                     0|                         0|                  1|             0|               0|                       0|            0|          0|                     0|              0|                       0|            0|            0|            0|            0|            0|            0|            0|            0|            1|            0|            0|            0|            0|            0|            0|            0|            0|            0|            0|            0|            0|            0|            0|            0|            0|            0|            0|            0|            0|            0|            0|            0|            0|            0|            0|            0|            0|            0|            0|            0|            0|            0|            0|            0|            0|            0|            0|            0|            0|            0|             10|         0|0.21181359807550515|  0.0|\n",
      "|  8|   1400.0|     1400.0|         1400.0|   12.88|       47.1|   64000.0|34.95|        0.0|          704.0|           0.0|    17.0|    0.0|  37828.0|      67.2|     24.0|              700.0|        1.0|        3.0|        1.0|        2.0|               2.0|     37430.0|   67.0|        0.0|        2.0|    7386.0|    67.0|   0.0|        2.0|         0.0|                 4.0|    19159.0|        7940.0|   77.0|                     0.0|        0.0|              46.0|               234.0|                 18.0|           2.0|     4.0|                28.0|                 18.0|                  0.0|           7.0|           11.0|        8.0|     11.0|      3.0|         12.0|         17.0|               11.0|    17.0|             0.0|         0.0|               0.0|               1.0|         100.0|            75.0|                 0.0|      0.0|       372109.0|          75258.0|       34500.0|                   55501.0|      0.0|                     0.0|                  0.0|            0.0|      0|      0|      0|      0|      1|      0|      0|           0|           0|           0|           0|           0|           0|           0|           0|           0|           0|           0|           0|           0|           0|           0|           0|           0|           0|           0|           0|           0|           0|           0|           0|           0|           0|           0|           0|           1|           0|           0|           0|           0|           0|           0|                 0|                  0|                      1|                 0|                  0|                           0|                                  0|                               1|              0|            1|                     0|                         0|                  0|             0|               0|                       0|            0|          0|                     0|              0|                       0|            0|            0|            0|            0|            0|            0|            0|            0|            0|            0|            0|            0|            0|            0|            0|            0|            0|            0|            0|            0|            1|            0|            0|            0|            0|            0|            0|            0|            0|            0|            0|            0|            0|            0|            0|            0|            0|            0|            0|            0|            0|            0|            0|            0|            0|            0|            0|            0|            0|            0|              3|         0|0.21181359807550515|  0.0|\n",
      "|  9|  18000.0|    18000.0|        18000.0|   19.48|      471.7|  150000.0| 9.39|        0.0|          669.0|           1.0|    18.0|    1.0|  14052.0|      40.7|     27.0|              580.0|        2.0|        2.0|        1.0|        3.0|               2.0|     22195.0|   71.0|        2.0|        4.0|    1271.0|    55.0|   2.0|        1.0|         2.0|                 7.0|     2014.0|        5128.0|   51.3|                     0.0|        0.0|             115.0|               112.0|                  1.0|           1.0|     2.0|                 9.0|                  2.0|                  0.0|           6.0|           13.0|        7.0|      8.0|      6.0|         16.0|         19.0|               13.0|    18.0|             0.0|         0.0|               0.0|               3.0|         100.0|            14.3|                 1.0|      0.0|        65819.0|          36247.0|       10300.0|                   31319.0|      1.0|                     0.0|                  0.0|            0.0|      0|      1|      0|      0|      0|      0|      0|           0|           0|           0|           0|           0|           0|           0|           0|           0|           0|           0|           0|           0|           0|           0|           0|           0|           0|           0|           0|           0|           0|           0|           0|           0|           0|           0|           0|           0|           0|           1|           0|           0|           0|           0|                 0|                  1|                      0|                 0|                  0|                           0|                                  0|                               1|              0|            0|                     0|                         1|                  0|             0|               0|                       0|            0|          0|                     0|              0|                       0|            0|            0|            0|            0|            0|            0|            0|            0|            0|            0|            0|            0|            0|            0|            0|            0|            1|            0|            0|            0|            0|            0|            0|            0|            0|            0|            0|            0|            0|            0|            0|            0|            0|            0|            0|            0|            0|            0|            0|            0|            0|            0|            0|            0|            0|            0|            0|            0|            0|            0|              7|         1| 0.7881864019244949|  1.0|\n",
      "| 10|   9600.0|     9600.0|         9600.0|    7.49|     298.58|   60000.0|22.44|        0.0|          699.0|           0.0|     7.0|    0.0|   7722.0|      59.4|      9.0|              775.0|        0.0|        3.0|        0.0|        0.0|              47.0|     47665.0|   43.0|        2.0|        2.0|    4744.0|    50.0|   0.0|        0.0|         2.0|                 2.0|     7912.0|        4778.0|   61.8|                     0.0|        0.0|             234.0|                91.0|                  9.0|           9.0|     0.0|                11.0|                  9.0|                  0.0|           3.0|            3.0|        3.0|      3.0|      5.0|          4.0|          4.0|                3.0|     7.0|             0.0|         0.0|               0.0|               2.0|         100.0|            66.7|                 0.0|      0.0|        88635.0|          55387.0|       12500.0|                   75635.0|      0.0|                     0.0|                  0.0|            0.0|      0|      0|      0|      0|      0|      1|      0|           0|           0|           0|           0|           0|           0|           0|           0|           0|           0|           0|           0|           0|           0|           0|           0|           0|           0|           1|           0|           0|           0|           0|           0|           0|           0|           0|           0|           0|           0|           0|           0|           0|           0|           0|                 0|                  0|                      1|                 0|                  0|                           0|                                  0|                               1|              0|            0|                     0|                         0|                  1|             0|               0|                       0|            0|          0|                     0|              0|                       0|            1|            0|            0|            0|            0|            0|            0|            0|            0|            0|            0|            0|            0|            0|            0|            0|            0|            0|            0|            0|            0|            0|            0|            0|            0|            0|            0|            0|            0|            0|            0|            0|            0|            0|            0|            0|            0|            0|            0|            0|            0|            0|            0|            0|            0|            0|            0|            0|            0|            0|              8|         0|0.21181359807550515|  0.0|\n",
      "| 11|  25000.0|    25000.0|        25000.0|    7.49|     777.55|  109000.0|26.02|        0.0|          749.0|           1.0|     9.0|    0.0|  20862.0|      54.3|     19.0|              720.0|        0.0|        3.0|        0.0|        1.0|              13.0|     47194.0|   58.0|        0.0|        1.0|    8937.0|    57.0|   1.0|        0.0|         1.0|                 2.0|    33976.0|       17538.0|   54.3|                     0.0|        0.0|             142.0|               168.0|                 13.0|          13.0|     3.0|                13.0|                  0.0|                  0.0|           3.0|            3.0|        5.0|      6.0|      7.0|          5.0|          9.0|                3.0|     9.0|             0.0|         0.0|               0.0|               0.0|         100.0|            20.0|                 0.0|      0.0|       373572.0|          68056.0|       38400.0|                   82117.0|      0.0|                     0.0|                  0.0|            0.0|      0|      0|      0|      0|      0|      1|      0|           0|           0|           0|           0|           0|           0|           0|           0|           0|           0|           0|           0|           0|           0|           0|           0|           0|           0|           1|           0|           0|           0|           0|           0|           0|           0|           0|           0|           0|           0|           0|           0|           0|           0|           0|                 0|                  0|                      1|                 0|                  0|                           0|                                  0|                               1|              0|            0|                     0|                         1|                  0|             0|               0|                       0|            0|          0|                     0|              0|                       0|            0|            0|            0|            0|            0|            0|            0|            1|            0|            0|            0|            0|            0|            0|            0|            0|            0|            0|            0|            0|            0|            0|            0|            0|            0|            0|            0|            0|            0|            0|            0|            0|            0|            0|            0|            0|            0|            0|            0|            0|            0|            0|            0|            0|            0|            0|            0|            0|            0|            0|             10|         0|0.21181359807550515|  0.0|\n",
      "| 12|  18000.0|    18000.0|        18000.0|   11.99|     400.31|  112000.0| 8.68|        0.0|          804.0|           0.0|    17.0|    0.0|  10711.0|      15.5|     27.0|              790.0|        3.0|        1.0|        2.0|        2.0|               3.0|     25416.0|   97.0|        2.0|        3.0|    7672.0|    38.0|   0.0|        1.0|         1.0|                 5.0|    17089.0|       60336.0|   16.7|                     0.0|        0.0|             109.0|               265.0|                  1.0|           1.0|     4.0|                 1.0|                 10.0|                  0.0|           5.0|            6.0|       12.0|     12.0|      6.0|         15.0|         17.0|                6.0|    16.0|             0.0|         0.0|               0.0|               4.0|         100.0|             0.0|                 0.0|      0.0|       309710.0|          36127.0|       69800.0|                   26210.0|      1.0|                     0.0|                  0.0|            0.0|      0|      0|      0|      0|      1|      0|      0|           0|           0|           0|           0|           0|           0|           0|           0|           0|           0|           0|           0|           0|           0|           0|           0|           0|           0|           0|           0|           0|           0|           0|           0|           1|           0|           0|           0|           0|           0|           0|           0|           0|           0|           0|                 0|                  0|                      1|                 0|                  0|                           0|                                  0|                               1|              0|            0|                     0|                         1|                  0|             0|               0|                       0|            0|          0|                     0|              0|                       0|            0|            1|            0|            0|            0|            0|            0|            0|            0|            0|            0|            0|            0|            0|            0|            0|            0|            0|            0|            0|            0|            0|            0|            0|            0|            0|            0|            0|            0|            0|            0|            0|            0|            0|            0|            0|            0|            0|            0|            0|            0|            0|            0|            0|            0|            0|            0|            0|            0|            0|             10|         0|0.21181359807550515|  0.0|\n",
      "| 13|  29900.0|    29900.0|        29900.0|   12.88|     678.49|   65000.0|21.77|        0.0|          719.0|           0.0|    15.0|    0.0|  31682.0|      46.7|     31.0|              715.0|        2.0|        1.0|        1.0|        2.0|               9.0|     10815.0|   69.0|        3.0|        5.0|   12971.0|    51.0|   0.0|        4.0|         1.0|                 7.0|    15732.0|       18383.0|   45.9|                     0.0|        0.0|             114.0|               139.0|                  5.0|           5.0|     2.0|                 5.0|                  9.0|                  0.0|           2.0|            5.0|        4.0|      9.0|      8.0|         13.0|         21.0|                5.0|    15.0|             0.0|         0.0|               0.0|               4.0|         100.0|            25.0|                 0.0|      0.0|       271700.0|          42497.0|       34000.0|                   15574.0|      1.0|                     0.0|                  0.0|            0.0|      0|      0|      0|      0|      1|      0|      0|           0|           0|           0|           0|           0|           0|           0|           0|           0|           0|           0|           0|           0|           0|           0|           0|           0|           0|           0|           0|           0|           0|           0|           0|           0|           0|           0|           0|           1|           0|           0|           0|           0|           0|           0|                 0|                  0|                      1|                 0|                  0|                           1|                                  0|                               0|              0|            0|                     0|                         1|                  0|             0|               0|                       0|            0|          0|                     0|              0|                       0|            0|            0|            0|            0|            0|            0|            0|            0|            0|            0|            0|            0|            0|            0|            0|            0|            0|            0|            0|            0|            0|            0|            1|            0|            0|            0|            0|            0|            0|            0|            0|            0|            0|            0|            0|            0|            0|            0|            0|            0|            0|            0|            0|            0|            0|            0|            0|            0|            0|            0|             10|         0|0.21181359807550515|  0.0|\n",
      "| 14|  16000.0|    16000.0|        16000.0|   14.85|     379.39|   48000.0|33.18|        0.0|          689.0|           0.0|    11.0|    2.0|  19108.0|      29.6|     19.0|              660.0|        1.0|        2.0|        1.0|        2.0|               6.0|     12221.0|   91.0|        1.0|        4.0|   14982.0|    65.0|   0.0|        0.0|         1.0|                 6.0|     2848.0|      263953.0|   17.6|                     0.0|        0.0|             131.0|               294.0|                 11.0|           6.0|     2.0|                11.0|                 11.0|                  2.0|           6.0|            9.0|        6.0|      8.0|      6.0|          9.0|         11.0|                9.0|    11.0|             0.0|         0.0|               0.0|               2.0|          78.9|             0.0|                 0.0|      2.0|       298100.0|          31329.0|      281300.0|                   13400.0|      1.0|                     0.0|                  0.0|            0.0|      0|      0|      0|      0|      1|      0|      0|           0|           0|           0|           0|           0|           0|           0|           0|           0|           0|           0|           0|           0|           0|           0|           0|           1|           0|           0|           0|           0|           0|           0|           0|           0|           0|           0|           0|           0|           0|           0|           0|           0|           0|           0|                 0|                  0|                      1|                 0|                  0|                           0|                                  0|                               1|              0|            0|                     0|                         0|                  1|             0|               0|                       0|            0|          0|                     0|              0|                       0|            1|            0|            0|            0|            0|            0|            0|            0|            0|            0|            0|            0|            0|            0|            0|            0|            0|            0|            0|            0|            0|            0|            0|            0|            0|            0|            0|            0|            0|            0|            0|            0|            0|            0|            0|            0|            0|            0|            0|            0|            0|            0|            0|            0|            0|            0|            0|            0|            0|            0|             10|         0|0.21181359807550515|  0.0|\n",
      "| 15|   5000.0|     5000.0|         5000.0|   13.44|     169.54|   79000.0| 12.7|        0.0|          669.0|           0.0|     3.0|    0.0|   9441.0|     101.5|      5.0|              655.0|        0.0|        1.0|        0.0|        1.0|              19.0|     26212.0|   83.0|        0.0|        0.0|    4360.0|    87.0|   2.0|        0.0|         0.0|                 1.0|    11884.0|           0.0|  101.4|                     0.0|        0.0|              50.0|                36.0|                 32.0|          19.0|     0.0|                36.0|                 19.0|                  0.0|           1.0|            2.0|        1.0|      1.0|      3.0|          2.0|          2.0|                2.0|     3.0|             0.0|         0.0|               0.0|               0.0|         100.0|           100.0|                 0.0|      0.0|        41091.0|          35653.0|        4300.0|                   31791.0|      0.0|                     0.0|                  0.0|            0.0|      0|      0|      0|      0|      1|      0|      0|           0|           0|           0|           0|           0|           0|           1|           0|           0|           0|           0|           0|           0|           0|           0|           0|           0|           0|           0|           0|           0|           0|           0|           0|           0|           0|           0|           0|           0|           0|           0|           0|           0|           0|           0|                 0|                  1|                      0|                 0|                  0|                           1|                                  0|                               0|              0|            0|                     0|                         0|                  1|             0|               0|                       0|            0|          0|                     0|              0|                       0|            0|            0|            0|            0|            0|            0|            0|            0|            0|            0|            0|            0|            0|            0|            0|            0|            0|            0|            0|            0|            0|            0|            1|            0|            0|            0|            0|            0|            0|            0|            0|            0|            0|            0|            0|            0|            0|            0|            0|            0|            0|            0|            0|            0|            0|            0|            0|            0|            0|            0|              2|         0|0.21181359807550515|  0.0|\n",
      "| 16|   6000.0|     6000.0|         6000.0|    7.49|     186.61|  100000.0|13.28|        1.0|          699.0|           1.0|     9.0|    0.0|   8563.0|      72.0|     16.0|              715.0|        0.0|        2.0|        0.0|        0.0|              28.0|     12525.0|   35.0|        0.0|        1.0|    2260.0|    45.0|   0.0|        1.0|         1.0|                 1.0|    12911.0|         437.0|   88.5|                     0.0|        0.0|             124.0|               259.0|                 18.0|          18.0|     2.0|                36.0|                  6.0|                  0.0|           2.0|            4.0|        2.0|      6.0|      4.0|          5.0|          9.0|                4.0|     9.0|             0.0|         0.0|               0.0|               0.0|          93.7|            50.0|                 0.0|      0.0|       156354.0|          22741.0|        3800.0|                   36083.0|      0.0|                     0.0|                  0.0|            0.0|      0|      0|      0|      0|      0|      1|      0|           0|           0|           0|           0|           0|           0|           0|           0|           0|           0|           0|           0|           0|           0|           0|           0|           0|           0|           1|           0|           0|           0|           0|           0|           0|           0|           0|           0|           0|           0|           0|           0|           0|           0|           0|                 0|                  0|                      1|                 0|                  0|                           0|                                  0|                               1|              0|            0|                     0|                         1|                  0|             0|               0|                       0|            0|          0|                     0|              0|                       0|            0|            0|            0|            0|            0|            0|            0|            0|            0|            0|            0|            0|            0|            0|            0|            0|            0|            0|            0|            0|            0|            0|            0|            0|            0|            0|            0|            0|            0|            0|            0|            0|            0|            0|            0|            0|            0|            0|            1|            0|            0|            0|            0|            0|            0|            0|            0|            0|            0|            0|             10|         0|0.21181359807550515|  0.0|\n",
      "| 17|   4225.0|     4225.0|         4225.0|   14.85|     146.16|   35000.0|15.22|        2.0|          729.0|           0.0|     6.0|    0.0|   1058.0|      24.6|      6.0|                0.0|        0.0|        1.0|        0.0|        0.0|              47.0|      3830.0|   22.0|        0.0|        0.0|     367.0|    22.0|   0.0|        0.0|         0.0|                 0.0|      815.0|        2233.0|   14.1|                     0.0|        0.0|              47.0|                53.0|                 26.0|          26.0|     0.0|                26.0|                 14.0|                  0.0|           1.0|            2.0|        3.0|      3.0|      1.0|          5.0|          5.0|                2.0|     6.0|             0.0|         0.0|               0.0|               0.0|          66.7|             0.0|                 0.0|      0.0|        21822.0|           4888.0|        2600.0|                   17522.0|      0.0|                     0.0|                  0.0|            0.0|      0|      0|      0|      0|      1|      0|      0|           0|           0|           0|           0|           0|           0|           0|           0|           0|           0|           0|           0|           0|           0|           0|           0|           1|           0|           0|           0|           0|           0|           0|           0|           0|           0|           0|           0|           0|           0|           0|           0|           0|           0|           0|                 0|                  1|                      0|                 0|                  0|                           0|                                  1|                               0|              0|            0|                     0|                         1|                  0|             0|               0|                       0|            0|          0|                     0|              0|                       0|            0|            0|            0|            0|            0|            0|            0|            0|            0|            0|            0|            0|            0|            0|            0|            0|            0|            0|            0|            0|            0|            0|            0|            0|            0|            0|            0|            0|            0|            0|            0|            0|            0|            0|            0|            0|            0|            0|            0|            0|            0|            0|            1|            0|            0|            0|            0|            0|            0|            0|              5|         1| 0.7881864019244949|  1.0|\n",
      "| 18|  20000.0|    20000.0|        20000.0|    5.32|      602.3|   65000.0|18.83|        0.0|          839.0|           1.0|    12.0|    0.0|   2269.0|       3.0|     17.0|              805.0|        0.0|        2.0|        0.0|        1.0|              15.0|     13175.0|   44.0|        0.0|        1.0|    1448.0|    15.0|   2.0|        0.0|         1.0|                 2.0|     1287.0|       73931.0|    3.0|                     0.0|        0.0|              63.0|               295.0|                 19.0|          15.0|     0.0|                19.0|                  4.0|                  0.0|           3.0|            3.0|       10.0|     11.0|      4.0|         10.0|         13.0|                3.0|    12.0|             0.0|         0.0|               0.0|               0.0|         100.0|             0.0|                 0.0|      0.0|       106217.0|          15444.0|       76200.0|                   30017.0|      0.0|                     0.0|                  0.0|            0.0|      0|      0|      0|      0|      0|      1|      0|           0|           0|           0|           0|           0|           0|           0|           0|           0|           0|           0|           0|           0|           0|           0|           0|           0|           0|           0|           0|           0|           0|           0|           0|           0|           0|           0|           0|           0|           0|           0|           0|           0|           0|           1|                 1|                  0|                      0|                 0|                  0|                           0|                                  0|                               1|              0|            0|                     0|                         1|                  0|             0|               0|                       0|            0|          0|                     0|              0|                       0|            0|            0|            0|            0|            0|            0|            0|            0|            0|            0|            0|            0|            0|            0|            0|            0|            0|            0|            0|            0|            0|            0|            0|            0|            0|            0|            0|            0|            0|            0|            0|            0|            0|            0|            0|            0|            0|            1|            0|            0|            0|            0|            0|            0|            0|            0|            0|            0|            0|            0|              9|         0|0.21181359807550515|  0.0|\n",
      "| 19|  16000.0|    16000.0|        16000.0|   17.97|     406.04|  109000.0|23.35|        0.0|          684.0|           1.0|    11.0|    0.0|  42469.0|      87.6|     33.0|              675.0|        2.0|        2.0|        2.0|        2.0|               3.0|     20689.0|   94.0|        1.0|        3.0|    8897.0|    90.0|   0.0|        3.0|         1.0|                 5.0|    16631.0|           0.0|  100.8|                     0.0|        0.0|             149.0|               164.0|                  3.0|           3.0|     1.0|                13.0|                  1.0|                  0.0|           3.0|            6.0|        3.0|     13.0|     10.0|          8.0|         22.0|                6.0|    11.0|             0.0|         0.0|               0.0|               3.0|         100.0|           100.0|                 0.0|      0.0|       228050.0|          63158.0|       15800.0|                   22000.0|      1.0|                     0.0|                  0.0|            0.0|      0|      0|      0|      1|      0|      0|      0|           0|           0|           0|           0|           0|           0|           0|           0|           0|           0|           0|           0|           0|           0|           0|           0|           0|           0|           0|           0|           0|           0|           0|           0|           0|           0|           0|           0|           0|           1|           0|           0|           0|           0|           0|                 0|                  0|                      1|                 0|                  0|                           0|                                  1|                               0|              0|            0|                     0|                         1|                  0|             0|               0|                       0|            0|          0|                     0|              0|                       0|            0|            0|            0|            0|            0|            0|            0|            0|            0|            0|            0|            0|            0|            0|            0|            0|            0|            0|            0|            0|            0|            0|            0|            0|            0|            0|            0|            0|            0|            0|            0|            0|            0|            0|            1|            0|            0|            0|            0|            0|            0|            0|            0|            0|            0|            0|            0|            0|            0|            0|              0|         0|0.21181359807550515|  0.0|\n",
      "+---+---------+-----------+---------------+--------+-----------+----------+-----+-----------+---------------+--------------+--------+-------+---------+----------+---------+-------------------+-----------+-----------+-----------+-----------+------------------+------------+-------+-----------+-----------+----------+--------+------+-----------+------------+--------------------+-----------+--------------+-------+------------------------+-----------+------------------+--------------------+---------------------+--------------+--------+--------------------+---------------------+---------------------+--------------+---------------+-----------+---------+---------+-------------+-------------+-------------------+--------+----------------+------------+------------------+------------------+--------------+----------------+--------------------+---------+---------------+-----------------+--------------+--------------------------+---------+------------------------+---------------------+---------------+-------+-------+-------+-------+-------+-------+-------+------------+------------+------------+------------+------------+------------+------------+------------+------------+------------+------------+------------+------------+------------+------------+------------+------------+------------+------------+------------+------------+------------+------------+------------+------------+------------+------------+------------+------------+------------+------------+------------+------------+------------+------------+------------------+-------------------+-----------------------+------------------+-------------------+----------------------------+-----------------------------------+--------------------------------+---------------+-------------+----------------------+--------------------------+-------------------+--------------+----------------+------------------------+-------------+-----------+----------------------+---------------+------------------------+-------------+-------------+-------------+-------------+-------------+-------------+-------------+-------------+-------------+-------------+-------------+-------------+-------------+-------------+-------------+-------------+-------------+-------------+-------------+-------------+-------------+-------------+-------------+-------------+-------------+-------------+-------------+-------------+-------------+-------------+-------------+-------------+-------------+-------------+-------------+-------------+-------------+-------------+-------------+-------------+-------------+-------------+-------------+-------------+-------------+-------------+-------------+-------------+-------------+-------------+---------------+----------+-------------------+-----+\n",
      "only showing top 20 rows\n",
      "\n"
     ]
    }
   ],
   "source": [
    "# drop rows with id=1 \n",
    "data_2.where(data_2.ClassLable !='100').show()"
   ]
  },
  {
   "cell_type": "code",
   "execution_count": 38,
   "metadata": {},
   "outputs": [
    {
     "name": "stdout",
     "output_type": "stream",
     "text": [
      "root\n",
      " |-- _c0: integer (nullable = true)\n",
      " |-- loan_amnt: double (nullable = true)\n",
      " |-- funded_amnt: double (nullable = true)\n",
      " |-- funded_amnt_inv: double (nullable = true)\n",
      " |-- int_rate: double (nullable = true)\n",
      " |-- installment: double (nullable = true)\n",
      " |-- annual_inc: double (nullable = true)\n",
      " |-- dti: double (nullable = true)\n",
      " |-- delinq_2yrs: double (nullable = true)\n",
      " |-- fico_range_high: double (nullable = true)\n",
      " |-- inq_last_6mths: double (nullable = true)\n",
      " |-- open_acc: double (nullable = true)\n",
      " |-- pub_rec: double (nullable = true)\n",
      " |-- revol_bal: double (nullable = true)\n",
      " |-- revol_util: double (nullable = true)\n",
      " |-- total_acc: double (nullable = true)\n",
      " |-- last_fico_range_low: double (nullable = true)\n",
      " |-- open_acc_6m: double (nullable = true)\n",
      " |-- open_act_il: double (nullable = true)\n",
      " |-- open_il_12m: double (nullable = true)\n",
      " |-- open_il_24m: double (nullable = true)\n",
      " |-- mths_since_rcnt_il: double (nullable = true)\n",
      " |-- total_bal_il: double (nullable = true)\n",
      " |-- il_util: double (nullable = true)\n",
      " |-- open_rv_12m: double (nullable = true)\n",
      " |-- open_rv_24m: double (nullable = true)\n",
      " |-- max_bal_bc: double (nullable = true)\n",
      " |-- all_util: double (nullable = true)\n",
      " |-- inq_fi: double (nullable = true)\n",
      " |-- total_cu_tl: double (nullable = true)\n",
      " |-- inq_last_12m: double (nullable = true)\n",
      " |-- acc_open_past_24mths: double (nullable = true)\n",
      " |-- avg_cur_bal: double (nullable = true)\n",
      " |-- bc_open_to_buy: double (nullable = true)\n",
      " |-- bc_util: double (nullable = true)\n",
      " |-- chargeoff_within_12_mths: double (nullable = true)\n",
      " |-- delinq_amnt: double (nullable = true)\n",
      " |-- mo_sin_old_il_acct: double (nullable = true)\n",
      " |-- mo_sin_old_rev_tl_op: double (nullable = true)\n",
      " |-- mo_sin_rcnt_rev_tl_op: double (nullable = true)\n",
      " |-- mo_sin_rcnt_tl: double (nullable = true)\n",
      " |-- mort_acc: double (nullable = true)\n",
      " |-- mths_since_recent_bc: double (nullable = true)\n",
      " |-- mths_since_recent_inq: double (nullable = true)\n",
      " |-- num_accts_ever_120_pd: double (nullable = true)\n",
      " |-- num_actv_bc_tl: double (nullable = true)\n",
      " |-- num_actv_rev_tl: double (nullable = true)\n",
      " |-- num_bc_sats: double (nullable = true)\n",
      " |-- num_bc_tl: double (nullable = true)\n",
      " |-- num_il_tl: double (nullable = true)\n",
      " |-- num_op_rev_tl: double (nullable = true)\n",
      " |-- num_rev_accts: double (nullable = true)\n",
      " |-- num_rev_tl_bal_gt_0: double (nullable = true)\n",
      " |-- num_sats: double (nullable = true)\n",
      " |-- num_tl_120dpd_2m: double (nullable = true)\n",
      " |-- num_tl_30dpd: double (nullable = true)\n",
      " |-- num_tl_90g_dpd_24m: double (nullable = true)\n",
      " |-- num_tl_op_past_12m: double (nullable = true)\n",
      " |-- pct_tl_nvr_dlq: double (nullable = true)\n",
      " |-- percent_bc_gt_75: double (nullable = true)\n",
      " |-- pub_rec_bankruptcies: double (nullable = true)\n",
      " |-- tax_liens: double (nullable = true)\n",
      " |-- tot_hi_cred_lim: double (nullable = true)\n",
      " |-- total_bal_ex_mort: double (nullable = true)\n",
      " |-- total_bc_limit: double (nullable = true)\n",
      " |-- total_il_high_credit_limit: double (nullable = true)\n",
      " |-- termIndex: double (nullable = true)\n",
      " |-- initial_list_statusIndex: double (nullable = true)\n",
      " |-- application_typeIndex: double (nullable = true)\n",
      " |-- pymnt_planIndex: double (nullable = true)\n",
      " |-- grade_F: integer (nullable = true)\n",
      " |-- grade_E: integer (nullable = true)\n",
      " |-- grade_B: integer (nullable = true)\n",
      " |-- grade_D: integer (nullable = true)\n",
      " |-- grade_C: integer (nullable = true)\n",
      " |-- grade_A: integer (nullable = true)\n",
      " |-- grade_G: integer (nullable = true)\n",
      " |-- sub_grade_D5: integer (nullable = true)\n",
      " |-- sub_grade_F2: integer (nullable = true)\n",
      " |-- sub_grade_B4: integer (nullable = true)\n",
      " |-- sub_grade_A2: integer (nullable = true)\n",
      " |-- sub_grade_E4: integer (nullable = true)\n",
      " |-- sub_grade_B2: integer (nullable = true)\n",
      " |-- sub_grade_C3: integer (nullable = true)\n",
      " |-- sub_grade_D1: integer (nullable = true)\n",
      " |-- sub_grade_C4: integer (nullable = true)\n",
      " |-- sub_grade_F1: integer (nullable = true)\n",
      " |-- sub_grade_D3: integer (nullable = true)\n",
      " |-- sub_grade_F5: integer (nullable = true)\n",
      " |-- sub_grade_G2: integer (nullable = true)\n",
      " |-- sub_grade_B1: integer (nullable = true)\n",
      " |-- sub_grade_B3: integer (nullable = true)\n",
      " |-- sub_grade_E5: integer (nullable = true)\n",
      " |-- sub_grade_C5: integer (nullable = true)\n",
      " |-- sub_grade_G3: integer (nullable = true)\n",
      " |-- sub_grade_A4: integer (nullable = true)\n",
      " |-- sub_grade_F4: integer (nullable = true)\n",
      " |-- sub_grade_B5: integer (nullable = true)\n",
      " |-- sub_grade_E3: integer (nullable = true)\n",
      " |-- sub_grade_G4: integer (nullable = true)\n",
      " |-- sub_grade_D2: integer (nullable = true)\n",
      " |-- sub_grade_C1: integer (nullable = true)\n",
      " |-- sub_grade_F3: integer (nullable = true)\n",
      " |-- sub_grade_A5: integer (nullable = true)\n",
      " |-- sub_grade_E1: integer (nullable = true)\n",
      " |-- sub_grade_C2: integer (nullable = true)\n",
      " |-- sub_grade_D4: integer (nullable = true)\n",
      " |-- sub_grade_E2: integer (nullable = true)\n",
      " |-- sub_grade_A3: integer (nullable = true)\n",
      " |-- sub_grade_G5: integer (nullable = true)\n",
      " |-- sub_grade_G1: integer (nullable = true)\n",
      " |-- sub_grade_A1: integer (nullable = true)\n",
      " |-- home_ownership_OWN: integer (nullable = true)\n",
      " |-- home_ownership_RENT: integer (nullable = true)\n",
      " |-- home_ownership_MORTGAGE: integer (nullable = true)\n",
      " |-- home_ownership_ANY: integer (nullable = true)\n",
      " |-- home_ownership_NONE: integer (nullable = true)\n",
      " |-- verification_status_Verified: integer (nullable = true)\n",
      " |-- verification_status_Source Verified: integer (nullable = true)\n",
      " |-- verification_status_Not Verified: integer (nullable = true)\n",
      " |-- purpose_wedding: integer (nullable = true)\n",
      " |-- purpose_other: integer (nullable = true)\n",
      " |-- purpose_small_business: integer (nullable = true)\n",
      " |-- purpose_debt_consolidation: integer (nullable = true)\n",
      " |-- purpose_credit_card: integer (nullable = true)\n",
      " |-- purpose_moving: integer (nullable = true)\n",
      " |-- purpose_vacation: integer (nullable = true)\n",
      " |-- purpose_renewable_energy: integer (nullable = true)\n",
      " |-- purpose_house: integer (nullable = true)\n",
      " |-- purpose_car: integer (nullable = true)\n",
      " |-- purpose_major_purchase: integer (nullable = true)\n",
      " |-- purpose_medical: integer (nullable = true)\n",
      " |-- purpose_home_improvement: integer (nullable = true)\n",
      " |-- addr_state_SC: integer (nullable = true)\n",
      " |-- addr_state_AZ: integer (nullable = true)\n",
      " |-- addr_state_LA: integer (nullable = true)\n",
      " |-- addr_state_MN: integer (nullable = true)\n",
      " |-- addr_state_NJ: integer (nullable = true)\n",
      " |-- addr_state_DC: integer (nullable = true)\n",
      " |-- addr_state_OR: integer (nullable = true)\n",
      " |-- addr_state_VA: integer (nullable = true)\n",
      " |-- addr_state_RI: integer (nullable = true)\n",
      " |-- addr_state_KY: integer (nullable = true)\n",
      " |-- addr_state_WY: integer (nullable = true)\n",
      " |-- addr_state_NH: integer (nullable = true)\n",
      " |-- addr_state_MI: integer (nullable = true)\n",
      " |-- addr_state_NV: integer (nullable = true)\n",
      " |-- addr_state_WI: integer (nullable = true)\n",
      " |-- addr_state_ID: integer (nullable = true)\n",
      " |-- addr_state_CA: integer (nullable = true)\n",
      " |-- addr_state_NE: integer (nullable = true)\n",
      " |-- addr_state_CT: integer (nullable = true)\n",
      " |-- addr_state_MT: integer (nullable = true)\n",
      " |-- addr_state_NC: integer (nullable = true)\n",
      " |-- addr_state_VT: integer (nullable = true)\n",
      " |-- addr_state_MD: integer (nullable = true)\n",
      " |-- addr_state_DE: integer (nullable = true)\n",
      " |-- addr_state_MO: integer (nullable = true)\n",
      " |-- addr_state_IL: integer (nullable = true)\n",
      " |-- addr_state_ME: integer (nullable = true)\n",
      " |-- addr_state_WA: integer (nullable = true)\n",
      " |-- addr_state_ND: integer (nullable = true)\n",
      " |-- addr_state_MS: integer (nullable = true)\n",
      " |-- addr_state_AL: integer (nullable = true)\n",
      " |-- addr_state_IN: integer (nullable = true)\n",
      " |-- addr_state_OH: integer (nullable = true)\n",
      " |-- addr_state_TN: integer (nullable = true)\n",
      " |-- addr_state_NM: integer (nullable = true)\n",
      " |-- addr_state_PA: integer (nullable = true)\n",
      " |-- addr_state_SD: integer (nullable = true)\n",
      " |-- addr_state_NY: integer (nullable = true)\n",
      " |-- addr_state_TX: integer (nullable = true)\n",
      " |-- addr_state_WV: integer (nullable = true)\n",
      " |-- addr_state_GA: integer (nullable = true)\n",
      " |-- addr_state_MA: integer (nullable = true)\n",
      " |-- addr_state_KS: integer (nullable = true)\n",
      " |-- addr_state_FL: integer (nullable = true)\n",
      " |-- addr_state_CO: integer (nullable = true)\n",
      " |-- addr_state_AK: integer (nullable = true)\n",
      " |-- addr_state_AR: integer (nullable = true)\n",
      " |-- addr_state_OK: integer (nullable = true)\n",
      " |-- addr_state_UT: integer (nullable = true)\n",
      " |-- addr_state_HI: integer (nullable = true)\n",
      " |-- emp_lengthIndex: integer (nullable = true)\n",
      " |-- ClassLable: integer (nullable = true)\n",
      " |-- weightColumn: double (nullable = true)\n",
      " |-- label: double (nullable = true)\n",
      "\n"
     ]
    }
   ],
   "source": [
    "data_2.printSchema()"
   ]
  },
  {
   "cell_type": "code",
   "execution_count": 39,
   "metadata": {},
   "outputs": [],
   "source": [
    "data_2 = data_2.drop(\"_c0\")"
   ]
  },
  {
   "cell_type": "code",
   "execution_count": 40,
   "metadata": {},
   "outputs": [
    {
     "name": "stdout",
     "output_type": "stream",
     "text": [
      "root\n",
      " |-- loan_amnt: double (nullable = true)\n",
      " |-- funded_amnt: double (nullable = true)\n",
      " |-- funded_amnt_inv: double (nullable = true)\n",
      " |-- int_rate: double (nullable = true)\n",
      " |-- installment: double (nullable = true)\n",
      " |-- annual_inc: double (nullable = true)\n",
      " |-- dti: double (nullable = true)\n",
      " |-- delinq_2yrs: double (nullable = true)\n",
      " |-- fico_range_high: double (nullable = true)\n",
      " |-- inq_last_6mths: double (nullable = true)\n",
      " |-- open_acc: double (nullable = true)\n",
      " |-- pub_rec: double (nullable = true)\n",
      " |-- revol_bal: double (nullable = true)\n",
      " |-- revol_util: double (nullable = true)\n",
      " |-- total_acc: double (nullable = true)\n",
      " |-- last_fico_range_low: double (nullable = true)\n",
      " |-- open_acc_6m: double (nullable = true)\n",
      " |-- open_act_il: double (nullable = true)\n",
      " |-- open_il_12m: double (nullable = true)\n",
      " |-- open_il_24m: double (nullable = true)\n",
      " |-- mths_since_rcnt_il: double (nullable = true)\n",
      " |-- total_bal_il: double (nullable = true)\n",
      " |-- il_util: double (nullable = true)\n",
      " |-- open_rv_12m: double (nullable = true)\n",
      " |-- open_rv_24m: double (nullable = true)\n",
      " |-- max_bal_bc: double (nullable = true)\n",
      " |-- all_util: double (nullable = true)\n",
      " |-- inq_fi: double (nullable = true)\n",
      " |-- total_cu_tl: double (nullable = true)\n",
      " |-- inq_last_12m: double (nullable = true)\n",
      " |-- acc_open_past_24mths: double (nullable = true)\n",
      " |-- avg_cur_bal: double (nullable = true)\n",
      " |-- bc_open_to_buy: double (nullable = true)\n",
      " |-- bc_util: double (nullable = true)\n",
      " |-- chargeoff_within_12_mths: double (nullable = true)\n",
      " |-- delinq_amnt: double (nullable = true)\n",
      " |-- mo_sin_old_il_acct: double (nullable = true)\n",
      " |-- mo_sin_old_rev_tl_op: double (nullable = true)\n",
      " |-- mo_sin_rcnt_rev_tl_op: double (nullable = true)\n",
      " |-- mo_sin_rcnt_tl: double (nullable = true)\n",
      " |-- mort_acc: double (nullable = true)\n",
      " |-- mths_since_recent_bc: double (nullable = true)\n",
      " |-- mths_since_recent_inq: double (nullable = true)\n",
      " |-- num_accts_ever_120_pd: double (nullable = true)\n",
      " |-- num_actv_bc_tl: double (nullable = true)\n",
      " |-- num_actv_rev_tl: double (nullable = true)\n",
      " |-- num_bc_sats: double (nullable = true)\n",
      " |-- num_bc_tl: double (nullable = true)\n",
      " |-- num_il_tl: double (nullable = true)\n",
      " |-- num_op_rev_tl: double (nullable = true)\n",
      " |-- num_rev_accts: double (nullable = true)\n",
      " |-- num_rev_tl_bal_gt_0: double (nullable = true)\n",
      " |-- num_sats: double (nullable = true)\n",
      " |-- num_tl_120dpd_2m: double (nullable = true)\n",
      " |-- num_tl_30dpd: double (nullable = true)\n",
      " |-- num_tl_90g_dpd_24m: double (nullable = true)\n",
      " |-- num_tl_op_past_12m: double (nullable = true)\n",
      " |-- pct_tl_nvr_dlq: double (nullable = true)\n",
      " |-- percent_bc_gt_75: double (nullable = true)\n",
      " |-- pub_rec_bankruptcies: double (nullable = true)\n",
      " |-- tax_liens: double (nullable = true)\n",
      " |-- tot_hi_cred_lim: double (nullable = true)\n",
      " |-- total_bal_ex_mort: double (nullable = true)\n",
      " |-- total_bc_limit: double (nullable = true)\n",
      " |-- total_il_high_credit_limit: double (nullable = true)\n",
      " |-- termIndex: double (nullable = true)\n",
      " |-- initial_list_statusIndex: double (nullable = true)\n",
      " |-- application_typeIndex: double (nullable = true)\n",
      " |-- pymnt_planIndex: double (nullable = true)\n",
      " |-- grade_F: integer (nullable = true)\n",
      " |-- grade_E: integer (nullable = true)\n",
      " |-- grade_B: integer (nullable = true)\n",
      " |-- grade_D: integer (nullable = true)\n",
      " |-- grade_C: integer (nullable = true)\n",
      " |-- grade_A: integer (nullable = true)\n",
      " |-- grade_G: integer (nullable = true)\n",
      " |-- sub_grade_D5: integer (nullable = true)\n",
      " |-- sub_grade_F2: integer (nullable = true)\n",
      " |-- sub_grade_B4: integer (nullable = true)\n",
      " |-- sub_grade_A2: integer (nullable = true)\n",
      " |-- sub_grade_E4: integer (nullable = true)\n",
      " |-- sub_grade_B2: integer (nullable = true)\n",
      " |-- sub_grade_C3: integer (nullable = true)\n",
      " |-- sub_grade_D1: integer (nullable = true)\n",
      " |-- sub_grade_C4: integer (nullable = true)\n",
      " |-- sub_grade_F1: integer (nullable = true)\n",
      " |-- sub_grade_D3: integer (nullable = true)\n",
      " |-- sub_grade_F5: integer (nullable = true)\n",
      " |-- sub_grade_G2: integer (nullable = true)\n",
      " |-- sub_grade_B1: integer (nullable = true)\n",
      " |-- sub_grade_B3: integer (nullable = true)\n",
      " |-- sub_grade_E5: integer (nullable = true)\n",
      " |-- sub_grade_C5: integer (nullable = true)\n",
      " |-- sub_grade_G3: integer (nullable = true)\n",
      " |-- sub_grade_A4: integer (nullable = true)\n",
      " |-- sub_grade_F4: integer (nullable = true)\n",
      " |-- sub_grade_B5: integer (nullable = true)\n",
      " |-- sub_grade_E3: integer (nullable = true)\n",
      " |-- sub_grade_G4: integer (nullable = true)\n",
      " |-- sub_grade_D2: integer (nullable = true)\n",
      " |-- sub_grade_C1: integer (nullable = true)\n",
      " |-- sub_grade_F3: integer (nullable = true)\n",
      " |-- sub_grade_A5: integer (nullable = true)\n",
      " |-- sub_grade_E1: integer (nullable = true)\n",
      " |-- sub_grade_C2: integer (nullable = true)\n",
      " |-- sub_grade_D4: integer (nullable = true)\n",
      " |-- sub_grade_E2: integer (nullable = true)\n",
      " |-- sub_grade_A3: integer (nullable = true)\n",
      " |-- sub_grade_G5: integer (nullable = true)\n",
      " |-- sub_grade_G1: integer (nullable = true)\n",
      " |-- sub_grade_A1: integer (nullable = true)\n",
      " |-- home_ownership_OWN: integer (nullable = true)\n",
      " |-- home_ownership_RENT: integer (nullable = true)\n",
      " |-- home_ownership_MORTGAGE: integer (nullable = true)\n",
      " |-- home_ownership_ANY: integer (nullable = true)\n",
      " |-- home_ownership_NONE: integer (nullable = true)\n",
      " |-- verification_status_Verified: integer (nullable = true)\n",
      " |-- verification_status_Source Verified: integer (nullable = true)\n",
      " |-- verification_status_Not Verified: integer (nullable = true)\n",
      " |-- purpose_wedding: integer (nullable = true)\n",
      " |-- purpose_other: integer (nullable = true)\n",
      " |-- purpose_small_business: integer (nullable = true)\n",
      " |-- purpose_debt_consolidation: integer (nullable = true)\n",
      " |-- purpose_credit_card: integer (nullable = true)\n",
      " |-- purpose_moving: integer (nullable = true)\n",
      " |-- purpose_vacation: integer (nullable = true)\n",
      " |-- purpose_renewable_energy: integer (nullable = true)\n",
      " |-- purpose_house: integer (nullable = true)\n",
      " |-- purpose_car: integer (nullable = true)\n",
      " |-- purpose_major_purchase: integer (nullable = true)\n",
      " |-- purpose_medical: integer (nullable = true)\n",
      " |-- purpose_home_improvement: integer (nullable = true)\n",
      " |-- addr_state_SC: integer (nullable = true)\n",
      " |-- addr_state_AZ: integer (nullable = true)\n",
      " |-- addr_state_LA: integer (nullable = true)\n",
      " |-- addr_state_MN: integer (nullable = true)\n",
      " |-- addr_state_NJ: integer (nullable = true)\n",
      " |-- addr_state_DC: integer (nullable = true)\n",
      " |-- addr_state_OR: integer (nullable = true)\n",
      " |-- addr_state_VA: integer (nullable = true)\n",
      " |-- addr_state_RI: integer (nullable = true)\n",
      " |-- addr_state_KY: integer (nullable = true)\n",
      " |-- addr_state_WY: integer (nullable = true)\n",
      " |-- addr_state_NH: integer (nullable = true)\n",
      " |-- addr_state_MI: integer (nullable = true)\n",
      " |-- addr_state_NV: integer (nullable = true)\n",
      " |-- addr_state_WI: integer (nullable = true)\n",
      " |-- addr_state_ID: integer (nullable = true)\n",
      " |-- addr_state_CA: integer (nullable = true)\n",
      " |-- addr_state_NE: integer (nullable = true)\n",
      " |-- addr_state_CT: integer (nullable = true)\n",
      " |-- addr_state_MT: integer (nullable = true)\n",
      " |-- addr_state_NC: integer (nullable = true)\n",
      " |-- addr_state_VT: integer (nullable = true)\n",
      " |-- addr_state_MD: integer (nullable = true)\n",
      " |-- addr_state_DE: integer (nullable = true)\n",
      " |-- addr_state_MO: integer (nullable = true)\n",
      " |-- addr_state_IL: integer (nullable = true)\n",
      " |-- addr_state_ME: integer (nullable = true)\n",
      " |-- addr_state_WA: integer (nullable = true)\n",
      " |-- addr_state_ND: integer (nullable = true)\n",
      " |-- addr_state_MS: integer (nullable = true)\n",
      " |-- addr_state_AL: integer (nullable = true)\n",
      " |-- addr_state_IN: integer (nullable = true)\n",
      " |-- addr_state_OH: integer (nullable = true)\n",
      " |-- addr_state_TN: integer (nullable = true)\n",
      " |-- addr_state_NM: integer (nullable = true)\n",
      " |-- addr_state_PA: integer (nullable = true)\n",
      " |-- addr_state_SD: integer (nullable = true)\n",
      " |-- addr_state_NY: integer (nullable = true)\n",
      " |-- addr_state_TX: integer (nullable = true)\n",
      " |-- addr_state_WV: integer (nullable = true)\n",
      " |-- addr_state_GA: integer (nullable = true)\n",
      " |-- addr_state_MA: integer (nullable = true)\n",
      " |-- addr_state_KS: integer (nullable = true)\n",
      " |-- addr_state_FL: integer (nullable = true)\n",
      " |-- addr_state_CO: integer (nullable = true)\n",
      " |-- addr_state_AK: integer (nullable = true)\n",
      " |-- addr_state_AR: integer (nullable = true)\n",
      " |-- addr_state_OK: integer (nullable = true)\n",
      " |-- addr_state_UT: integer (nullable = true)\n",
      " |-- addr_state_HI: integer (nullable = true)\n",
      " |-- emp_lengthIndex: integer (nullable = true)\n",
      " |-- ClassLable: integer (nullable = true)\n",
      " |-- weightColumn: double (nullable = true)\n",
      " |-- label: double (nullable = true)\n",
      "\n"
     ]
    }
   ],
   "source": [
    "data_2.printSchema()"
   ]
  },
  {
   "cell_type": "code",
   "execution_count": 41,
   "metadata": {},
   "outputs": [],
   "source": [
    "data_2 = data_2.drop(\"label\")"
   ]
  },
  {
   "cell_type": "code",
   "execution_count": 42,
   "metadata": {},
   "outputs": [
    {
     "name": "stdout",
     "output_type": "stream",
     "text": [
      "+---------+-----------+---------------+--------+-----------+----------+---+-----------+---------------+--------------+--------+-------+---------+----------+---------+-------------------+-----------+-----------+-----------+-----------+------------------+------------+-------+-----------+-----------+----------+--------+------+-----------+------------+--------------------+-----------+--------------+-------+------------------------+-----------+------------------+--------------------+---------------------+--------------+--------+--------------------+---------------------+---------------------+--------------+---------------+-----------+---------+---------+-------------+-------------+-------------------+--------+----------------+------------+------------------+------------------+--------------+----------------+--------------------+---------+---------------+-----------------+--------------+--------------------------+---------+------------------------+---------------------+---------------+-------+-------+-------+-------+-------+-------+-------+------------+------------+------------+------------+------------+------------+------------+------------+------------+------------+------------+------------+------------+------------+------------+------------+------------+------------+------------+------------+------------+------------+------------+------------+------------+------------+------------+------------+------------+------------+------------+------------+------------+------------+------------+------------------+-------------------+-----------------------+------------------+-------------------+----------------------------+-----------------------------------+--------------------------------+---------------+-------------+----------------------+--------------------------+-------------------+--------------+----------------+------------------------+-------------+-----------+----------------------+---------------+------------------------+-------------+-------------+-------------+-------------+-------------+-------------+-------------+-------------+-------------+-------------+-------------+-------------+-------------+-------------+-------------+-------------+-------------+-------------+-------------+-------------+-------------+-------------+-------------+-------------+-------------+-------------+-------------+-------------+-------------+-------------+-------------+-------------+-------------+-------------+-------------+-------------+-------------+-------------+-------------+-------------+-------------+-------------+-------------+-------------+-------------+-------------+-------------+-------------+-------------+-------------+---------------+----------+------------+\n",
      "|loan_amnt|funded_amnt|funded_amnt_inv|int_rate|installment|annual_inc|dti|delinq_2yrs|fico_range_high|inq_last_6mths|open_acc|pub_rec|revol_bal|revol_util|total_acc|last_fico_range_low|open_acc_6m|open_act_il|open_il_12m|open_il_24m|mths_since_rcnt_il|total_bal_il|il_util|open_rv_12m|open_rv_24m|max_bal_bc|all_util|inq_fi|total_cu_tl|inq_last_12m|acc_open_past_24mths|avg_cur_bal|bc_open_to_buy|bc_util|chargeoff_within_12_mths|delinq_amnt|mo_sin_old_il_acct|mo_sin_old_rev_tl_op|mo_sin_rcnt_rev_tl_op|mo_sin_rcnt_tl|mort_acc|mths_since_recent_bc|mths_since_recent_inq|num_accts_ever_120_pd|num_actv_bc_tl|num_actv_rev_tl|num_bc_sats|num_bc_tl|num_il_tl|num_op_rev_tl|num_rev_accts|num_rev_tl_bal_gt_0|num_sats|num_tl_120dpd_2m|num_tl_30dpd|num_tl_90g_dpd_24m|num_tl_op_past_12m|pct_tl_nvr_dlq|percent_bc_gt_75|pub_rec_bankruptcies|tax_liens|tot_hi_cred_lim|total_bal_ex_mort|total_bc_limit|total_il_high_credit_limit|termIndex|initial_list_statusIndex|application_typeIndex|pymnt_planIndex|grade_F|grade_E|grade_B|grade_D|grade_C|grade_A|grade_G|sub_grade_D5|sub_grade_F2|sub_grade_B4|sub_grade_A2|sub_grade_E4|sub_grade_B2|sub_grade_C3|sub_grade_D1|sub_grade_C4|sub_grade_F1|sub_grade_D3|sub_grade_F5|sub_grade_G2|sub_grade_B1|sub_grade_B3|sub_grade_E5|sub_grade_C5|sub_grade_G3|sub_grade_A4|sub_grade_F4|sub_grade_B5|sub_grade_E3|sub_grade_G4|sub_grade_D2|sub_grade_C1|sub_grade_F3|sub_grade_A5|sub_grade_E1|sub_grade_C2|sub_grade_D4|sub_grade_E2|sub_grade_A3|sub_grade_G5|sub_grade_G1|sub_grade_A1|home_ownership_OWN|home_ownership_RENT|home_ownership_MORTGAGE|home_ownership_ANY|home_ownership_NONE|verification_status_Verified|verification_status_Source Verified|verification_status_Not Verified|purpose_wedding|purpose_other|purpose_small_business|purpose_debt_consolidation|purpose_credit_card|purpose_moving|purpose_vacation|purpose_renewable_energy|purpose_house|purpose_car|purpose_major_purchase|purpose_medical|purpose_home_improvement|addr_state_SC|addr_state_AZ|addr_state_LA|addr_state_MN|addr_state_NJ|addr_state_DC|addr_state_OR|addr_state_VA|addr_state_RI|addr_state_KY|addr_state_WY|addr_state_NH|addr_state_MI|addr_state_NV|addr_state_WI|addr_state_ID|addr_state_CA|addr_state_NE|addr_state_CT|addr_state_MT|addr_state_NC|addr_state_VT|addr_state_MD|addr_state_DE|addr_state_MO|addr_state_IL|addr_state_ME|addr_state_WA|addr_state_ND|addr_state_MS|addr_state_AL|addr_state_IN|addr_state_OH|addr_state_TN|addr_state_NM|addr_state_PA|addr_state_SD|addr_state_NY|addr_state_TX|addr_state_WV|addr_state_GA|addr_state_MA|addr_state_KS|addr_state_FL|addr_state_CO|addr_state_AK|addr_state_AR|addr_state_OK|addr_state_UT|addr_state_HI|emp_lengthIndex|ClassLable|weightColumn|\n",
      "+---------+-----------+---------------+--------+-----------+----------+---+-----------+---------------+--------------+--------+-------+---------+----------+---------+-------------------+-----------+-----------+-----------+-----------+------------------+------------+-------+-----------+-----------+----------+--------+------+-----------+------------+--------------------+-----------+--------------+-------+------------------------+-----------+------------------+--------------------+---------------------+--------------+--------+--------------------+---------------------+---------------------+--------------+---------------+-----------+---------+---------+-------------+-------------+-------------------+--------+----------------+------------+------------------+------------------+--------------+----------------+--------------------+---------+---------------+-----------------+--------------+--------------------------+---------+------------------------+---------------------+---------------+-------+-------+-------+-------+-------+-------+-------+------------+------------+------------+------------+------------+------------+------------+------------+------------+------------+------------+------------+------------+------------+------------+------------+------------+------------+------------+------------+------------+------------+------------+------------+------------+------------+------------+------------+------------+------------+------------+------------+------------+------------+------------+------------------+-------------------+-----------------------+------------------+-------------------+----------------------------+-----------------------------------+--------------------------------+---------------+-------------+----------------------+--------------------------+-------------------+--------------+----------------+------------------------+-------------+-----------+----------------------+---------------+------------------------+-------------+-------------+-------------+-------------+-------------+-------------+-------------+-------------+-------------+-------------+-------------+-------------+-------------+-------------+-------------+-------------+-------------+-------------+-------------+-------------+-------------+-------------+-------------+-------------+-------------+-------------+-------------+-------------+-------------+-------------+-------------+-------------+-------------+-------------+-------------+-------------+-------------+-------------+-------------+-------------+-------------+-------------+-------------+-------------+-------------+-------------+-------------+-------------+-------------+-------------+---------------+----------+------------+\n",
      "+---------+-----------+---------------+--------+-----------+----------+---+-----------+---------------+--------------+--------+-------+---------+----------+---------+-------------------+-----------+-----------+-----------+-----------+------------------+------------+-------+-----------+-----------+----------+--------+------+-----------+------------+--------------------+-----------+--------------+-------+------------------------+-----------+------------------+--------------------+---------------------+--------------+--------+--------------------+---------------------+---------------------+--------------+---------------+-----------+---------+---------+-------------+-------------+-------------------+--------+----------------+------------+------------------+------------------+--------------+----------------+--------------------+---------+---------------+-----------------+--------------+--------------------------+---------+------------------------+---------------------+---------------+-------+-------+-------+-------+-------+-------+-------+------------+------------+------------+------------+------------+------------+------------+------------+------------+------------+------------+------------+------------+------------+------------+------------+------------+------------+------------+------------+------------+------------+------------+------------+------------+------------+------------+------------+------------+------------+------------+------------+------------+------------+------------+------------------+-------------------+-----------------------+------------------+-------------------+----------------------------+-----------------------------------+--------------------------------+---------------+-------------+----------------------+--------------------------+-------------------+--------------+----------------+------------------------+-------------+-----------+----------------------+---------------+------------------------+-------------+-------------+-------------+-------------+-------------+-------------+-------------+-------------+-------------+-------------+-------------+-------------+-------------+-------------+-------------+-------------+-------------+-------------+-------------+-------------+-------------+-------------+-------------+-------------+-------------+-------------+-------------+-------------+-------------+-------------+-------------+-------------+-------------+-------------+-------------+-------------+-------------+-------------+-------------+-------------+-------------+-------------+-------------+-------------+-------------+-------------+-------------+-------------+-------------+-------------+---------------+----------+------------+\n",
      "\n"
     ]
    }
   ],
   "source": [
    "# drop rows with id less than 4\n",
    "data_2.where(data_2.ClassLable>99).show()"
   ]
  },
  {
   "cell_type": "markdown",
   "metadata": {},
   "source": [
    "### Vectorizing feature columns"
   ]
  },
  {
   "cell_type": "code",
   "execution_count": 43,
   "metadata": {},
   "outputs": [
    {
     "name": "stdout",
     "output_type": "stream",
     "text": [
      "+---------+-----------+---------------+--------+-----------+----------+-----+-----------+---------------+--------------+--------+-------+---------+----------+---------+-------------------+-----------+-----------+-----------+-----------+------------------+------------+-------+-----------+-----------+----------+--------+------+-----------+------------+--------------------+-----------+--------------+-------+------------------------+-----------+------------------+--------------------+---------------------+--------------+--------+--------------------+---------------------+---------------------+--------------+---------------+-----------+---------+---------+-------------+-------------+-------------------+--------+----------------+------------+------------------+------------------+--------------+----------------+--------------------+---------+---------------+-----------------+--------------+--------------------------+---------+------------------------+---------------------+---------------+-------+-------+-------+-------+-------+-------+-------+------------+------------+------------+------------+------------+------------+------------+------------+------------+------------+------------+------------+------------+------------+------------+------------+------------+------------+------------+------------+------------+------------+------------+------------+------------+------------+------------+------------+------------+------------+------------+------------+------------+------------+------------+------------------+-------------------+-----------------------+------------------+-------------------+----------------------------+-----------------------------------+--------------------------------+---------------+-------------+----------------------+--------------------------+-------------------+--------------+----------------+------------------------+-------------+-----------+----------------------+---------------+------------------------+-------------+-------------+-------------+-------------+-------------+-------------+-------------+-------------+-------------+-------------+-------------+-------------+-------------+-------------+-------------+-------------+-------------+-------------+-------------+-------------+-------------+-------------+-------------+-------------+-------------+-------------+-------------+-------------+-------------+-------------+-------------+-------------+-------------+-------------+-------------+-------------+-------------+-------------+-------------+-------------+-------------+-------------+-------------+-------------+-------------+-------------+-------------+-------------+-------------+-------------+---------------+----------+-------------------+--------------------+\n",
      "|loan_amnt|funded_amnt|funded_amnt_inv|int_rate|installment|annual_inc|  dti|delinq_2yrs|fico_range_high|inq_last_6mths|open_acc|pub_rec|revol_bal|revol_util|total_acc|last_fico_range_low|open_acc_6m|open_act_il|open_il_12m|open_il_24m|mths_since_rcnt_il|total_bal_il|il_util|open_rv_12m|open_rv_24m|max_bal_bc|all_util|inq_fi|total_cu_tl|inq_last_12m|acc_open_past_24mths|avg_cur_bal|bc_open_to_buy|bc_util|chargeoff_within_12_mths|delinq_amnt|mo_sin_old_il_acct|mo_sin_old_rev_tl_op|mo_sin_rcnt_rev_tl_op|mo_sin_rcnt_tl|mort_acc|mths_since_recent_bc|mths_since_recent_inq|num_accts_ever_120_pd|num_actv_bc_tl|num_actv_rev_tl|num_bc_sats|num_bc_tl|num_il_tl|num_op_rev_tl|num_rev_accts|num_rev_tl_bal_gt_0|num_sats|num_tl_120dpd_2m|num_tl_30dpd|num_tl_90g_dpd_24m|num_tl_op_past_12m|pct_tl_nvr_dlq|percent_bc_gt_75|pub_rec_bankruptcies|tax_liens|tot_hi_cred_lim|total_bal_ex_mort|total_bc_limit|total_il_high_credit_limit|termIndex|initial_list_statusIndex|application_typeIndex|pymnt_planIndex|grade_F|grade_E|grade_B|grade_D|grade_C|grade_A|grade_G|sub_grade_D5|sub_grade_F2|sub_grade_B4|sub_grade_A2|sub_grade_E4|sub_grade_B2|sub_grade_C3|sub_grade_D1|sub_grade_C4|sub_grade_F1|sub_grade_D3|sub_grade_F5|sub_grade_G2|sub_grade_B1|sub_grade_B3|sub_grade_E5|sub_grade_C5|sub_grade_G3|sub_grade_A4|sub_grade_F4|sub_grade_B5|sub_grade_E3|sub_grade_G4|sub_grade_D2|sub_grade_C1|sub_grade_F3|sub_grade_A5|sub_grade_E1|sub_grade_C2|sub_grade_D4|sub_grade_E2|sub_grade_A3|sub_grade_G5|sub_grade_G1|sub_grade_A1|home_ownership_OWN|home_ownership_RENT|home_ownership_MORTGAGE|home_ownership_ANY|home_ownership_NONE|verification_status_Verified|verification_status_Source Verified|verification_status_Not Verified|purpose_wedding|purpose_other|purpose_small_business|purpose_debt_consolidation|purpose_credit_card|purpose_moving|purpose_vacation|purpose_renewable_energy|purpose_house|purpose_car|purpose_major_purchase|purpose_medical|purpose_home_improvement|addr_state_SC|addr_state_AZ|addr_state_LA|addr_state_MN|addr_state_NJ|addr_state_DC|addr_state_OR|addr_state_VA|addr_state_RI|addr_state_KY|addr_state_WY|addr_state_NH|addr_state_MI|addr_state_NV|addr_state_WI|addr_state_ID|addr_state_CA|addr_state_NE|addr_state_CT|addr_state_MT|addr_state_NC|addr_state_VT|addr_state_MD|addr_state_DE|addr_state_MO|addr_state_IL|addr_state_ME|addr_state_WA|addr_state_ND|addr_state_MS|addr_state_AL|addr_state_IN|addr_state_OH|addr_state_TN|addr_state_NM|addr_state_PA|addr_state_SD|addr_state_NY|addr_state_TX|addr_state_WV|addr_state_GA|addr_state_MA|addr_state_KS|addr_state_FL|addr_state_CO|addr_state_AK|addr_state_AR|addr_state_OK|addr_state_UT|addr_state_HI|emp_lengthIndex|ClassLable|       weightColumn|            features|\n",
      "+---------+-----------+---------------+--------+-----------+----------+-----+-----------+---------------+--------------+--------+-------+---------+----------+---------+-------------------+-----------+-----------+-----------+-----------+------------------+------------+-------+-----------+-----------+----------+--------+------+-----------+------------+--------------------+-----------+--------------+-------+------------------------+-----------+------------------+--------------------+---------------------+--------------+--------+--------------------+---------------------+---------------------+--------------+---------------+-----------+---------+---------+-------------+-------------+-------------------+--------+----------------+------------+------------------+------------------+--------------+----------------+--------------------+---------+---------------+-----------------+--------------+--------------------------+---------+------------------------+---------------------+---------------+-------+-------+-------+-------+-------+-------+-------+------------+------------+------------+------------+------------+------------+------------+------------+------------+------------+------------+------------+------------+------------+------------+------------+------------+------------+------------+------------+------------+------------+------------+------------+------------+------------+------------+------------+------------+------------+------------+------------+------------+------------+------------+------------------+-------------------+-----------------------+------------------+-------------------+----------------------------+-----------------------------------+--------------------------------+---------------+-------------+----------------------+--------------------------+-------------------+--------------+----------------+------------------------+-------------+-----------+----------------------+---------------+------------------------+-------------+-------------+-------------+-------------+-------------+-------------+-------------+-------------+-------------+-------------+-------------+-------------+-------------+-------------+-------------+-------------+-------------+-------------+-------------+-------------+-------------+-------------+-------------+-------------+-------------+-------------+-------------+-------------+-------------+-------------+-------------+-------------+-------------+-------------+-------------+-------------+-------------+-------------+-------------+-------------+-------------+-------------+-------------+-------------+-------------+-------------+-------------+-------------+-------------+-------------+---------------+----------+-------------------+--------------------+\n",
      "|   3600.0|     3600.0|         3600.0|   13.99|     123.03|   55000.0| 5.91|        0.0|          679.0|           1.0|     7.0|    0.0|   2765.0|      29.7|     13.0|              560.0|        2.0|        2.0|        0.0|        1.0|              21.0|      4981.0|   36.0|        3.0|        3.0|     722.0|    34.0|   3.0|        1.0|         4.0|                 4.0|    20701.0|        1506.0|   37.2|                     0.0|        0.0|             148.0|               128.0|                  3.0|           3.0|     1.0|                 4.0|                  4.0|                  2.0|           2.0|            4.0|        2.0|      5.0|      3.0|          4.0|          9.0|                4.0|     7.0|             0.0|         0.0|               0.0|               3.0|          76.9|             0.0|                 0.0|      0.0|       178050.0|           7746.0|        2400.0|                   13734.0|      0.0|                     0.0|                  0.0|            0.0|      0|      0|      0|      0|      1|      0|      0|           0|           0|           0|           0|           0|           0|           0|           0|           1|           0|           0|           0|           0|           0|           0|           0|           0|           0|           0|           0|           0|           0|           0|           0|           0|           0|           0|           0|           0|           0|           0|           0|           0|           0|           0|                 0|                  0|                      1|                 0|                  0|                           0|                                  0|                               1|              0|            0|                     0|                         1|                  0|             0|               0|                       0|            0|          0|                     0|              0|                       0|            0|            0|            0|            0|            0|            0|            0|            0|            0|            0|            0|            0|            0|            0|            0|            0|            0|            0|            0|            0|            0|            0|            0|            0|            0|            0|            0|            0|            0|            0|            0|            0|            0|            0|            0|            1|            0|            0|            0|            0|            0|            0|            0|            0|            0|            0|            0|            0|            0|            0|             10|         0|0.21181359807550515|(184,[0,1,2,3,4,5...|\n",
      "|  24700.0|    24700.0|        24700.0|   11.99|     820.28|   65000.0|16.06|        1.0|          719.0|           4.0|    22.0|    0.0|  21470.0|      19.2|     38.0|              695.0|        1.0|        1.0|        0.0|        1.0|              19.0|     18005.0|   73.0|        2.0|        3.0|    6472.0|    29.0|   0.0|        0.0|         6.0|                 4.0|     9733.0|       57830.0|   27.1|                     0.0|        0.0|             113.0|               192.0|                  2.0|           2.0|     4.0|                 2.0|                  0.0|                  0.0|           5.0|            5.0|       13.0|     17.0|      6.0|         20.0|         27.0|                5.0|    22.0|             0.0|         0.0|               0.0|               2.0|          97.4|             7.7|                 0.0|      0.0|       314017.0|          39475.0|       79300.0|                   24667.0|      0.0|                     0.0|                  0.0|            0.0|      0|      0|      0|      0|      1|      0|      0|           0|           0|           0|           0|           0|           0|           0|           0|           0|           0|           0|           0|           0|           0|           0|           0|           0|           0|           0|           0|           0|           0|           0|           0|           1|           0|           0|           0|           0|           0|           0|           0|           0|           0|           0|                 0|                  0|                      1|                 0|                  0|                           0|                                  0|                               1|              0|            0|                     1|                         0|                  0|             0|               0|                       0|            0|          0|                     0|              0|                       0|            0|            0|            0|            0|            0|            0|            0|            0|            0|            0|            0|            0|            0|            0|            0|            0|            0|            0|            0|            0|            0|            0|            0|            0|            0|            0|            0|            0|            0|            0|            0|            0|            0|            0|            0|            0|            1|            0|            0|            0|            0|            0|            0|            0|            0|            0|            0|            0|            0|            0|             10|         0|0.21181359807550515|(184,[0,1,2,3,4,5...|\n",
      "|  20000.0|    20000.0|        20000.0|   10.78|     432.66|   63000.0|10.78|        0.0|          699.0|           0.0|     6.0|    0.0|   7869.0|      56.2|     18.0|              700.0|        0.0|        1.0|        0.0|        4.0|              19.0|     10827.0|   73.0|        0.0|        2.0|    2081.0|    65.0|   2.0|        5.0|         1.0|                 6.0|    31617.0|        2737.0|   55.9|                     0.0|        0.0|             125.0|               184.0|                 14.0|          14.0|     5.0|               101.0|                 10.0|                  0.0|           2.0|            3.0|        2.0|      4.0|      6.0|          4.0|          7.0|                3.0|     6.0|             0.0|         0.0|               0.0|               0.0|         100.0|            50.0|                 0.0|      0.0|       218418.0|          18696.0|        6200.0|                   14877.0|      1.0|                     0.0|                  1.0|            0.0|      0|      0|      1|      0|      0|      0|      0|           0|           0|           1|           0|           0|           0|           0|           0|           0|           0|           0|           0|           0|           0|           0|           0|           0|           0|           0|           0|           0|           0|           0|           0|           0|           0|           0|           0|           0|           0|           0|           0|           0|           0|           0|                 0|                  0|                      1|                 0|                  0|                           0|                                  0|                               1|              0|            0|                     0|                         0|                  0|             0|               0|                       0|            0|          0|                     0|              0|                       1|            0|            0|            0|            0|            0|            0|            0|            0|            0|            0|            0|            0|            0|            0|            0|            0|            0|            0|            0|            0|            0|            0|            0|            0|            0|            1|            0|            0|            0|            0|            0|            0|            0|            0|            0|            0|            0|            0|            0|            0|            0|            0|            0|            0|            0|            0|            0|            0|            0|            0|             10|         0|0.21181359807550515|(184,[0,1,2,3,4,5...|\n",
      "|  10400.0|    10400.0|        10400.0|   22.45|     289.91|  104433.0|25.37|        1.0|          699.0|           3.0|    12.0|    0.0|  21929.0|      64.5|     35.0|              700.0|        1.0|        3.0|        0.0|        3.0|              14.0|     73839.0|   84.0|        4.0|        7.0|    9702.0|    78.0|   2.0|        1.0|         3.0|                10.0|    27644.0|        4567.0|   77.5|                     0.0|        0.0|             128.0|               210.0|                  4.0|           4.0|     6.0|                 4.0|                  1.0|                  0.0|           4.0|            6.0|        5.0|      9.0|     10.0|          7.0|         19.0|                6.0|    12.0|             0.0|         0.0|               0.0|               4.0|          96.6|            60.0|                 0.0|      0.0|       439570.0|          95768.0|       20300.0|                   88097.0|      1.0|                     0.0|                  0.0|            0.0|      1|      0|      0|      0|      0|      0|      0|           0|           0|           0|           0|           0|           0|           0|           0|           0|           1|           0|           0|           0|           0|           0|           0|           0|           0|           0|           0|           0|           0|           0|           0|           0|           0|           0|           0|           0|           0|           0|           0|           0|           0|           0|                 0|                  0|                      1|                 0|                  0|                           0|                                  1|                               0|              0|            0|                     0|                         0|                  0|             0|               0|                       0|            0|          0|                     1|              0|                       0|            0|            0|            0|            0|            0|            0|            0|            0|            0|            0|            0|            0|            0|            0|            0|            0|            0|            0|            0|            0|            0|            0|            0|            0|            0|            0|            0|            0|            0|            0|            0|            0|            0|            0|            0|            1|            0|            0|            0|            0|            0|            0|            0|            0|            0|            0|            0|            0|            0|            0|              3|         0|0.21181359807550515|(184,[0,1,2,3,4,5...|\n",
      "|  20000.0|    20000.0|        20000.0|    9.17|     637.58|  180000.0|14.67|        0.0|          684.0|           0.0|    12.0|    0.0|  87329.0|      84.5|     27.0|              650.0|        0.0|        2.0|        0.0|        2.0|              18.0|     29433.0|   63.0|        2.0|        3.0|   13048.0|    74.0|   1.0|        0.0|         1.0|                 6.0|    30030.0|           0.0|  102.9|                     0.0|        0.0|             142.0|               306.0|                 10.0|          10.0|     4.0|                12.0|                 10.0|                  0.0|           4.0|            6.0|        4.0|      5.0|      7.0|          9.0|         16.0|                6.0|    12.0|             0.0|         0.0|               0.0|               2.0|          96.3|           100.0|                 0.0|      0.0|       388852.0|         116762.0|       31500.0|                   46452.0|      0.0|                     1.0|                  0.0|            0.0|      0|      0|      1|      0|      0|      0|      0|           0|           0|           0|           0|           0|           1|           0|           0|           0|           0|           0|           0|           0|           0|           0|           0|           0|           0|           0|           0|           0|           0|           0|           0|           0|           0|           0|           0|           0|           0|           0|           0|           0|           0|           0|                 0|                  0|                      1|                 0|                  0|                           0|                                  0|                               1|              0|            0|                     0|                         1|                  0|             0|               0|                       0|            0|          0|                     0|              0|                       0|            0|            0|            0|            1|            0|            0|            0|            0|            0|            0|            0|            0|            0|            0|            0|            0|            0|            0|            0|            0|            0|            0|            0|            0|            0|            0|            0|            0|            0|            0|            0|            0|            0|            0|            0|            0|            0|            0|            0|            0|            0|            0|            0|            0|            0|            0|            0|            0|            0|            0|             10|         0|0.21181359807550515|(184,[0,1,2,3,4,5...|\n",
      "+---------+-----------+---------------+--------+-----------+----------+-----+-----------+---------------+--------------+--------+-------+---------+----------+---------+-------------------+-----------+-----------+-----------+-----------+------------------+------------+-------+-----------+-----------+----------+--------+------+-----------+------------+--------------------+-----------+--------------+-------+------------------------+-----------+------------------+--------------------+---------------------+--------------+--------+--------------------+---------------------+---------------------+--------------+---------------+-----------+---------+---------+-------------+-------------+-------------------+--------+----------------+------------+------------------+------------------+--------------+----------------+--------------------+---------+---------------+-----------------+--------------+--------------------------+---------+------------------------+---------------------+---------------+-------+-------+-------+-------+-------+-------+-------+------------+------------+------------+------------+------------+------------+------------+------------+------------+------------+------------+------------+------------+------------+------------+------------+------------+------------+------------+------------+------------+------------+------------+------------+------------+------------+------------+------------+------------+------------+------------+------------+------------+------------+------------+------------------+-------------------+-----------------------+------------------+-------------------+----------------------------+-----------------------------------+--------------------------------+---------------+-------------+----------------------+--------------------------+-------------------+--------------+----------------+------------------------+-------------+-----------+----------------------+---------------+------------------------+-------------+-------------+-------------+-------------+-------------+-------------+-------------+-------------+-------------+-------------+-------------+-------------+-------------+-------------+-------------+-------------+-------------+-------------+-------------+-------------+-------------+-------------+-------------+-------------+-------------+-------------+-------------+-------------+-------------+-------------+-------------+-------------+-------------+-------------+-------------+-------------+-------------+-------------+-------------+-------------+-------------+-------------+-------------+-------------+-------------+-------------+-------------+-------------+-------------+-------------+---------------+----------+-------------------+--------------------+\n",
      "only showing top 5 rows\n",
      "\n"
     ]
    }
   ],
   "source": [
    "assembler = VectorAssembler(inputCols=[ *colList ], outputCol=\"features\")\n",
    "\n",
    "data_Trans = assembler.transform(data_2)\n",
    "\n",
    "data_Trans.show(5)"
   ]
  },
  {
   "cell_type": "markdown",
   "metadata": {},
   "source": [
    "### Creating LabelPoint, adding the class lable in transformed data"
   ]
  },
  {
   "cell_type": "code",
   "execution_count": 44,
   "metadata": {},
   "outputs": [
    {
     "name": "stdout",
     "output_type": "stream",
     "text": [
      "+---------+-----------+---------------+--------+-----------+----------+-----+-----------+---------------+--------------+--------+-------+---------+----------+---------+-------------------+-----------+-----------+-----------+-----------+------------------+------------+-------+-----------+-----------+----------+--------+------+-----------+------------+--------------------+-----------+--------------+-------+------------------------+-----------+------------------+--------------------+---------------------+--------------+--------+--------------------+---------------------+---------------------+--------------+---------------+-----------+---------+---------+-------------+-------------+-------------------+--------+----------------+------------+------------------+------------------+--------------+----------------+--------------------+---------+---------------+-----------------+--------------+--------------------------+---------+------------------------+---------------------+---------------+-------+-------+-------+-------+-------+-------+-------+------------+------------+------------+------------+------------+------------+------------+------------+------------+------------+------------+------------+------------+------------+------------+------------+------------+------------+------------+------------+------------+------------+------------+------------+------------+------------+------------+------------+------------+------------+------------+------------+------------+------------+------------+------------------+-------------------+-----------------------+------------------+-------------------+----------------------------+-----------------------------------+--------------------------------+---------------+-------------+----------------------+--------------------------+-------------------+--------------+----------------+------------------------+-------------+-----------+----------------------+---------------+------------------------+-------------+-------------+-------------+-------------+-------------+-------------+-------------+-------------+-------------+-------------+-------------+-------------+-------------+-------------+-------------+-------------+-------------+-------------+-------------+-------------+-------------+-------------+-------------+-------------+-------------+-------------+-------------+-------------+-------------+-------------+-------------+-------------+-------------+-------------+-------------+-------------+-------------+-------------+-------------+-------------+-------------+-------------+-------------+-------------+-------------+-------------+-------------+-------------+-------------+-------------+---------------+----------+-------------------+--------------------+-----+\n",
      "|loan_amnt|funded_amnt|funded_amnt_inv|int_rate|installment|annual_inc|  dti|delinq_2yrs|fico_range_high|inq_last_6mths|open_acc|pub_rec|revol_bal|revol_util|total_acc|last_fico_range_low|open_acc_6m|open_act_il|open_il_12m|open_il_24m|mths_since_rcnt_il|total_bal_il|il_util|open_rv_12m|open_rv_24m|max_bal_bc|all_util|inq_fi|total_cu_tl|inq_last_12m|acc_open_past_24mths|avg_cur_bal|bc_open_to_buy|bc_util|chargeoff_within_12_mths|delinq_amnt|mo_sin_old_il_acct|mo_sin_old_rev_tl_op|mo_sin_rcnt_rev_tl_op|mo_sin_rcnt_tl|mort_acc|mths_since_recent_bc|mths_since_recent_inq|num_accts_ever_120_pd|num_actv_bc_tl|num_actv_rev_tl|num_bc_sats|num_bc_tl|num_il_tl|num_op_rev_tl|num_rev_accts|num_rev_tl_bal_gt_0|num_sats|num_tl_120dpd_2m|num_tl_30dpd|num_tl_90g_dpd_24m|num_tl_op_past_12m|pct_tl_nvr_dlq|percent_bc_gt_75|pub_rec_bankruptcies|tax_liens|tot_hi_cred_lim|total_bal_ex_mort|total_bc_limit|total_il_high_credit_limit|termIndex|initial_list_statusIndex|application_typeIndex|pymnt_planIndex|grade_F|grade_E|grade_B|grade_D|grade_C|grade_A|grade_G|sub_grade_D5|sub_grade_F2|sub_grade_B4|sub_grade_A2|sub_grade_E4|sub_grade_B2|sub_grade_C3|sub_grade_D1|sub_grade_C4|sub_grade_F1|sub_grade_D3|sub_grade_F5|sub_grade_G2|sub_grade_B1|sub_grade_B3|sub_grade_E5|sub_grade_C5|sub_grade_G3|sub_grade_A4|sub_grade_F4|sub_grade_B5|sub_grade_E3|sub_grade_G4|sub_grade_D2|sub_grade_C1|sub_grade_F3|sub_grade_A5|sub_grade_E1|sub_grade_C2|sub_grade_D4|sub_grade_E2|sub_grade_A3|sub_grade_G5|sub_grade_G1|sub_grade_A1|home_ownership_OWN|home_ownership_RENT|home_ownership_MORTGAGE|home_ownership_ANY|home_ownership_NONE|verification_status_Verified|verification_status_Source Verified|verification_status_Not Verified|purpose_wedding|purpose_other|purpose_small_business|purpose_debt_consolidation|purpose_credit_card|purpose_moving|purpose_vacation|purpose_renewable_energy|purpose_house|purpose_car|purpose_major_purchase|purpose_medical|purpose_home_improvement|addr_state_SC|addr_state_AZ|addr_state_LA|addr_state_MN|addr_state_NJ|addr_state_DC|addr_state_OR|addr_state_VA|addr_state_RI|addr_state_KY|addr_state_WY|addr_state_NH|addr_state_MI|addr_state_NV|addr_state_WI|addr_state_ID|addr_state_CA|addr_state_NE|addr_state_CT|addr_state_MT|addr_state_NC|addr_state_VT|addr_state_MD|addr_state_DE|addr_state_MO|addr_state_IL|addr_state_ME|addr_state_WA|addr_state_ND|addr_state_MS|addr_state_AL|addr_state_IN|addr_state_OH|addr_state_TN|addr_state_NM|addr_state_PA|addr_state_SD|addr_state_NY|addr_state_TX|addr_state_WV|addr_state_GA|addr_state_MA|addr_state_KS|addr_state_FL|addr_state_CO|addr_state_AK|addr_state_AR|addr_state_OK|addr_state_UT|addr_state_HI|emp_lengthIndex|ClassLable|       weightColumn|            features|label|\n",
      "+---------+-----------+---------------+--------+-----------+----------+-----+-----------+---------------+--------------+--------+-------+---------+----------+---------+-------------------+-----------+-----------+-----------+-----------+------------------+------------+-------+-----------+-----------+----------+--------+------+-----------+------------+--------------------+-----------+--------------+-------+------------------------+-----------+------------------+--------------------+---------------------+--------------+--------+--------------------+---------------------+---------------------+--------------+---------------+-----------+---------+---------+-------------+-------------+-------------------+--------+----------------+------------+------------------+------------------+--------------+----------------+--------------------+---------+---------------+-----------------+--------------+--------------------------+---------+------------------------+---------------------+---------------+-------+-------+-------+-------+-------+-------+-------+------------+------------+------------+------------+------------+------------+------------+------------+------------+------------+------------+------------+------------+------------+------------+------------+------------+------------+------------+------------+------------+------------+------------+------------+------------+------------+------------+------------+------------+------------+------------+------------+------------+------------+------------+------------------+-------------------+-----------------------+------------------+-------------------+----------------------------+-----------------------------------+--------------------------------+---------------+-------------+----------------------+--------------------------+-------------------+--------------+----------------+------------------------+-------------+-----------+----------------------+---------------+------------------------+-------------+-------------+-------------+-------------+-------------+-------------+-------------+-------------+-------------+-------------+-------------+-------------+-------------+-------------+-------------+-------------+-------------+-------------+-------------+-------------+-------------+-------------+-------------+-------------+-------------+-------------+-------------+-------------+-------------+-------------+-------------+-------------+-------------+-------------+-------------+-------------+-------------+-------------+-------------+-------------+-------------+-------------+-------------+-------------+-------------+-------------+-------------+-------------+-------------+-------------+---------------+----------+-------------------+--------------------+-----+\n",
      "|   3600.0|     3600.0|         3600.0|   13.99|     123.03|   55000.0| 5.91|        0.0|          679.0|           1.0|     7.0|    0.0|   2765.0|      29.7|     13.0|              560.0|        2.0|        2.0|        0.0|        1.0|              21.0|      4981.0|   36.0|        3.0|        3.0|     722.0|    34.0|   3.0|        1.0|         4.0|                 4.0|    20701.0|        1506.0|   37.2|                     0.0|        0.0|             148.0|               128.0|                  3.0|           3.0|     1.0|                 4.0|                  4.0|                  2.0|           2.0|            4.0|        2.0|      5.0|      3.0|          4.0|          9.0|                4.0|     7.0|             0.0|         0.0|               0.0|               3.0|          76.9|             0.0|                 0.0|      0.0|       178050.0|           7746.0|        2400.0|                   13734.0|      0.0|                     0.0|                  0.0|            0.0|      0|      0|      0|      0|      1|      0|      0|           0|           0|           0|           0|           0|           0|           0|           0|           1|           0|           0|           0|           0|           0|           0|           0|           0|           0|           0|           0|           0|           0|           0|           0|           0|           0|           0|           0|           0|           0|           0|           0|           0|           0|           0|                 0|                  0|                      1|                 0|                  0|                           0|                                  0|                               1|              0|            0|                     0|                         1|                  0|             0|               0|                       0|            0|          0|                     0|              0|                       0|            0|            0|            0|            0|            0|            0|            0|            0|            0|            0|            0|            0|            0|            0|            0|            0|            0|            0|            0|            0|            0|            0|            0|            0|            0|            0|            0|            0|            0|            0|            0|            0|            0|            0|            0|            1|            0|            0|            0|            0|            0|            0|            0|            0|            0|            0|            0|            0|            0|            0|             10|         0|0.21181359807550515|(184,[0,1,2,3,4,5...|  0.0|\n",
      "|  24700.0|    24700.0|        24700.0|   11.99|     820.28|   65000.0|16.06|        1.0|          719.0|           4.0|    22.0|    0.0|  21470.0|      19.2|     38.0|              695.0|        1.0|        1.0|        0.0|        1.0|              19.0|     18005.0|   73.0|        2.0|        3.0|    6472.0|    29.0|   0.0|        0.0|         6.0|                 4.0|     9733.0|       57830.0|   27.1|                     0.0|        0.0|             113.0|               192.0|                  2.0|           2.0|     4.0|                 2.0|                  0.0|                  0.0|           5.0|            5.0|       13.0|     17.0|      6.0|         20.0|         27.0|                5.0|    22.0|             0.0|         0.0|               0.0|               2.0|          97.4|             7.7|                 0.0|      0.0|       314017.0|          39475.0|       79300.0|                   24667.0|      0.0|                     0.0|                  0.0|            0.0|      0|      0|      0|      0|      1|      0|      0|           0|           0|           0|           0|           0|           0|           0|           0|           0|           0|           0|           0|           0|           0|           0|           0|           0|           0|           0|           0|           0|           0|           0|           0|           1|           0|           0|           0|           0|           0|           0|           0|           0|           0|           0|                 0|                  0|                      1|                 0|                  0|                           0|                                  0|                               1|              0|            0|                     1|                         0|                  0|             0|               0|                       0|            0|          0|                     0|              0|                       0|            0|            0|            0|            0|            0|            0|            0|            0|            0|            0|            0|            0|            0|            0|            0|            0|            0|            0|            0|            0|            0|            0|            0|            0|            0|            0|            0|            0|            0|            0|            0|            0|            0|            0|            0|            0|            1|            0|            0|            0|            0|            0|            0|            0|            0|            0|            0|            0|            0|            0|             10|         0|0.21181359807550515|(184,[0,1,2,3,4,5...|  0.0|\n",
      "|  20000.0|    20000.0|        20000.0|   10.78|     432.66|   63000.0|10.78|        0.0|          699.0|           0.0|     6.0|    0.0|   7869.0|      56.2|     18.0|              700.0|        0.0|        1.0|        0.0|        4.0|              19.0|     10827.0|   73.0|        0.0|        2.0|    2081.0|    65.0|   2.0|        5.0|         1.0|                 6.0|    31617.0|        2737.0|   55.9|                     0.0|        0.0|             125.0|               184.0|                 14.0|          14.0|     5.0|               101.0|                 10.0|                  0.0|           2.0|            3.0|        2.0|      4.0|      6.0|          4.0|          7.0|                3.0|     6.0|             0.0|         0.0|               0.0|               0.0|         100.0|            50.0|                 0.0|      0.0|       218418.0|          18696.0|        6200.0|                   14877.0|      1.0|                     0.0|                  1.0|            0.0|      0|      0|      1|      0|      0|      0|      0|           0|           0|           1|           0|           0|           0|           0|           0|           0|           0|           0|           0|           0|           0|           0|           0|           0|           0|           0|           0|           0|           0|           0|           0|           0|           0|           0|           0|           0|           0|           0|           0|           0|           0|           0|                 0|                  0|                      1|                 0|                  0|                           0|                                  0|                               1|              0|            0|                     0|                         0|                  0|             0|               0|                       0|            0|          0|                     0|              0|                       1|            0|            0|            0|            0|            0|            0|            0|            0|            0|            0|            0|            0|            0|            0|            0|            0|            0|            0|            0|            0|            0|            0|            0|            0|            0|            1|            0|            0|            0|            0|            0|            0|            0|            0|            0|            0|            0|            0|            0|            0|            0|            0|            0|            0|            0|            0|            0|            0|            0|            0|             10|         0|0.21181359807550515|(184,[0,1,2,3,4,5...|  0.0|\n",
      "|  10400.0|    10400.0|        10400.0|   22.45|     289.91|  104433.0|25.37|        1.0|          699.0|           3.0|    12.0|    0.0|  21929.0|      64.5|     35.0|              700.0|        1.0|        3.0|        0.0|        3.0|              14.0|     73839.0|   84.0|        4.0|        7.0|    9702.0|    78.0|   2.0|        1.0|         3.0|                10.0|    27644.0|        4567.0|   77.5|                     0.0|        0.0|             128.0|               210.0|                  4.0|           4.0|     6.0|                 4.0|                  1.0|                  0.0|           4.0|            6.0|        5.0|      9.0|     10.0|          7.0|         19.0|                6.0|    12.0|             0.0|         0.0|               0.0|               4.0|          96.6|            60.0|                 0.0|      0.0|       439570.0|          95768.0|       20300.0|                   88097.0|      1.0|                     0.0|                  0.0|            0.0|      1|      0|      0|      0|      0|      0|      0|           0|           0|           0|           0|           0|           0|           0|           0|           0|           1|           0|           0|           0|           0|           0|           0|           0|           0|           0|           0|           0|           0|           0|           0|           0|           0|           0|           0|           0|           0|           0|           0|           0|           0|           0|                 0|                  0|                      1|                 0|                  0|                           0|                                  1|                               0|              0|            0|                     0|                         0|                  0|             0|               0|                       0|            0|          0|                     1|              0|                       0|            0|            0|            0|            0|            0|            0|            0|            0|            0|            0|            0|            0|            0|            0|            0|            0|            0|            0|            0|            0|            0|            0|            0|            0|            0|            0|            0|            0|            0|            0|            0|            0|            0|            0|            0|            1|            0|            0|            0|            0|            0|            0|            0|            0|            0|            0|            0|            0|            0|            0|              3|         0|0.21181359807550515|(184,[0,1,2,3,4,5...|  0.0|\n",
      "|  20000.0|    20000.0|        20000.0|    9.17|     637.58|  180000.0|14.67|        0.0|          684.0|           0.0|    12.0|    0.0|  87329.0|      84.5|     27.0|              650.0|        0.0|        2.0|        0.0|        2.0|              18.0|     29433.0|   63.0|        2.0|        3.0|   13048.0|    74.0|   1.0|        0.0|         1.0|                 6.0|    30030.0|           0.0|  102.9|                     0.0|        0.0|             142.0|               306.0|                 10.0|          10.0|     4.0|                12.0|                 10.0|                  0.0|           4.0|            6.0|        4.0|      5.0|      7.0|          9.0|         16.0|                6.0|    12.0|             0.0|         0.0|               0.0|               2.0|          96.3|           100.0|                 0.0|      0.0|       388852.0|         116762.0|       31500.0|                   46452.0|      0.0|                     1.0|                  0.0|            0.0|      0|      0|      1|      0|      0|      0|      0|           0|           0|           0|           0|           0|           1|           0|           0|           0|           0|           0|           0|           0|           0|           0|           0|           0|           0|           0|           0|           0|           0|           0|           0|           0|           0|           0|           0|           0|           0|           0|           0|           0|           0|           0|                 0|                  0|                      1|                 0|                  0|                           0|                                  0|                               1|              0|            0|                     0|                         1|                  0|             0|               0|                       0|            0|          0|                     0|              0|                       0|            0|            0|            0|            1|            0|            0|            0|            0|            0|            0|            0|            0|            0|            0|            0|            0|            0|            0|            0|            0|            0|            0|            0|            0|            0|            0|            0|            0|            0|            0|            0|            0|            0|            0|            0|            0|            0|            0|            0|            0|            0|            0|            0|            0|            0|            0|            0|            0|            0|            0|             10|         0|0.21181359807550515|(184,[0,1,2,3,4,5...|  0.0|\n",
      "+---------+-----------+---------------+--------+-----------+----------+-----+-----------+---------------+--------------+--------+-------+---------+----------+---------+-------------------+-----------+-----------+-----------+-----------+------------------+------------+-------+-----------+-----------+----------+--------+------+-----------+------------+--------------------+-----------+--------------+-------+------------------------+-----------+------------------+--------------------+---------------------+--------------+--------+--------------------+---------------------+---------------------+--------------+---------------+-----------+---------+---------+-------------+-------------+-------------------+--------+----------------+------------+------------------+------------------+--------------+----------------+--------------------+---------+---------------+-----------------+--------------+--------------------------+---------+------------------------+---------------------+---------------+-------+-------+-------+-------+-------+-------+-------+------------+------------+------------+------------+------------+------------+------------+------------+------------+------------+------------+------------+------------+------------+------------+------------+------------+------------+------------+------------+------------+------------+------------+------------+------------+------------+------------+------------+------------+------------+------------+------------+------------+------------+------------+------------------+-------------------+-----------------------+------------------+-------------------+----------------------------+-----------------------------------+--------------------------------+---------------+-------------+----------------------+--------------------------+-------------------+--------------+----------------+------------------------+-------------+-----------+----------------------+---------------+------------------------+-------------+-------------+-------------+-------------+-------------+-------------+-------------+-------------+-------------+-------------+-------------+-------------+-------------+-------------+-------------+-------------+-------------+-------------+-------------+-------------+-------------+-------------+-------------+-------------+-------------+-------------+-------------+-------------+-------------+-------------+-------------+-------------+-------------+-------------+-------------+-------------+-------------+-------------+-------------+-------------+-------------+-------------+-------------+-------------+-------------+-------------+-------------+-------------+-------------+-------------+---------------+----------+-------------------+--------------------+-----+\n",
      "only showing top 5 rows\n",
      "\n"
     ]
    }
   ],
   "source": [
    "labelIndexer = StringIndexer(inputCol=\"ClassLable\", outputCol=\"label\", handleInvalid=\"keep\")\n",
    "data_Trans2 = labelIndexer.fit(data_Trans).transform(data_Trans)\n",
    "\n",
    "data_Trans2.show(5)"
   ]
  },
  {
   "cell_type": "markdown",
   "metadata": {},
   "source": [
    "### Train/Test split based on the hardcoded seed value (70 : 30)"
   ]
  },
  {
   "cell_type": "code",
   "execution_count": 45,
   "metadata": {},
   "outputs": [
    {
     "data": {
      "text/plain": [
       "DataFrame[loan_amnt: double, funded_amnt: double, funded_amnt_inv: double, int_rate: double, installment: double, annual_inc: double, dti: double, delinq_2yrs: double, fico_range_high: double, inq_last_6mths: double, open_acc: double, pub_rec: double, revol_bal: double, revol_util: double, total_acc: double, last_fico_range_low: double, open_acc_6m: double, open_act_il: double, open_il_12m: double, open_il_24m: double, mths_since_rcnt_il: double, total_bal_il: double, il_util: double, open_rv_12m: double, open_rv_24m: double, max_bal_bc: double, all_util: double, inq_fi: double, total_cu_tl: double, inq_last_12m: double, acc_open_past_24mths: double, avg_cur_bal: double, bc_open_to_buy: double, bc_util: double, chargeoff_within_12_mths: double, delinq_amnt: double, mo_sin_old_il_acct: double, mo_sin_old_rev_tl_op: double, mo_sin_rcnt_rev_tl_op: double, mo_sin_rcnt_tl: double, mort_acc: double, mths_since_recent_bc: double, mths_since_recent_inq: double, num_accts_ever_120_pd: double, num_actv_bc_tl: double, num_actv_rev_tl: double, num_bc_sats: double, num_bc_tl: double, num_il_tl: double, num_op_rev_tl: double, num_rev_accts: double, num_rev_tl_bal_gt_0: double, num_sats: double, num_tl_120dpd_2m: double, num_tl_30dpd: double, num_tl_90g_dpd_24m: double, num_tl_op_past_12m: double, pct_tl_nvr_dlq: double, percent_bc_gt_75: double, pub_rec_bankruptcies: double, tax_liens: double, tot_hi_cred_lim: double, total_bal_ex_mort: double, total_bc_limit: double, total_il_high_credit_limit: double, termIndex: double, initial_list_statusIndex: double, application_typeIndex: double, pymnt_planIndex: double, grade_F: int, grade_E: int, grade_B: int, grade_D: int, grade_C: int, grade_A: int, grade_G: int, sub_grade_D5: int, sub_grade_F2: int, sub_grade_B4: int, sub_grade_A2: int, sub_grade_E4: int, sub_grade_B2: int, sub_grade_C3: int, sub_grade_D1: int, sub_grade_C4: int, sub_grade_F1: int, sub_grade_D3: int, sub_grade_F5: int, sub_grade_G2: int, sub_grade_B1: int, sub_grade_B3: int, sub_grade_E5: int, sub_grade_C5: int, sub_grade_G3: int, sub_grade_A4: int, sub_grade_F4: int, sub_grade_B5: int, sub_grade_E3: int, sub_grade_G4: int, sub_grade_D2: int, sub_grade_C1: int, sub_grade_F3: int, sub_grade_A5: int, sub_grade_E1: int, sub_grade_C2: int, sub_grade_D4: int, sub_grade_E2: int, sub_grade_A3: int, sub_grade_G5: int, sub_grade_G1: int, sub_grade_A1: int, home_ownership_OWN: int, home_ownership_RENT: int, home_ownership_MORTGAGE: int, home_ownership_ANY: int, home_ownership_NONE: int, verification_status_Verified: int, verification_status_Source Verified: int, verification_status_Not Verified: int, purpose_wedding: int, purpose_other: int, purpose_small_business: int, purpose_debt_consolidation: int, purpose_credit_card: int, purpose_moving: int, purpose_vacation: int, purpose_renewable_energy: int, purpose_house: int, purpose_car: int, purpose_major_purchase: int, purpose_medical: int, purpose_home_improvement: int, addr_state_SC: int, addr_state_AZ: int, addr_state_LA: int, addr_state_MN: int, addr_state_NJ: int, addr_state_DC: int, addr_state_OR: int, addr_state_VA: int, addr_state_RI: int, addr_state_KY: int, addr_state_WY: int, addr_state_NH: int, addr_state_MI: int, addr_state_NV: int, addr_state_WI: int, addr_state_ID: int, addr_state_CA: int, addr_state_NE: int, addr_state_CT: int, addr_state_MT: int, addr_state_NC: int, addr_state_VT: int, addr_state_MD: int, addr_state_DE: int, addr_state_MO: int, addr_state_IL: int, addr_state_ME: int, addr_state_WA: int, addr_state_ND: int, addr_state_MS: int, addr_state_AL: int, addr_state_IN: int, addr_state_OH: int, addr_state_TN: int, addr_state_NM: int, addr_state_PA: int, addr_state_SD: int, addr_state_NY: int, addr_state_TX: int, addr_state_WV: int, addr_state_GA: int, addr_state_MA: int, addr_state_KS: int, addr_state_FL: int, addr_state_CO: int, addr_state_AK: int, addr_state_AR: int, addr_state_OK: int, addr_state_UT: int, addr_state_HI: int, emp_lengthIndex: int, ClassLable: int, weightColumn: double, features: vector, label: double]"
      ]
     },
     "execution_count": 45,
     "metadata": {},
     "output_type": "execute_result"
    }
   ],
   "source": [
    "# Creating Training and Test set (70% , 30%)\n",
    "(trainingSetDF, testSetDF) = data_Trans2.randomSplit([0.7, 0.3], 1395)\n",
    "\n",
    "trainingSetDF.cache()\n",
    "testSetDF.cache()"
   ]
  },
  {
   "cell_type": "code",
   "execution_count": 46,
   "metadata": {},
   "outputs": [
    {
     "data": {
      "text/plain": [
       "(282243, 187)"
      ]
     },
     "execution_count": 46,
     "metadata": {},
     "output_type": "execute_result"
    }
   ],
   "source": [
    "trainingSetDF.count(), len(trainingSetDF.columns)"
   ]
  },
  {
   "cell_type": "code",
   "execution_count": 47,
   "metadata": {},
   "outputs": [
    {
     "name": "stdout",
     "output_type": "stream",
     "text": [
      "+---------+-----------+---------------+--------+-----------+----------+-----+-----------+---------------+--------------+--------+-------+---------+----------+---------+-------------------+-----------+-----------+-----------+-----------+------------------+------------+-------+-----------+-----------+----------+--------+------+-----------+------------+--------------------+-----------+--------------+-------+------------------------+-----------+------------------+--------------------+---------------------+--------------+--------+--------------------+---------------------+---------------------+--------------+---------------+-----------+---------+---------+-------------+-------------+-------------------+--------+----------------+------------+------------------+------------------+--------------+----------------+--------------------+---------+---------------+-----------------+--------------+--------------------------+---------+------------------------+---------------------+---------------+-------+-------+-------+-------+-------+-------+-------+------------+------------+------------+------------+------------+------------+------------+------------+------------+------------+------------+------------+------------+------------+------------+------------+------------+------------+------------+------------+------------+------------+------------+------------+------------+------------+------------+------------+------------+------------+------------+------------+------------+------------+------------+------------------+-------------------+-----------------------+------------------+-------------------+----------------------------+-----------------------------------+--------------------------------+---------------+-------------+----------------------+--------------------------+-------------------+--------------+----------------+------------------------+-------------+-----------+----------------------+---------------+------------------------+-------------+-------------+-------------+-------------+-------------+-------------+-------------+-------------+-------------+-------------+-------------+-------------+-------------+-------------+-------------+-------------+-------------+-------------+-------------+-------------+-------------+-------------+-------------+-------------+-------------+-------------+-------------+-------------+-------------+-------------+-------------+-------------+-------------+-------------+-------------+-------------+-------------+-------------+-------------+-------------+-------------+-------------+-------------+-------------+-------------+-------------+-------------+-------------+-------------+-------------+---------------+----------+-------------------+\n",
      "|loan_amnt|funded_amnt|funded_amnt_inv|int_rate|installment|annual_inc|  dti|delinq_2yrs|fico_range_high|inq_last_6mths|open_acc|pub_rec|revol_bal|revol_util|total_acc|last_fico_range_low|open_acc_6m|open_act_il|open_il_12m|open_il_24m|mths_since_rcnt_il|total_bal_il|il_util|open_rv_12m|open_rv_24m|max_bal_bc|all_util|inq_fi|total_cu_tl|inq_last_12m|acc_open_past_24mths|avg_cur_bal|bc_open_to_buy|bc_util|chargeoff_within_12_mths|delinq_amnt|mo_sin_old_il_acct|mo_sin_old_rev_tl_op|mo_sin_rcnt_rev_tl_op|mo_sin_rcnt_tl|mort_acc|mths_since_recent_bc|mths_since_recent_inq|num_accts_ever_120_pd|num_actv_bc_tl|num_actv_rev_tl|num_bc_sats|num_bc_tl|num_il_tl|num_op_rev_tl|num_rev_accts|num_rev_tl_bal_gt_0|num_sats|num_tl_120dpd_2m|num_tl_30dpd|num_tl_90g_dpd_24m|num_tl_op_past_12m|pct_tl_nvr_dlq|percent_bc_gt_75|pub_rec_bankruptcies|tax_liens|tot_hi_cred_lim|total_bal_ex_mort|total_bc_limit|total_il_high_credit_limit|termIndex|initial_list_statusIndex|application_typeIndex|pymnt_planIndex|grade_F|grade_E|grade_B|grade_D|grade_C|grade_A|grade_G|sub_grade_D5|sub_grade_F2|sub_grade_B4|sub_grade_A2|sub_grade_E4|sub_grade_B2|sub_grade_C3|sub_grade_D1|sub_grade_C4|sub_grade_F1|sub_grade_D3|sub_grade_F5|sub_grade_G2|sub_grade_B1|sub_grade_B3|sub_grade_E5|sub_grade_C5|sub_grade_G3|sub_grade_A4|sub_grade_F4|sub_grade_B5|sub_grade_E3|sub_grade_G4|sub_grade_D2|sub_grade_C1|sub_grade_F3|sub_grade_A5|sub_grade_E1|sub_grade_C2|sub_grade_D4|sub_grade_E2|sub_grade_A3|sub_grade_G5|sub_grade_G1|sub_grade_A1|home_ownership_OWN|home_ownership_RENT|home_ownership_MORTGAGE|home_ownership_ANY|home_ownership_NONE|verification_status_Verified|verification_status_Source Verified|verification_status_Not Verified|purpose_wedding|purpose_other|purpose_small_business|purpose_debt_consolidation|purpose_credit_card|purpose_moving|purpose_vacation|purpose_renewable_energy|purpose_house|purpose_car|purpose_major_purchase|purpose_medical|purpose_home_improvement|addr_state_SC|addr_state_AZ|addr_state_LA|addr_state_MN|addr_state_NJ|addr_state_DC|addr_state_OR|addr_state_VA|addr_state_RI|addr_state_KY|addr_state_WY|addr_state_NH|addr_state_MI|addr_state_NV|addr_state_WI|addr_state_ID|addr_state_CA|addr_state_NE|addr_state_CT|addr_state_MT|addr_state_NC|addr_state_VT|addr_state_MD|addr_state_DE|addr_state_MO|addr_state_IL|addr_state_ME|addr_state_WA|addr_state_ND|addr_state_MS|addr_state_AL|addr_state_IN|addr_state_OH|addr_state_TN|addr_state_NM|addr_state_PA|addr_state_SD|addr_state_NY|addr_state_TX|addr_state_WV|addr_state_GA|addr_state_MA|addr_state_KS|addr_state_FL|addr_state_CO|addr_state_AK|addr_state_AR|addr_state_OK|addr_state_UT|addr_state_HI|emp_lengthIndex|ClassLable|       weightColumn|\n",
      "+---------+-----------+---------------+--------+-----------+----------+-----+-----------+---------------+--------------+--------+-------+---------+----------+---------+-------------------+-----------+-----------+-----------+-----------+------------------+------------+-------+-----------+-----------+----------+--------+------+-----------+------------+--------------------+-----------+--------------+-------+------------------------+-----------+------------------+--------------------+---------------------+--------------+--------+--------------------+---------------------+---------------------+--------------+---------------+-----------+---------+---------+-------------+-------------+-------------------+--------+----------------+------------+------------------+------------------+--------------+----------------+--------------------+---------+---------------+-----------------+--------------+--------------------------+---------+------------------------+---------------------+---------------+-------+-------+-------+-------+-------+-------+-------+------------+------------+------------+------------+------------+------------+------------+------------+------------+------------+------------+------------+------------+------------+------------+------------+------------+------------+------------+------------+------------+------------+------------+------------+------------+------------+------------+------------+------------+------------+------------+------------+------------+------------+------------+------------------+-------------------+-----------------------+------------------+-------------------+----------------------------+-----------------------------------+--------------------------------+---------------+-------------+----------------------+--------------------------+-------------------+--------------+----------------+------------------------+-------------+-----------+----------------------+---------------+------------------------+-------------+-------------+-------------+-------------+-------------+-------------+-------------+-------------+-------------+-------------+-------------+-------------+-------------+-------------+-------------+-------------+-------------+-------------+-------------+-------------+-------------+-------------+-------------+-------------+-------------+-------------+-------------+-------------+-------------+-------------+-------------+-------------+-------------+-------------+-------------+-------------+-------------+-------------+-------------+-------------+-------------+-------------+-------------+-------------+-------------+-------------+-------------+-------------+-------------+-------------+---------------+----------+-------------------+\n",
      "|   3600.0|     3600.0|         3600.0|   13.99|     123.03|   55000.0| 5.91|        0.0|          679.0|           1.0|     7.0|    0.0|   2765.0|      29.7|     13.0|              560.0|        2.0|        2.0|        0.0|        1.0|              21.0|      4981.0|   36.0|        3.0|        3.0|     722.0|    34.0|   3.0|        1.0|         4.0|                 4.0|    20701.0|        1506.0|   37.2|                     0.0|        0.0|             148.0|               128.0|                  3.0|           3.0|     1.0|                 4.0|                  4.0|                  2.0|           2.0|            4.0|        2.0|      5.0|      3.0|          4.0|          9.0|                4.0|     7.0|             0.0|         0.0|               0.0|               3.0|          76.9|             0.0|                 0.0|      0.0|       178050.0|           7746.0|        2400.0|                   13734.0|      0.0|                     0.0|                  0.0|            0.0|      0|      0|      0|      0|      1|      0|      0|           0|           0|           0|           0|           0|           0|           0|           0|           1|           0|           0|           0|           0|           0|           0|           0|           0|           0|           0|           0|           0|           0|           0|           0|           0|           0|           0|           0|           0|           0|           0|           0|           0|           0|           0|                 0|                  0|                      1|                 0|                  0|                           0|                                  0|                               1|              0|            0|                     0|                         1|                  0|             0|               0|                       0|            0|          0|                     0|              0|                       0|            0|            0|            0|            0|            0|            0|            0|            0|            0|            0|            0|            0|            0|            0|            0|            0|            0|            0|            0|            0|            0|            0|            0|            0|            0|            0|            0|            0|            0|            0|            0|            0|            0|            0|            0|            1|            0|            0|            0|            0|            0|            0|            0|            0|            0|            0|            0|            0|            0|            0|             10|         0|0.21181359807550515|\n",
      "|  24700.0|    24700.0|        24700.0|   11.99|     820.28|   65000.0|16.06|        1.0|          719.0|           4.0|    22.0|    0.0|  21470.0|      19.2|     38.0|              695.0|        1.0|        1.0|        0.0|        1.0|              19.0|     18005.0|   73.0|        2.0|        3.0|    6472.0|    29.0|   0.0|        0.0|         6.0|                 4.0|     9733.0|       57830.0|   27.1|                     0.0|        0.0|             113.0|               192.0|                  2.0|           2.0|     4.0|                 2.0|                  0.0|                  0.0|           5.0|            5.0|       13.0|     17.0|      6.0|         20.0|         27.0|                5.0|    22.0|             0.0|         0.0|               0.0|               2.0|          97.4|             7.7|                 0.0|      0.0|       314017.0|          39475.0|       79300.0|                   24667.0|      0.0|                     0.0|                  0.0|            0.0|      0|      0|      0|      0|      1|      0|      0|           0|           0|           0|           0|           0|           0|           0|           0|           0|           0|           0|           0|           0|           0|           0|           0|           0|           0|           0|           0|           0|           0|           0|           0|           1|           0|           0|           0|           0|           0|           0|           0|           0|           0|           0|                 0|                  0|                      1|                 0|                  0|                           0|                                  0|                               1|              0|            0|                     1|                         0|                  0|             0|               0|                       0|            0|          0|                     0|              0|                       0|            0|            0|            0|            0|            0|            0|            0|            0|            0|            0|            0|            0|            0|            0|            0|            0|            0|            0|            0|            0|            0|            0|            0|            0|            0|            0|            0|            0|            0|            0|            0|            0|            0|            0|            0|            0|            1|            0|            0|            0|            0|            0|            0|            0|            0|            0|            0|            0|            0|            0|             10|         0|0.21181359807550515|\n",
      "|  20000.0|    20000.0|        20000.0|   10.78|     432.66|   63000.0|10.78|        0.0|          699.0|           0.0|     6.0|    0.0|   7869.0|      56.2|     18.0|              700.0|        0.0|        1.0|        0.0|        4.0|              19.0|     10827.0|   73.0|        0.0|        2.0|    2081.0|    65.0|   2.0|        5.0|         1.0|                 6.0|    31617.0|        2737.0|   55.9|                     0.0|        0.0|             125.0|               184.0|                 14.0|          14.0|     5.0|               101.0|                 10.0|                  0.0|           2.0|            3.0|        2.0|      4.0|      6.0|          4.0|          7.0|                3.0|     6.0|             0.0|         0.0|               0.0|               0.0|         100.0|            50.0|                 0.0|      0.0|       218418.0|          18696.0|        6200.0|                   14877.0|      1.0|                     0.0|                  1.0|            0.0|      0|      0|      1|      0|      0|      0|      0|           0|           0|           1|           0|           0|           0|           0|           0|           0|           0|           0|           0|           0|           0|           0|           0|           0|           0|           0|           0|           0|           0|           0|           0|           0|           0|           0|           0|           0|           0|           0|           0|           0|           0|           0|                 0|                  0|                      1|                 0|                  0|                           0|                                  0|                               1|              0|            0|                     0|                         0|                  0|             0|               0|                       0|            0|          0|                     0|              0|                       1|            0|            0|            0|            0|            0|            0|            0|            0|            0|            0|            0|            0|            0|            0|            0|            0|            0|            0|            0|            0|            0|            0|            0|            0|            0|            1|            0|            0|            0|            0|            0|            0|            0|            0|            0|            0|            0|            0|            0|            0|            0|            0|            0|            0|            0|            0|            0|            0|            0|            0|             10|         0|0.21181359807550515|\n",
      "|  10400.0|    10400.0|        10400.0|   22.45|     289.91|  104433.0|25.37|        1.0|          699.0|           3.0|    12.0|    0.0|  21929.0|      64.5|     35.0|              700.0|        1.0|        3.0|        0.0|        3.0|              14.0|     73839.0|   84.0|        4.0|        7.0|    9702.0|    78.0|   2.0|        1.0|         3.0|                10.0|    27644.0|        4567.0|   77.5|                     0.0|        0.0|             128.0|               210.0|                  4.0|           4.0|     6.0|                 4.0|                  1.0|                  0.0|           4.0|            6.0|        5.0|      9.0|     10.0|          7.0|         19.0|                6.0|    12.0|             0.0|         0.0|               0.0|               4.0|          96.6|            60.0|                 0.0|      0.0|       439570.0|          95768.0|       20300.0|                   88097.0|      1.0|                     0.0|                  0.0|            0.0|      1|      0|      0|      0|      0|      0|      0|           0|           0|           0|           0|           0|           0|           0|           0|           0|           1|           0|           0|           0|           0|           0|           0|           0|           0|           0|           0|           0|           0|           0|           0|           0|           0|           0|           0|           0|           0|           0|           0|           0|           0|           0|                 0|                  0|                      1|                 0|                  0|                           0|                                  1|                               0|              0|            0|                     0|                         0|                  0|             0|               0|                       0|            0|          0|                     1|              0|                       0|            0|            0|            0|            0|            0|            0|            0|            0|            0|            0|            0|            0|            0|            0|            0|            0|            0|            0|            0|            0|            0|            0|            0|            0|            0|            0|            0|            0|            0|            0|            0|            0|            0|            0|            0|            1|            0|            0|            0|            0|            0|            0|            0|            0|            0|            0|            0|            0|            0|            0|              3|         0|0.21181359807550515|\n",
      "|  20000.0|    20000.0|        20000.0|    9.17|     637.58|  180000.0|14.67|        0.0|          684.0|           0.0|    12.0|    0.0|  87329.0|      84.5|     27.0|              650.0|        0.0|        2.0|        0.0|        2.0|              18.0|     29433.0|   63.0|        2.0|        3.0|   13048.0|    74.0|   1.0|        0.0|         1.0|                 6.0|    30030.0|           0.0|  102.9|                     0.0|        0.0|             142.0|               306.0|                 10.0|          10.0|     4.0|                12.0|                 10.0|                  0.0|           4.0|            6.0|        4.0|      5.0|      7.0|          9.0|         16.0|                6.0|    12.0|             0.0|         0.0|               0.0|               2.0|          96.3|           100.0|                 0.0|      0.0|       388852.0|         116762.0|       31500.0|                   46452.0|      0.0|                     1.0|                  0.0|            0.0|      0|      0|      1|      0|      0|      0|      0|           0|           0|           0|           0|           0|           1|           0|           0|           0|           0|           0|           0|           0|           0|           0|           0|           0|           0|           0|           0|           0|           0|           0|           0|           0|           0|           0|           0|           0|           0|           0|           0|           0|           0|           0|                 0|                  0|                      1|                 0|                  0|                           0|                                  0|                               1|              0|            0|                     0|                         1|                  0|             0|               0|                       0|            0|          0|                     0|              0|                       0|            0|            0|            0|            1|            0|            0|            0|            0|            0|            0|            0|            0|            0|            0|            0|            0|            0|            0|            0|            0|            0|            0|            0|            0|            0|            0|            0|            0|            0|            0|            0|            0|            0|            0|            0|            0|            0|            0|            0|            0|            0|            0|            0|            0|            0|            0|            0|            0|            0|            0|             10|         0|0.21181359807550515|\n",
      "|  20000.0|    20000.0|        20000.0|    8.49|     631.26|   85000.0|17.61|        1.0|          709.0|           0.0|     8.0|    0.0|    826.0|       5.7|     15.0|              670.0|        0.0|        3.0|        0.0|        4.0|              13.0|     27111.0|   75.0|        0.0|        0.0|     640.0|    55.0|   1.0|        0.0|         2.0|                 4.0|    17700.0|       13674.0|    5.7|                     0.0|        0.0|             149.0|                55.0|                 32.0|          13.0|     3.0|                32.0|                  8.0|                  1.0|           2.0|            2.0|        3.0|      3.0|      9.0|          3.0|          3.0|                2.0|     8.0|             0.0|         0.0|               1.0|               0.0|          93.3|             0.0|                 0.0|      0.0|       193390.0|          27937.0|       14500.0|                   36144.0|      0.0|                     0.0|                  0.0|            0.0|      0|      0|      1|      0|      0|      0|      0|           0|           0|           0|           0|           0|           0|           0|           0|           0|           0|           0|           0|           0|           1|           0|           0|           0|           0|           0|           0|           0|           0|           0|           0|           0|           0|           0|           0|           0|           0|           0|           0|           0|           0|           0|                 0|                  0|                      1|                 0|                  0|                           0|                                  0|                               1|              0|            0|                     0|                         0|                  0|             0|               0|                       0|            0|          0|                     1|              0|                       0|            1|            0|            0|            0|            0|            0|            0|            0|            0|            0|            0|            0|            0|            0|            0|            0|            0|            0|            0|            0|            0|            0|            0|            0|            0|            0|            0|            0|            0|            0|            0|            0|            0|            0|            0|            0|            0|            0|            0|            0|            0|            0|            0|            0|            0|            0|            0|            0|            0|            0|             10|         0|0.21181359807550515|\n",
      "|  10000.0|    10000.0|        10000.0|    6.49|     306.45|   85000.0|13.07|        0.0|          689.0|           1.0|    14.0|    1.0|  10464.0|      34.5|     23.0|              715.0|        2.0|        1.0|        0.0|        0.0|              35.0|     17493.0|   57.0|        2.0|        7.0|    2524.0|    46.0|   2.0|        0.0|         1.0|                 7.0|     1997.0|        8182.0|   50.1|                     0.0|        0.0|             164.0|               129.0|                  1.0|           1.0|     1.0|                 4.0|                  1.0|                  0.0|           6.0|            9.0|        7.0|     10.0|      3.0|         13.0|         19.0|                9.0|    14.0|             0.0|         0.0|               0.0|               2.0|          95.7|            28.6|                 1.0|      0.0|        61099.0|          27957.0|       16400.0|                   30799.0|      0.0|                     0.0|                  0.0|            0.0|      0|      0|      0|      0|      0|      1|      0|           0|           0|           0|           1|           0|           0|           0|           0|           0|           0|           0|           0|           0|           0|           0|           0|           0|           0|           0|           0|           0|           0|           0|           0|           0|           0|           0|           0|           0|           0|           0|           0|           0|           0|           0|                 0|                  1|                      0|                 0|                  0|                           0|                                  0|                               1|              0|            0|                     0|                         0|                  1|             0|               0|                       0|            0|          0|                     0|              0|                       0|            0|            0|            0|            0|            0|            0|            0|            0|            0|            0|            0|            0|            0|            0|            0|            0|            0|            0|            0|            0|            0|            0|            0|            0|            0|            0|            0|            0|            0|            0|            0|            0|            0|            0|            0|            1|            0|            0|            0|            0|            0|            0|            0|            0|            0|            0|            0|            0|            0|            0|              6|         0|0.21181359807550515|\n",
      "|   8000.0|     8000.0|         8000.0|   11.48|     263.74|   42000.0| 34.8|        0.0|          704.0|           0.0|     8.0|    0.0|   7034.0|      39.1|     18.0|              675.0|        0.0|        2.0|        2.0|        3.0|              10.0|    106748.0|   72.0|        0.0|        2.0|    4725.0|    49.0|   0.0|        0.0|         1.0|                 5.0|    28528.0|        9966.0|   41.4|                     0.0|        0.0|             155.0|               253.0|                 15.0|          10.0|     1.0|                50.0|                 10.0|                  1.0|           3.0|            3.0|        3.0|      6.0|      5.0|          5.0|         11.0|                3.0|     8.0|             0.0|         0.0|               0.0|               2.0|          94.4|            33.3|                 0.0|      0.0|       256513.0|         113782.0|       17000.0|                  135513.0|      0.0|                     0.0|                  0.0|            0.0|      0|      0|      1|      0|      0|      0|      0|           0|           0|           0|           0|           0|           0|           0|           0|           0|           0|           0|           0|           0|           0|           0|           0|           0|           0|           0|           0|           1|           0|           0|           0|           0|           0|           0|           0|           0|           0|           0|           0|           0|           0|           0|                 0|                  0|                      1|                 0|                  0|                           0|                                  0|                               1|              0|            0|                     0|                         0|                  1|             0|               0|                       0|            0|          0|                     0|              0|                       0|            0|            0|            0|            0|            0|            0|            0|            0|            1|            0|            0|            0|            0|            0|            0|            0|            0|            0|            0|            0|            0|            0|            0|            0|            0|            0|            0|            0|            0|            0|            0|            0|            0|            0|            0|            0|            0|            0|            0|            0|            0|            0|            0|            0|            0|            0|            0|            0|            0|            0|             10|         0|0.21181359807550515|\n",
      "|   1400.0|     1400.0|         1400.0|   12.88|       47.1|   64000.0|34.95|        0.0|          704.0|           0.0|    17.0|    0.0|  37828.0|      67.2|     24.0|              700.0|        1.0|        3.0|        1.0|        2.0|               2.0|     37430.0|   67.0|        0.0|        2.0|    7386.0|    67.0|   0.0|        2.0|         0.0|                 4.0|    19159.0|        7940.0|   77.0|                     0.0|        0.0|              46.0|               234.0|                 18.0|           2.0|     4.0|                28.0|                 18.0|                  0.0|           7.0|           11.0|        8.0|     11.0|      3.0|         12.0|         17.0|               11.0|    17.0|             0.0|         0.0|               0.0|               1.0|         100.0|            75.0|                 0.0|      0.0|       372109.0|          75258.0|       34500.0|                   55501.0|      0.0|                     0.0|                  0.0|            0.0|      0|      0|      0|      0|      1|      0|      0|           0|           0|           0|           0|           0|           0|           0|           0|           0|           0|           0|           0|           0|           0|           0|           0|           0|           0|           0|           0|           0|           0|           0|           0|           0|           0|           0|           0|           1|           0|           0|           0|           0|           0|           0|                 0|                  0|                      1|                 0|                  0|                           0|                                  0|                               1|              0|            1|                     0|                         0|                  0|             0|               0|                       0|            0|          0|                     0|              0|                       0|            0|            0|            0|            0|            0|            0|            0|            0|            0|            0|            0|            0|            0|            0|            0|            0|            0|            0|            0|            0|            1|            0|            0|            0|            0|            0|            0|            0|            0|            0|            0|            0|            0|            0|            0|            0|            0|            0|            0|            0|            0|            0|            0|            0|            0|            0|            0|            0|            0|            0|              3|         0|0.21181359807550515|\n",
      "|  18000.0|    18000.0|        18000.0|   19.48|      471.7|  150000.0| 9.39|        0.0|          669.0|           1.0|    18.0|    1.0|  14052.0|      40.7|     27.0|              580.0|        2.0|        2.0|        1.0|        3.0|               2.0|     22195.0|   71.0|        2.0|        4.0|    1271.0|    55.0|   2.0|        1.0|         2.0|                 7.0|     2014.0|        5128.0|   51.3|                     0.0|        0.0|             115.0|               112.0|                  1.0|           1.0|     2.0|                 9.0|                  2.0|                  0.0|           6.0|           13.0|        7.0|      8.0|      6.0|         16.0|         19.0|               13.0|    18.0|             0.0|         0.0|               0.0|               3.0|         100.0|            14.3|                 1.0|      0.0|        65819.0|          36247.0|       10300.0|                   31319.0|      1.0|                     0.0|                  0.0|            0.0|      0|      1|      0|      0|      0|      0|      0|           0|           0|           0|           0|           0|           0|           0|           0|           0|           0|           0|           0|           0|           0|           0|           0|           0|           0|           0|           0|           0|           0|           0|           0|           0|           0|           0|           0|           0|           0|           1|           0|           0|           0|           0|                 0|                  1|                      0|                 0|                  0|                           0|                                  0|                               1|              0|            0|                     0|                         1|                  0|             0|               0|                       0|            0|          0|                     0|              0|                       0|            0|            0|            0|            0|            0|            0|            0|            0|            0|            0|            0|            0|            0|            0|            0|            0|            1|            0|            0|            0|            0|            0|            0|            0|            0|            0|            0|            0|            0|            0|            0|            0|            0|            0|            0|            0|            0|            0|            0|            0|            0|            0|            0|            0|            0|            0|            0|            0|            0|            0|              7|         1| 0.7881864019244949|\n",
      "|   9600.0|     9600.0|         9600.0|    7.49|     298.58|   60000.0|22.44|        0.0|          699.0|           0.0|     7.0|    0.0|   7722.0|      59.4|      9.0|              775.0|        0.0|        3.0|        0.0|        0.0|              47.0|     47665.0|   43.0|        2.0|        2.0|    4744.0|    50.0|   0.0|        0.0|         2.0|                 2.0|     7912.0|        4778.0|   61.8|                     0.0|        0.0|             234.0|                91.0|                  9.0|           9.0|     0.0|                11.0|                  9.0|                  0.0|           3.0|            3.0|        3.0|      3.0|      5.0|          4.0|          4.0|                3.0|     7.0|             0.0|         0.0|               0.0|               2.0|         100.0|            66.7|                 0.0|      0.0|        88635.0|          55387.0|       12500.0|                   75635.0|      0.0|                     0.0|                  0.0|            0.0|      0|      0|      0|      0|      0|      1|      0|           0|           0|           0|           0|           0|           0|           0|           0|           0|           0|           0|           0|           0|           0|           0|           0|           0|           0|           1|           0|           0|           0|           0|           0|           0|           0|           0|           0|           0|           0|           0|           0|           0|           0|           0|                 0|                  0|                      1|                 0|                  0|                           0|                                  0|                               1|              0|            0|                     0|                         0|                  1|             0|               0|                       0|            0|          0|                     0|              0|                       0|            1|            0|            0|            0|            0|            0|            0|            0|            0|            0|            0|            0|            0|            0|            0|            0|            0|            0|            0|            0|            0|            0|            0|            0|            0|            0|            0|            0|            0|            0|            0|            0|            0|            0|            0|            0|            0|            0|            0|            0|            0|            0|            0|            0|            0|            0|            0|            0|            0|            0|              8|         0|0.21181359807550515|\n",
      "|  25000.0|    25000.0|        25000.0|    7.49|     777.55|  109000.0|26.02|        0.0|          749.0|           1.0|     9.0|    0.0|  20862.0|      54.3|     19.0|              720.0|        0.0|        3.0|        0.0|        1.0|              13.0|     47194.0|   58.0|        0.0|        1.0|    8937.0|    57.0|   1.0|        0.0|         1.0|                 2.0|    33976.0|       17538.0|   54.3|                     0.0|        0.0|             142.0|               168.0|                 13.0|          13.0|     3.0|                13.0|                  0.0|                  0.0|           3.0|            3.0|        5.0|      6.0|      7.0|          5.0|          9.0|                3.0|     9.0|             0.0|         0.0|               0.0|               0.0|         100.0|            20.0|                 0.0|      0.0|       373572.0|          68056.0|       38400.0|                   82117.0|      0.0|                     0.0|                  0.0|            0.0|      0|      0|      0|      0|      0|      1|      0|           0|           0|           0|           0|           0|           0|           0|           0|           0|           0|           0|           0|           0|           0|           0|           0|           0|           0|           1|           0|           0|           0|           0|           0|           0|           0|           0|           0|           0|           0|           0|           0|           0|           0|           0|                 0|                  0|                      1|                 0|                  0|                           0|                                  0|                               1|              0|            0|                     0|                         1|                  0|             0|               0|                       0|            0|          0|                     0|              0|                       0|            0|            0|            0|            0|            0|            0|            0|            1|            0|            0|            0|            0|            0|            0|            0|            0|            0|            0|            0|            0|            0|            0|            0|            0|            0|            0|            0|            0|            0|            0|            0|            0|            0|            0|            0|            0|            0|            0|            0|            0|            0|            0|            0|            0|            0|            0|            0|            0|            0|            0|             10|         0|0.21181359807550515|\n",
      "|  18000.0|    18000.0|        18000.0|   11.99|     400.31|  112000.0| 8.68|        0.0|          804.0|           0.0|    17.0|    0.0|  10711.0|      15.5|     27.0|              790.0|        3.0|        1.0|        2.0|        2.0|               3.0|     25416.0|   97.0|        2.0|        3.0|    7672.0|    38.0|   0.0|        1.0|         1.0|                 5.0|    17089.0|       60336.0|   16.7|                     0.0|        0.0|             109.0|               265.0|                  1.0|           1.0|     4.0|                 1.0|                 10.0|                  0.0|           5.0|            6.0|       12.0|     12.0|      6.0|         15.0|         17.0|                6.0|    16.0|             0.0|         0.0|               0.0|               4.0|         100.0|             0.0|                 0.0|      0.0|       309710.0|          36127.0|       69800.0|                   26210.0|      1.0|                     0.0|                  0.0|            0.0|      0|      0|      0|      0|      1|      0|      0|           0|           0|           0|           0|           0|           0|           0|           0|           0|           0|           0|           0|           0|           0|           0|           0|           0|           0|           0|           0|           0|           0|           0|           0|           1|           0|           0|           0|           0|           0|           0|           0|           0|           0|           0|                 0|                  0|                      1|                 0|                  0|                           0|                                  0|                               1|              0|            0|                     0|                         1|                  0|             0|               0|                       0|            0|          0|                     0|              0|                       0|            0|            1|            0|            0|            0|            0|            0|            0|            0|            0|            0|            0|            0|            0|            0|            0|            0|            0|            0|            0|            0|            0|            0|            0|            0|            0|            0|            0|            0|            0|            0|            0|            0|            0|            0|            0|            0|            0|            0|            0|            0|            0|            0|            0|            0|            0|            0|            0|            0|            0|             10|         0|0.21181359807550515|\n",
      "|  29900.0|    29900.0|        29900.0|   12.88|     678.49|   65000.0|21.77|        0.0|          719.0|           0.0|    15.0|    0.0|  31682.0|      46.7|     31.0|              715.0|        2.0|        1.0|        1.0|        2.0|               9.0|     10815.0|   69.0|        3.0|        5.0|   12971.0|    51.0|   0.0|        4.0|         1.0|                 7.0|    15732.0|       18383.0|   45.9|                     0.0|        0.0|             114.0|               139.0|                  5.0|           5.0|     2.0|                 5.0|                  9.0|                  0.0|           2.0|            5.0|        4.0|      9.0|      8.0|         13.0|         21.0|                5.0|    15.0|             0.0|         0.0|               0.0|               4.0|         100.0|            25.0|                 0.0|      0.0|       271700.0|          42497.0|       34000.0|                   15574.0|      1.0|                     0.0|                  0.0|            0.0|      0|      0|      0|      0|      1|      0|      0|           0|           0|           0|           0|           0|           0|           0|           0|           0|           0|           0|           0|           0|           0|           0|           0|           0|           0|           0|           0|           0|           0|           0|           0|           0|           0|           0|           0|           1|           0|           0|           0|           0|           0|           0|                 0|                  0|                      1|                 0|                  0|                           1|                                  0|                               0|              0|            0|                     0|                         1|                  0|             0|               0|                       0|            0|          0|                     0|              0|                       0|            0|            0|            0|            0|            0|            0|            0|            0|            0|            0|            0|            0|            0|            0|            0|            0|            0|            0|            0|            0|            0|            0|            1|            0|            0|            0|            0|            0|            0|            0|            0|            0|            0|            0|            0|            0|            0|            0|            0|            0|            0|            0|            0|            0|            0|            0|            0|            0|            0|            0|             10|         0|0.21181359807550515|\n",
      "|  16000.0|    16000.0|        16000.0|   14.85|     379.39|   48000.0|33.18|        0.0|          689.0|           0.0|    11.0|    2.0|  19108.0|      29.6|     19.0|              660.0|        1.0|        2.0|        1.0|        2.0|               6.0|     12221.0|   91.0|        1.0|        4.0|   14982.0|    65.0|   0.0|        0.0|         1.0|                 6.0|     2848.0|      263953.0|   17.6|                     0.0|        0.0|             131.0|               294.0|                 11.0|           6.0|     2.0|                11.0|                 11.0|                  2.0|           6.0|            9.0|        6.0|      8.0|      6.0|          9.0|         11.0|                9.0|    11.0|             0.0|         0.0|               0.0|               2.0|          78.9|             0.0|                 0.0|      2.0|       298100.0|          31329.0|      281300.0|                   13400.0|      1.0|                     0.0|                  0.0|            0.0|      0|      0|      0|      0|      1|      0|      0|           0|           0|           0|           0|           0|           0|           0|           0|           0|           0|           0|           0|           0|           0|           0|           0|           1|           0|           0|           0|           0|           0|           0|           0|           0|           0|           0|           0|           0|           0|           0|           0|           0|           0|           0|                 0|                  0|                      1|                 0|                  0|                           0|                                  0|                               1|              0|            0|                     0|                         0|                  1|             0|               0|                       0|            0|          0|                     0|              0|                       0|            1|            0|            0|            0|            0|            0|            0|            0|            0|            0|            0|            0|            0|            0|            0|            0|            0|            0|            0|            0|            0|            0|            0|            0|            0|            0|            0|            0|            0|            0|            0|            0|            0|            0|            0|            0|            0|            0|            0|            0|            0|            0|            0|            0|            0|            0|            0|            0|            0|            0|             10|         0|0.21181359807550515|\n",
      "|   5000.0|     5000.0|         5000.0|   13.44|     169.54|   79000.0| 12.7|        0.0|          669.0|           0.0|     3.0|    0.0|   9441.0|     101.5|      5.0|              655.0|        0.0|        1.0|        0.0|        1.0|              19.0|     26212.0|   83.0|        0.0|        0.0|    4360.0|    87.0|   2.0|        0.0|         0.0|                 1.0|    11884.0|           0.0|  101.4|                     0.0|        0.0|              50.0|                36.0|                 32.0|          19.0|     0.0|                36.0|                 19.0|                  0.0|           1.0|            2.0|        1.0|      1.0|      3.0|          2.0|          2.0|                2.0|     3.0|             0.0|         0.0|               0.0|               0.0|         100.0|           100.0|                 0.0|      0.0|        41091.0|          35653.0|        4300.0|                   31791.0|      0.0|                     0.0|                  0.0|            0.0|      0|      0|      0|      0|      1|      0|      0|           0|           0|           0|           0|           0|           0|           1|           0|           0|           0|           0|           0|           0|           0|           0|           0|           0|           0|           0|           0|           0|           0|           0|           0|           0|           0|           0|           0|           0|           0|           0|           0|           0|           0|           0|                 0|                  1|                      0|                 0|                  0|                           1|                                  0|                               0|              0|            0|                     0|                         0|                  1|             0|               0|                       0|            0|          0|                     0|              0|                       0|            0|            0|            0|            0|            0|            0|            0|            0|            0|            0|            0|            0|            0|            0|            0|            0|            0|            0|            0|            0|            0|            0|            1|            0|            0|            0|            0|            0|            0|            0|            0|            0|            0|            0|            0|            0|            0|            0|            0|            0|            0|            0|            0|            0|            0|            0|            0|            0|            0|            0|              2|         0|0.21181359807550515|\n",
      "|   6000.0|     6000.0|         6000.0|    7.49|     186.61|  100000.0|13.28|        1.0|          699.0|           1.0|     9.0|    0.0|   8563.0|      72.0|     16.0|              715.0|        0.0|        2.0|        0.0|        0.0|              28.0|     12525.0|   35.0|        0.0|        1.0|    2260.0|    45.0|   0.0|        1.0|         1.0|                 1.0|    12911.0|         437.0|   88.5|                     0.0|        0.0|             124.0|               259.0|                 18.0|          18.0|     2.0|                36.0|                  6.0|                  0.0|           2.0|            4.0|        2.0|      6.0|      4.0|          5.0|          9.0|                4.0|     9.0|             0.0|         0.0|               0.0|               0.0|          93.7|            50.0|                 0.0|      0.0|       156354.0|          22741.0|        3800.0|                   36083.0|      0.0|                     0.0|                  0.0|            0.0|      0|      0|      0|      0|      0|      1|      0|           0|           0|           0|           0|           0|           0|           0|           0|           0|           0|           0|           0|           0|           0|           0|           0|           0|           0|           1|           0|           0|           0|           0|           0|           0|           0|           0|           0|           0|           0|           0|           0|           0|           0|           0|                 0|                  0|                      1|                 0|                  0|                           0|                                  0|                               1|              0|            0|                     0|                         1|                  0|             0|               0|                       0|            0|          0|                     0|              0|                       0|            0|            0|            0|            0|            0|            0|            0|            0|            0|            0|            0|            0|            0|            0|            0|            0|            0|            0|            0|            0|            0|            0|            0|            0|            0|            0|            0|            0|            0|            0|            0|            0|            0|            0|            0|            0|            0|            0|            1|            0|            0|            0|            0|            0|            0|            0|            0|            0|            0|            0|             10|         0|0.21181359807550515|\n",
      "|   4225.0|     4225.0|         4225.0|   14.85|     146.16|   35000.0|15.22|        2.0|          729.0|           0.0|     6.0|    0.0|   1058.0|      24.6|      6.0|                0.0|        0.0|        1.0|        0.0|        0.0|              47.0|      3830.0|   22.0|        0.0|        0.0|     367.0|    22.0|   0.0|        0.0|         0.0|                 0.0|      815.0|        2233.0|   14.1|                     0.0|        0.0|              47.0|                53.0|                 26.0|          26.0|     0.0|                26.0|                 14.0|                  0.0|           1.0|            2.0|        3.0|      3.0|      1.0|          5.0|          5.0|                2.0|     6.0|             0.0|         0.0|               0.0|               0.0|          66.7|             0.0|                 0.0|      0.0|        21822.0|           4888.0|        2600.0|                   17522.0|      0.0|                     0.0|                  0.0|            0.0|      0|      0|      0|      0|      1|      0|      0|           0|           0|           0|           0|           0|           0|           0|           0|           0|           0|           0|           0|           0|           0|           0|           0|           1|           0|           0|           0|           0|           0|           0|           0|           0|           0|           0|           0|           0|           0|           0|           0|           0|           0|           0|                 0|                  1|                      0|                 0|                  0|                           0|                                  1|                               0|              0|            0|                     0|                         1|                  0|             0|               0|                       0|            0|          0|                     0|              0|                       0|            0|            0|            0|            0|            0|            0|            0|            0|            0|            0|            0|            0|            0|            0|            0|            0|            0|            0|            0|            0|            0|            0|            0|            0|            0|            0|            0|            0|            0|            0|            0|            0|            0|            0|            0|            0|            0|            0|            0|            0|            0|            0|            1|            0|            0|            0|            0|            0|            0|            0|              5|         1| 0.7881864019244949|\n",
      "|  20000.0|    20000.0|        20000.0|    5.32|      602.3|   65000.0|18.83|        0.0|          839.0|           1.0|    12.0|    0.0|   2269.0|       3.0|     17.0|              805.0|        0.0|        2.0|        0.0|        1.0|              15.0|     13175.0|   44.0|        0.0|        1.0|    1448.0|    15.0|   2.0|        0.0|         1.0|                 2.0|     1287.0|       73931.0|    3.0|                     0.0|        0.0|              63.0|               295.0|                 19.0|          15.0|     0.0|                19.0|                  4.0|                  0.0|           3.0|            3.0|       10.0|     11.0|      4.0|         10.0|         13.0|                3.0|    12.0|             0.0|         0.0|               0.0|               0.0|         100.0|             0.0|                 0.0|      0.0|       106217.0|          15444.0|       76200.0|                   30017.0|      0.0|                     0.0|                  0.0|            0.0|      0|      0|      0|      0|      0|      1|      0|           0|           0|           0|           0|           0|           0|           0|           0|           0|           0|           0|           0|           0|           0|           0|           0|           0|           0|           0|           0|           0|           0|           0|           0|           0|           0|           0|           0|           0|           0|           0|           0|           0|           0|           1|                 1|                  0|                      0|                 0|                  0|                           0|                                  0|                               1|              0|            0|                     0|                         1|                  0|             0|               0|                       0|            0|          0|                     0|              0|                       0|            0|            0|            0|            0|            0|            0|            0|            0|            0|            0|            0|            0|            0|            0|            0|            0|            0|            0|            0|            0|            0|            0|            0|            0|            0|            0|            0|            0|            0|            0|            0|            0|            0|            0|            0|            0|            0|            1|            0|            0|            0|            0|            0|            0|            0|            0|            0|            0|            0|            0|              9|         0|0.21181359807550515|\n",
      "|  16000.0|    16000.0|        16000.0|   17.97|     406.04|  109000.0|23.35|        0.0|          684.0|           1.0|    11.0|    0.0|  42469.0|      87.6|     33.0|              675.0|        2.0|        2.0|        2.0|        2.0|               3.0|     20689.0|   94.0|        1.0|        3.0|    8897.0|    90.0|   0.0|        3.0|         1.0|                 5.0|    16631.0|           0.0|  100.8|                     0.0|        0.0|             149.0|               164.0|                  3.0|           3.0|     1.0|                13.0|                  1.0|                  0.0|           3.0|            6.0|        3.0|     13.0|     10.0|          8.0|         22.0|                6.0|    11.0|             0.0|         0.0|               0.0|               3.0|         100.0|           100.0|                 0.0|      0.0|       228050.0|          63158.0|       15800.0|                   22000.0|      1.0|                     0.0|                  0.0|            0.0|      0|      0|      0|      1|      0|      0|      0|           0|           0|           0|           0|           0|           0|           0|           0|           0|           0|           0|           0|           0|           0|           0|           0|           0|           0|           0|           0|           0|           0|           0|           0|           0|           0|           0|           0|           0|           1|           0|           0|           0|           0|           0|                 0|                  0|                      1|                 0|                  0|                           0|                                  1|                               0|              0|            0|                     0|                         1|                  0|             0|               0|                       0|            0|          0|                     0|              0|                       0|            0|            0|            0|            0|            0|            0|            0|            0|            0|            0|            0|            0|            0|            0|            0|            0|            0|            0|            0|            0|            0|            0|            0|            0|            0|            0|            0|            0|            0|            0|            0|            0|            0|            0|            1|            0|            0|            0|            0|            0|            0|            0|            0|            0|            0|            0|            0|            0|            0|            0|              0|         0|0.21181359807550515|\n",
      "+---------+-----------+---------------+--------+-----------+----------+-----+-----------+---------------+--------------+--------+-------+---------+----------+---------+-------------------+-----------+-----------+-----------+-----------+------------------+------------+-------+-----------+-----------+----------+--------+------+-----------+------------+--------------------+-----------+--------------+-------+------------------------+-----------+------------------+--------------------+---------------------+--------------+--------+--------------------+---------------------+---------------------+--------------+---------------+-----------+---------+---------+-------------+-------------+-------------------+--------+----------------+------------+------------------+------------------+--------------+----------------+--------------------+---------+---------------+-----------------+--------------+--------------------------+---------+------------------------+---------------------+---------------+-------+-------+-------+-------+-------+-------+-------+------------+------------+------------+------------+------------+------------+------------+------------+------------+------------+------------+------------+------------+------------+------------+------------+------------+------------+------------+------------+------------+------------+------------+------------+------------+------------+------------+------------+------------+------------+------------+------------+------------+------------+------------+------------------+-------------------+-----------------------+------------------+-------------------+----------------------------+-----------------------------------+--------------------------------+---------------+-------------+----------------------+--------------------------+-------------------+--------------+----------------+------------------------+-------------+-----------+----------------------+---------------+------------------------+-------------+-------------+-------------+-------------+-------------+-------------+-------------+-------------+-------------+-------------+-------------+-------------+-------------+-------------+-------------+-------------+-------------+-------------+-------------+-------------+-------------+-------------+-------------+-------------+-------------+-------------+-------------+-------------+-------------+-------------+-------------+-------------+-------------+-------------+-------------+-------------+-------------+-------------+-------------+-------------+-------------+-------------+-------------+-------------+-------------+-------------+-------------+-------------+-------------+-------------+---------------+----------+-------------------+\n",
      "only showing top 20 rows\n",
      "\n"
     ]
    }
   ],
   "source": [
    "# drop rows with id=100 \n",
    "data_2.where(data_2.ClassLable !='100').show()"
   ]
  },
  {
   "cell_type": "code",
   "execution_count": 48,
   "metadata": {},
   "outputs": [
    {
     "name": "stdout",
     "output_type": "stream",
     "text": [
      "+----------+------+\n",
      "|ClassLable| count|\n",
      "+----------+------+\n",
      "|         1| 59912|\n",
      "|         0|222331|\n",
      "+----------+------+\n",
      "\n"
     ]
    }
   ],
   "source": [
    "trainingSetDF.groupby(\"ClassLable\").count().show()"
   ]
  },
  {
   "cell_type": "markdown",
   "metadata": {},
   "source": [
    "### Feature Selection Using Random Forest"
   ]
  },
  {
   "cell_type": "code",
   "execution_count": 49,
   "metadata": {},
   "outputs": [],
   "source": [
    "rf = RandomForestClassifier(labelCol=\"ClassLable\", featuresCol=\"features\",maxDepth=4, numTrees=30)\n",
    "model = rf.fit(trainingSetDF)"
   ]
  },
  {
   "cell_type": "code",
   "execution_count": 50,
   "metadata": {},
   "outputs": [],
   "source": [
    "def ExtractFeatureImp(featureImp, dataset, featuresCol):\n",
    "    list_extract = []\n",
    "    for i in dataset.schema[featuresCol].metadata[\"ml_attr\"][\"attrs\"]:\n",
    "        list_extract = list_extract + dataset.schema[featuresCol].metadata[\"ml_attr\"][\"attrs\"][i]\n",
    "    varlist = pd.DataFrame(list_extract)\n",
    "    varlist['score'] = varlist['idx'].apply(lambda x: featureImp[x])\n",
    "    return(varlist.sort_values('score', ascending = False))\n",
    "\n",
    "importance = ExtractFeatureImp(model.featureImportances, trainingSetDF,\"features\")\n",
    "#importance\n",
    "\n",
    "#pd.set_option('dispaly.max_rows',None)\n",
    "Selected_features = importance[importance['score']>=0.000100]\n",
    "Best = Selected_features['idx'].values"
   ]
  },
  {
   "cell_type": "code",
   "execution_count": 51,
   "metadata": {},
   "outputs": [],
   "source": [
    "Best = list(Best)"
   ]
  },
  {
   "cell_type": "code",
   "execution_count": 52,
   "metadata": {},
   "outputs": [],
   "source": [
    "from pyspark.ml.linalg import Vectors\n",
    "slicer = VectorSlicer(inputCol=\"features\", outputCol=\"features2\", indices=Best)\n",
    "Final_Dataset = slicer.transform(data_Trans2)"
   ]
  },
  {
   "cell_type": "code",
   "execution_count": 53,
   "metadata": {},
   "outputs": [
    {
     "data": {
      "text/plain": [
       "DataFrame[loan_amnt: double, funded_amnt: double, funded_amnt_inv: double, int_rate: double, installment: double, annual_inc: double, dti: double, delinq_2yrs: double, fico_range_high: double, inq_last_6mths: double, open_acc: double, pub_rec: double, revol_bal: double, revol_util: double, total_acc: double, last_fico_range_low: double, open_acc_6m: double, open_act_il: double, open_il_12m: double, open_il_24m: double, mths_since_rcnt_il: double, total_bal_il: double, il_util: double, open_rv_12m: double, open_rv_24m: double, max_bal_bc: double, all_util: double, inq_fi: double, total_cu_tl: double, inq_last_12m: double, acc_open_past_24mths: double, avg_cur_bal: double, bc_open_to_buy: double, bc_util: double, chargeoff_within_12_mths: double, delinq_amnt: double, mo_sin_old_il_acct: double, mo_sin_old_rev_tl_op: double, mo_sin_rcnt_rev_tl_op: double, mo_sin_rcnt_tl: double, mort_acc: double, mths_since_recent_bc: double, mths_since_recent_inq: double, num_accts_ever_120_pd: double, num_actv_bc_tl: double, num_actv_rev_tl: double, num_bc_sats: double, num_bc_tl: double, num_il_tl: double, num_op_rev_tl: double, num_rev_accts: double, num_rev_tl_bal_gt_0: double, num_sats: double, num_tl_120dpd_2m: double, num_tl_30dpd: double, num_tl_90g_dpd_24m: double, num_tl_op_past_12m: double, pct_tl_nvr_dlq: double, percent_bc_gt_75: double, pub_rec_bankruptcies: double, tax_liens: double, tot_hi_cred_lim: double, total_bal_ex_mort: double, total_bc_limit: double, total_il_high_credit_limit: double, termIndex: double, initial_list_statusIndex: double, application_typeIndex: double, pymnt_planIndex: double, grade_F: int, grade_E: int, grade_B: int, grade_D: int, grade_C: int, grade_A: int, grade_G: int, sub_grade_D5: int, sub_grade_F2: int, sub_grade_B4: int, sub_grade_A2: int, sub_grade_E4: int, sub_grade_B2: int, sub_grade_C3: int, sub_grade_D1: int, sub_grade_C4: int, sub_grade_F1: int, sub_grade_D3: int, sub_grade_F5: int, sub_grade_G2: int, sub_grade_B1: int, sub_grade_B3: int, sub_grade_E5: int, sub_grade_C5: int, sub_grade_G3: int, sub_grade_A4: int, sub_grade_F4: int, sub_grade_B5: int, sub_grade_E3: int, sub_grade_G4: int, sub_grade_D2: int, sub_grade_C1: int, sub_grade_F3: int, sub_grade_A5: int, sub_grade_E1: int, sub_grade_C2: int, sub_grade_D4: int, sub_grade_E2: int, sub_grade_A3: int, sub_grade_G5: int, sub_grade_G1: int, sub_grade_A1: int, home_ownership_OWN: int, home_ownership_RENT: int, home_ownership_MORTGAGE: int, home_ownership_ANY: int, home_ownership_NONE: int, verification_status_Verified: int, verification_status_Source Verified: int, verification_status_Not Verified: int, purpose_wedding: int, purpose_other: int, purpose_small_business: int, purpose_debt_consolidation: int, purpose_credit_card: int, purpose_moving: int, purpose_vacation: int, purpose_renewable_energy: int, purpose_house: int, purpose_car: int, purpose_major_purchase: int, purpose_medical: int, purpose_home_improvement: int, addr_state_SC: int, addr_state_AZ: int, addr_state_LA: int, addr_state_MN: int, addr_state_NJ: int, addr_state_DC: int, addr_state_OR: int, addr_state_VA: int, addr_state_RI: int, addr_state_KY: int, addr_state_WY: int, addr_state_NH: int, addr_state_MI: int, addr_state_NV: int, addr_state_WI: int, addr_state_ID: int, addr_state_CA: int, addr_state_NE: int, addr_state_CT: int, addr_state_MT: int, addr_state_NC: int, addr_state_VT: int, addr_state_MD: int, addr_state_DE: int, addr_state_MO: int, addr_state_IL: int, addr_state_ME: int, addr_state_WA: int, addr_state_ND: int, addr_state_MS: int, addr_state_AL: int, addr_state_IN: int, addr_state_OH: int, addr_state_TN: int, addr_state_NM: int, addr_state_PA: int, addr_state_SD: int, addr_state_NY: int, addr_state_TX: int, addr_state_WV: int, addr_state_GA: int, addr_state_MA: int, addr_state_KS: int, addr_state_FL: int, addr_state_CO: int, addr_state_AK: int, addr_state_AR: int, addr_state_OK: int, addr_state_UT: int, addr_state_HI: int, emp_lengthIndex: int, ClassLable: int, weightColumn: double, features: vector, label: double, features2: vector]"
      ]
     },
     "execution_count": 53,
     "metadata": {},
     "output_type": "execute_result"
    }
   ],
   "source": [
    "# Creating Training and Test set (70% , 30%)\n",
    "(trainingSetDF2, testSetDF2) = Final_Dataset.randomSplit([0.7, 0.3], 1395)\n",
    "\n",
    "trainingSetDF2.cache()\n",
    "testSetDF2.cache()"
   ]
  },
  {
   "cell_type": "markdown",
   "metadata": {},
   "source": [
    "### Computing the model evaluation matrix"
   ]
  },
  {
   "cell_type": "code",
   "execution_count": 54,
   "metadata": {},
   "outputs": [],
   "source": [
    "def getEvaluationMatrix(predicDF):\n",
    "    lablePrediction = predicDF.select( \"label\", \"prediction\")\n",
    "    lablePrediction.cache()\n",
    "    totalCount = lablePrediction.count()\n",
    "    correctCount = lablePrediction.filter(col(\"label\") == col(\"prediction\")).count()\n",
    "    wrongCount = lablePrediction.filter(~(col(\"label\") == col(\"prediction\"))).count()\n",
    "    trueP = lablePrediction.filter(col(\"label\") == 0.0).filter(col(\"label\") == col(\"prediction\")).count()\n",
    "    trueN = lablePrediction.filter(col(\"label\") == 1.0).filter(col(\"label\") == col(\"prediction\")).count()\n",
    "    falseN = lablePrediction.filter(col(\"label\") == 1.0).filter(~(col(\"label\") == col(\"prediction\"))).count()\n",
    "    falseP = lablePrediction.filter(col(\"label\") == 0.0).filter(~(col(\"label\") == col(\"prediction\"))).count()\n",
    "\n",
    "    ratioWrong = float(wrongCount) / float(totalCount) \n",
    "    ratioCorrect = float(correctCount)/ float(totalCount)\n",
    "\n",
    "    print(\"totalCount   - \", totalCount)\n",
    "    print(\"correctCount - \", correctCount)\n",
    "    print(\"wrongCount   - \", wrongCount)\n",
    "    print(\"trueP        - \", trueP)\n",
    "    print(\"trueN        - \", trueN)\n",
    "    print(\"falseN       - \", falseN)\n",
    "    print(\"falseP       - \", falseP)\n",
    "    print(\"ratioWrong   - \", ratioWrong)\n",
    "    print(\"ratioCorrect - \", ratioCorrect)\n",
    "    \n",
    "    precision = ((float(trueP) / (float(trueP) + float(falseP))) * 100 )\n",
    "    recall = ((float(trueP) / (float(trueP) + float(falseN))) * 100 )\n",
    "    print(\"Accuracy     - \", (trueP + trueN) / totalCount)\n",
    "    print(\"Precision    - \", precision)\n",
    "    print(\"Recall       - \", recall)\n",
    "    print(\"F-1 Score    - \", ((2* ( (precision*recall) / (precision + recall))) ))\n",
    "    print(\"Sensitivity  - \", ((float(trueP) / (float(trueP) + float(falseN))) * 100 ))\n",
    "    print(\"Specificity  - \", ((float(trueN) / (float(trueN) + float(falseP))) * 100 ))\n",
    "    \n",
    "    createROC(predictions)"
   ]
  },
  {
   "cell_type": "markdown",
   "metadata": {},
   "source": [
    "### Computing the ROC Curve"
   ]
  },
  {
   "cell_type": "code",
   "execution_count": 55,
   "metadata": {},
   "outputs": [],
   "source": [
    "def createROC(predictions):\n",
    "    results = predictions.select(['probability', 'label'])\n",
    " \n",
    "    ## prepare score-label set\n",
    "    results_collect = results.collect()\n",
    "    results_list = [(float(i[0][0]), 1.0-float(i[1])) for i in results_collect]\n",
    "    scoreAndLabels = spark.sparkContext.parallelize(results_list)\n",
    " \n",
    "    bcMetrics = BinaryClassificationMetrics(scoreAndLabels)\n",
    "    print(\"ROC score is - \", bcMetrics.areaUnderROC)\n",
    "        \n",
    "    fpr = dict()\n",
    "    tpr = dict()\n",
    "    roc_auc = dict()\n",
    " \n",
    "    y_test = [i[1] for i in results_list]\n",
    "    y_score = [i[0] for i in results_list]\n",
    " \n",
    "    fpr, tpr, _ = roc_curve(y_test, y_score)\n",
    "    roc_auc = auc(fpr, tpr)\n",
    " \n",
    "    plt.figure()\n",
    "    plt.plot(fpr, tpr, label='ROC curve (area = %0.2f)' % roc_auc)\n",
    "    plt.plot([0, 1], [0, 1], 'k--')\n",
    "    plt.xlim([0.0, 1.0])\n",
    "    plt.ylim([0.0, 1.05])\n",
    "    plt.xlabel('False Positive Rate')\n",
    "    plt.ylabel('True Positive Rate')\n",
    "    plt.title('Receiver operating characteristic example')\n",
    "    plt.legend(loc=\"lower right\")\n",
    "    plt.show()"
   ]
  },
  {
   "cell_type": "markdown",
   "metadata": {},
   "source": [
    "### Logistics Regression Classifier"
   ]
  },
  {
   "cell_type": "code",
   "execution_count": 56,
   "metadata": {
    "scrolled": true
   },
   "outputs": [
    {
     "name": "stdout",
     "output_type": "stream",
     "text": [
      "**** Running Logistic Regression Classifier with best parameter found using ML pipeline **** \n"
     ]
    }
   ],
   "source": [
    "%matplotlib inline\n",
    "print(\"**** Running Logistic Regression Classifier with best parameter found using ML pipeline **** \")\n",
    "\n",
    "# Create initial LogisticRegression model\n",
    "lr_classifier = LogisticRegression(labelCol=\"label\", featuresCol=\"features\", maxIter=3, weightCol=\"weightColumn\")\n",
    "#lr_classifier = LogisticRegression(labelCol=\"label\", featuresCol=\"pcaFeatures\", maxIter=10, weightCol=\"weightColumn\")\n",
    "\n",
    "# Train model with Training Data\n",
    "lrModel = lr_classifier.fit(trainingSetDF)\n",
    "\n",
    "# Make predictions on test data using the transform() method.\n",
    "# LogisticRegression.transform() will only use the 'features' column.\n",
    "predictions = lrModel.transform(testSetDF)\n",
    "\n",
    "# Evaluate model\n",
    "evaluator = MulticlassClassificationEvaluator( labelCol=\"label\")\n",
    "lr_accuracy = evaluator.evaluate(predictions)\n",
    "\n",
    "#print(lr_accuracy)"
   ]
  },
  {
   "cell_type": "code",
   "execution_count": 58,
   "metadata": {},
   "outputs": [
    {
     "name": "stdout",
     "output_type": "stream",
     "text": [
      "totalCount   -  120300\n",
      "correctCount -  118896\n",
      "wrongCount   -  1404\n",
      "trueP        -  93619\n",
      "trueN        -  25277\n",
      "falseN       -  74\n",
      "falseP       -  1330\n",
      "ratioWrong   -  0.011670822942643391\n",
      "ratioCorrect -  0.9883291770573566\n",
      "Accuracy     -  0.9883291770573566\n",
      "Precision    -  98.59924801735669\n",
      "Recall       -  99.92101864600343\n",
      "F-1 Score    -  99.25573308171032\n",
      "Sensitivity  -  99.92101864600343\n",
      "Specificity  -  95.00131544330439\n",
      "ROC score is -  0.9991843845005205\n"
     ]
    },
    {
     "data": {
      "image/png": "[encoded data removed]",
      "text/plain": [
       "<Figure size 432x288 with 1 Axes>"
      ]
     },
     "metadata": {
      "needs_background": "light"
     },
     "output_type": "display_data"
    }
   ],
   "source": [
    "getEvaluationMatrix(predictions)"
   ]
  },
  {
   "cell_type": "markdown",
   "metadata": {},
   "source": [
    "### NaiveBayes Classifier"
   ]
  },
  {
   "cell_type": "code",
   "execution_count": 59,
   "metadata": {},
   "outputs": [
    {
     "name": "stdout",
     "output_type": "stream",
     "text": [
      "**** Running NaiveBayes Classifier with best parameter found using ML pipeline **** \n",
      "totalCount   -  120300\n",
      "correctCount -  63408\n",
      "wrongCount   -  56892\n",
      "trueP        -  46117\n",
      "trueN        -  17291\n",
      "falseN       -  8060\n",
      "falseP       -  48832\n",
      "ratioWrong   -  0.47291770573566083\n",
      "ratioCorrect -  0.5270822942643392\n",
      "Accuracy     -  0.5270822942643392\n",
      "Precision    -  48.57028510042233\n",
      "Recall       -  85.12283810473079\n",
      "F-1 Score    -  61.849710982658955\n",
      "Sensitivity  -  85.12283810473079\n",
      "Specificity  -  26.149751221208962\n",
      "ROC score is -  0.5853009509371654\n"
     ]
    },
    {
     "data": {
      "image/png": "[encoded data removed]",
      "text/plain": [
       "<Figure size 432x288 with 1 Axes>"
      ]
     },
     "metadata": {
      "needs_background": "light"
     },
     "output_type": "display_data"
    }
   ],
   "source": [
    "print(\"**** Running NaiveBayes Classifier with best parameter found using ML pipeline **** \")\n",
    "# Create initial NaiveBayes model\n",
    "nb_classifier = NaiveBayes(labelCol=\"label\", featuresCol=\"features\", smoothing=50, weightCol=\"weightColumn\")\n",
    "#nb_classifier = NaiveBayes(labelCol=\"label\", featuresCol=\"pcaFeatures\", smoothing=50, weightCol=\"weightColumn\" )\n",
    "\n",
    "# Train model with Training Data\n",
    "nbModel = nb_classifier.fit(trainingSetDF)\n",
    "\n",
    "# Make predictions on test data using the transform() method.\n",
    "# NaiveBayes.transform() will only use the 'features' column.\n",
    "predictions = nbModel.transform(testSetDF)\n",
    "\n",
    "# Evaluate model\n",
    "evaluator = MulticlassClassificationEvaluator( labelCol=\"label\", predictionCol=\"prediction\", metricName=\"accuracy\")\n",
    "nb_accuracy = evaluator.evaluate(predictions)\n",
    "\n",
    "#print(nb_accuracy)\n",
    "\n",
    "getEvaluationMatrix(predictions)"
   ]
  },
  {
   "cell_type": "markdown",
   "metadata": {},
   "source": [
    "### Random Forest Classifier"
   ]
  },
  {
   "cell_type": "code",
   "execution_count": 62,
   "metadata": {},
   "outputs": [
    {
     "name": "stdout",
     "output_type": "stream",
     "text": [
      "**** Running Random Forest Classifier with best parameter found using ML pipeline **** \n",
      "totalCount   -  120300\n",
      "correctCount -  119323\n",
      "wrongCount   -  977\n",
      "trueP        -  94572\n",
      "trueN        -  24751\n",
      "falseN       -  600\n",
      "falseP       -  377\n",
      "ratioWrong   -  0.008121363258520366\n",
      "ratioCorrect -  0.9918786367414796\n",
      "Accuracy     -  0.9918786367414796\n",
      "Precision    -  99.60294473875449\n",
      "Recall       -  99.3695624763586\n",
      "F-1 Score    -  99.4861167361838\n",
      "Sensitivity  -  99.3695624763586\n",
      "Specificity  -  98.49968163005413\n"
     ]
    },
    {
     "name": "stderr",
     "output_type": "stream",
     "text": [
      "Exception ignored in: <function JavaModelWrapper.__del__ at 0x000001F544D10670>\n",
      "Traceback (most recent call last):\n",
      "  File \"C:\\Users\\PHATHUTSHEDZO\\anaconda3\\lib\\site-packages\\pyspark\\mllib\\common.py\", line 152, in __del__\n",
      "    assert self._sc._gateway is not None\n",
      "AttributeError: 'BinaryClassificationMetrics' object has no attribute '_sc'\n"
     ]
    },
    {
     "name": "stdout",
     "output_type": "stream",
     "text": [
      "ROC score is -  0.9996681532151581\n"
     ]
    },
    {
     "data": {
      "image/png": "[encoded data removed]",
      "text/plain": [
       "<Figure size 432x288 with 1 Axes>"
      ]
     },
     "metadata": {
      "needs_background": "light"
     },
     "output_type": "display_data"
    }
   ],
   "source": [
    "# Create initial Random Forest Classifier model\n",
    "print(\"**** Running Random Forest Classifier with best parameter found using ML pipeline **** \")\n",
    "rf_classifier = RandomForestClassifier( impurity=\"gini\", maxDepth=12, numTrees=10, featureSubsetStrategy=\"auto\", seed=1395)\n",
    "\n",
    "# Train model with Training Data\n",
    "rf_model = rf_classifier.fit(trainingSetDF)\n",
    "\n",
    "# Print the Forest tree rules. \n",
    "#rf_model.toDebugString\n",
    "\n",
    "# Make predictions on test data using the transform() method.\n",
    "# RandomForest.transform() will only use the 'features' column.\n",
    "predictions = rf_model.transform(testSetDF)\n",
    "\n",
    "#predictions.show(5)\n",
    "\n",
    "evaluator = MulticlassClassificationEvaluator( labelCol = \"label\" )\n",
    "rf_accuracy = evaluator.evaluate(predictions)\n",
    "\n",
    "#print(\"accuracy - \", rf_accuracy)\n",
    "\n",
    "getEvaluationMatrix(predictions)"
   ]
  },
  {
   "cell_type": "markdown",
   "metadata": {},
   "source": [
    "### Gradient Boosting Classifier"
   ]
  },
  {
   "cell_type": "code",
   "execution_count": 63,
   "metadata": {},
   "outputs": [
    {
     "name": "stdout",
     "output_type": "stream",
     "text": [
      "**** Running Gradient Boosting Classifier with best parameter found using ML pipeline **** \n",
      "totalCount   -  120300\n",
      "correctCount -  120300\n",
      "wrongCount   -  0\n",
      "trueP        -  94949\n",
      "trueN        -  25351\n",
      "falseN       -  0\n",
      "falseP       -  0\n",
      "ratioWrong   -  0.0\n",
      "ratioCorrect -  1.0\n",
      "Accuracy     -  1.0\n",
      "Precision    -  100.0\n",
      "Recall       -  100.0\n",
      "F-1 Score    -  100.0\n",
      "Sensitivity  -  100.0\n",
      "Specificity  -  100.0\n",
      "ROC score is -  1.0\n"
     ]
    },
    {
     "data": {
      "image/png": "[encoded data removed]",
      "text/plain": [
       "<Figure size 432x288 with 1 Axes>"
      ]
     },
     "metadata": {
      "needs_background": "light"
     },
     "output_type": "display_data"
    }
   ],
   "source": [
    "\n",
    "\n",
    "print(\"**** Running Gradient Boosting Classifier with best parameter found using ML pipeline **** \")\n",
    "\n",
    "# Create initial Gradient Boosting Classifier model\n",
    "gb_classifier = GBTClassifier(labelCol=\"label\", featuresCol=\"features\", maxDepth=5, maxBins=5, lossType=\"logistic\", maxIter=10, stepSize=.00000001)\n",
    "#gb_classifier = GBTClassifier(labelCol=\"label\", featuresCol=\"pcaFeatures\", maxDepth=1, maxBins=5, lossType=\"logistic\", maxIter=1, stepSize=.00000001)\n",
    "\n",
    "# Train model with Training Data\n",
    "gbModel = gb_classifier.fit(trainingSetDF)\n",
    "\n",
    "# Make predictions on test data using the transform() method.\n",
    "# NaiveBayes.transform() will only use the 'features' column.\n",
    "predictions = gbModel.transform(testSetDF)\n",
    "\n",
    "# Evaluate model\n",
    "evaluator = MulticlassClassificationEvaluator( labelCol=\"label\", predictionCol=\"prediction\", metricName=\"accuracy\")\n",
    "gb_accuracy = evaluator.evaluate(predictions)\n",
    "\n",
    "#print(gb_accuracy)\n",
    "\n",
    "getEvaluationMatrix(predictions)"
   ]
  },
  {
   "cell_type": "code",
   "execution_count": null,
   "metadata": {},
   "outputs": [],
   "source": []
  },
  {
   "cell_type": "code",
   "execution_count": null,
   "metadata": {},
   "outputs": [],
   "source": []
  },
  {
   "cell_type": "code",
   "execution_count": null,
   "metadata": {},
   "outputs": [],
   "source": []
  }
 ],
 "metadata": {
  "kernelspec": {
   "display_name": "Python 3 (ipykernel)",
   "language": "python",
   "name": "python3"
  },
  "language_info": {
   "codemirror_mode": {
    "name": "ipython",
    "version": 3
   },
   "file_extension": ".py",
   "mimetype": "text/x-python",
   "name": "python",
   "nbconvert_exporter": "python",
   "pygments_lexer": "ipython3",
   "version": "3.9.7"
  }
 },
 "nbformat": 4,
 "nbformat_minor": 4
}
